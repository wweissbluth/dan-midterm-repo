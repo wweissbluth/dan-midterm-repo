{
 "cells": [
  {
   "cell_type": "markdown",
   "metadata": {},
   "source": [
    "# Midterm \n",
    "\n",
    "[![Open in Colab](https://colab.research.google.com/assets/colab-badge.svg)](https://colab.research.google.com/github/wweissbluth/dan-midterm-repo/blob/main/midterm.ipynb)"
   ]
  },
  {
   "cell_type": "code",
   "execution_count": 1,
   "metadata": {},
   "outputs": [
    {
     "data": {
      "application/vnd.microsoft.datawrangler.viewer.v0+json": {
       "columns": [
        {
         "name": "index",
         "rawType": "int64",
         "type": "integer"
        },
        {
         "name": "Name of Satellite, Alternate Names",
         "rawType": "object",
         "type": "string"
        },
        {
         "name": "Current Official Name of Satellite",
         "rawType": "object",
         "type": "unknown"
        },
        {
         "name": "Country/Org of UN Registry",
         "rawType": "object",
         "type": "unknown"
        },
        {
         "name": "Country of Operator/Owner",
         "rawType": "object",
         "type": "string"
        },
        {
         "name": "Operator/Owner",
         "rawType": "object",
         "type": "string"
        },
        {
         "name": "Users",
         "rawType": "object",
         "type": "string"
        },
        {
         "name": "Purpose",
         "rawType": "object",
         "type": "string"
        },
        {
         "name": "Detailed Purpose",
         "rawType": "object",
         "type": "unknown"
        },
        {
         "name": "Class of Orbit",
         "rawType": "object",
         "type": "string"
        },
        {
         "name": "Type of Orbit",
         "rawType": "object",
         "type": "unknown"
        },
        {
         "name": "Longitude of GEO (degrees)",
         "rawType": "float64",
         "type": "float"
        },
        {
         "name": "Perigee (km)",
         "rawType": "float64",
         "type": "float"
        },
        {
         "name": "Apogee (km)",
         "rawType": "float64",
         "type": "float"
        },
        {
         "name": "Eccentricity",
         "rawType": "float64",
         "type": "float"
        },
        {
         "name": "Inclination (degrees)",
         "rawType": "float64",
         "type": "float"
        },
        {
         "name": "Period (minutes)",
         "rawType": "float64",
         "type": "float"
        },
        {
         "name": "Launch Mass (kg.)",
         "rawType": "float64",
         "type": "float"
        },
        {
         "name": "Dry Mass (kg.)",
         "rawType": "object",
         "type": "unknown"
        },
        {
         "name": "Power (watts)",
         "rawType": "object",
         "type": "unknown"
        },
        {
         "name": "Date of Launch",
         "rawType": "object",
         "type": "unknown"
        },
        {
         "name": "Expected Lifetime (yrs.)",
         "rawType": "float64",
         "type": "float"
        },
        {
         "name": "Contractor",
         "rawType": "object",
         "type": "string"
        },
        {
         "name": "Country of Contractor",
         "rawType": "object",
         "type": "string"
        },
        {
         "name": "Launch Site",
         "rawType": "object",
         "type": "string"
        },
        {
         "name": "Launch Vehicle",
         "rawType": "object",
         "type": "string"
        },
        {
         "name": "COSPAR Number",
         "rawType": "object",
         "type": "string"
        },
        {
         "name": "NORAD Number",
         "rawType": "int64",
         "type": "integer"
        },
        {
         "name": "Comments",
         "rawType": "object",
         "type": "unknown"
        },
        {
         "name": "Unnamed: 28",
         "rawType": "object",
         "type": "unknown"
        },
        {
         "name": "Source Used for Orbital Data",
         "rawType": "object",
         "type": "unknown"
        },
        {
         "name": "Source",
         "rawType": "object",
         "type": "unknown"
        },
        {
         "name": "Source.1",
         "rawType": "object",
         "type": "unknown"
        },
        {
         "name": "Source.2",
         "rawType": "object",
         "type": "unknown"
        },
        {
         "name": "Source.3",
         "rawType": "object",
         "type": "unknown"
        },
        {
         "name": "Source.4",
         "rawType": "object",
         "type": "unknown"
        },
        {
         "name": "Source.5",
         "rawType": "object",
         "type": "unknown"
        },
        {
         "name": "Source.6",
         "rawType": "object",
         "type": "unknown"
        },
        {
         "name": "Unnamed: 37",
         "rawType": "object",
         "type": "unknown"
        },
        {
         "name": "Unnamed: 38",
         "rawType": "object",
         "type": "unknown"
        },
        {
         "name": "Unnamed: 39",
         "rawType": "object",
         "type": "unknown"
        },
        {
         "name": "Unnamed: 40",
         "rawType": "object",
         "type": "unknown"
        },
        {
         "name": "Unnamed: 41",
         "rawType": "object",
         "type": "unknown"
        },
        {
         "name": "Unnamed: 42",
         "rawType": "object",
         "type": "unknown"
        },
        {
         "name": "Unnamed: 43",
         "rawType": "object",
         "type": "unknown"
        },
        {
         "name": "Unnamed: 44",
         "rawType": "object",
         "type": "unknown"
        },
        {
         "name": "Unnamed: 45",
         "rawType": "object",
         "type": "unknown"
        },
        {
         "name": "Unnamed: 46",
         "rawType": "object",
         "type": "unknown"
        },
        {
         "name": "Unnamed: 47",
         "rawType": "object",
         "type": "unknown"
        },
        {
         "name": "Unnamed: 48",
         "rawType": "object",
         "type": "unknown"
        },
        {
         "name": "Unnamed: 49",
         "rawType": "object",
         "type": "unknown"
        },
        {
         "name": "Unnamed: 50",
         "rawType": "object",
         "type": "unknown"
        },
        {
         "name": "Unnamed: 51",
         "rawType": "object",
         "type": "unknown"
        },
        {
         "name": "Unnamed: 52",
         "rawType": "object",
         "type": "unknown"
        },
        {
         "name": "Unnamed: 53",
         "rawType": "object",
         "type": "unknown"
        },
        {
         "name": "Unnamed: 54",
         "rawType": "object",
         "type": "unknown"
        },
        {
         "name": "Unnamed: 55",
         "rawType": "object",
         "type": "unknown"
        },
        {
         "name": "Unnamed: 56",
         "rawType": "object",
         "type": "unknown"
        },
        {
         "name": "Unnamed: 57",
         "rawType": "object",
         "type": "unknown"
        },
        {
         "name": "Unnamed: 58",
         "rawType": "object",
         "type": "unknown"
        },
        {
         "name": "Unnamed: 59",
         "rawType": "object",
         "type": "unknown"
        },
        {
         "name": "Unnamed: 60",
         "rawType": "object",
         "type": "unknown"
        },
        {
         "name": "Unnamed: 61",
         "rawType": "object",
         "type": "unknown"
        },
        {
         "name": "Unnamed: 62",
         "rawType": "object",
         "type": "unknown"
        },
        {
         "name": "Unnamed: 63",
         "rawType": "object",
         "type": "unknown"
        },
        {
         "name": "Unnamed: 64",
         "rawType": "object",
         "type": "unknown"
        },
        {
         "name": "Unnamed: 65",
         "rawType": "object",
         "type": "unknown"
        },
        {
         "name": "Unnamed: 66",
         "rawType": "object",
         "type": "unknown"
        },
        {
         "name": "Unnamed: 67",
         "rawType": "object",
         "type": "unknown"
        }
       ],
       "conversionMethod": "pd.DataFrame",
       "ref": "92695190-0afb-4bfb-9cc7-c8c5ade9495f",
       "rows": [
        [
         "0",
         "1HOPSAT-TD (1st-generation High Optical Performance Satellite)",
         "1HOPSAT-TD",
         "NR",
         "USA",
         "Hera Systems",
         "Commercial",
         "Earth Observation",
         "Infrared Imaging",
         "LEO",
         "Non-Polar Inclined",
         "0.0",
         "566.0",
         "576.0",
         "0.00151",
         "36.9",
         "96.08",
         "22.0",
         null,
         null,
         "2019-12-11 00:00:00",
         "0.5",
         "Hera Systems",
         "USA",
         "Satish Dhawan Space Centre",
         "PSLV",
         "2019-089H",
         "44859",
         "Pathfinder for planned earth observation constellation.",
         null,
         "JMSatcat/3_20",
         "https://spaceflightnow.com/2019/12/11/indias-50th-pslv-lifts-off-with-satellites-from-five-nations/",
         "https://www.herasys.com/",
         null,
         null,
         null,
         null,
         null,
         null,
         null,
         null,
         null,
         null,
         null,
         null,
         null,
         null,
         null,
         null,
         null,
         null,
         null,
         null,
         null,
         null,
         null,
         null,
         null,
         null,
         null,
         null,
         null,
         null,
         null,
         null,
         null,
         null,
         null,
         null
        ],
        [
         "1",
         "AAC AIS-Sat1 (Kelpie 1)",
         "AAC AIS-Sat1 (Kelpie 1)",
         "United Kingdom",
         "United Kingdom",
         "AAC Clyde Space",
         "Commercial",
         "Earth Observation",
         "Automatic Identification System (AIS)",
         "LEO",
         "Sun-Synchronous",
         "0.0",
         "637.0",
         "654.0",
         "0.00151",
         "98.0",
         "95.0",
         "4.0",
         "4",
         null,
         "2023-01-03 00:00:00",
         null,
         "AAC Clyde Space",
         "Sweden/UK/USA/Netherlands",
         "Cape Canaveral",
         "Falcon 9",
         "2023-001DC",
         "55107",
         "Provide AIS information to Orbcomm.",
         null,
         "JMSatcat/9_23",
         "https://www.aac-clyde.space/articles/aac-clyde-space-ais-communications-satellite-kelpie-1-successfully-launched-from-cape-canaveral",
         null,
         null,
         null,
         null,
         null,
         null,
         null,
         null,
         null,
         null,
         null,
         null,
         null,
         null,
         null,
         null,
         null,
         null,
         null,
         null,
         null,
         null,
         null,
         null,
         null,
         null,
         null,
         null,
         null,
         null,
         null,
         null,
         null,
         null,
         null,
         null,
         null
        ],
        [
         "2",
         "Aalto-1 ",
         "Aalto-1",
         "Finland",
         "Finland",
         "Aalto University",
         "Civil",
         "Technology Development",
         null,
         "LEO",
         "Sun-Synchronous",
         "0.0",
         "497.0",
         "517.0",
         "0.00145",
         "97.45",
         "94.7",
         "4.5",
         null,
         "4.5",
         "2017-06-23 00:00:00",
         "2.0",
         "Aalto University",
         "Finland",
         "Satish Dhawan Space Centre",
         "PSLV",
         "2017-036L",
         "42775",
         "Technology development and education.",
         null,
         "JMSatcat/10_17",
         "https://directory.eoportal.org/web/eoportal/satellite-missions/a/aalto-1",
         null,
         "http://www.planet4589.org/space/log/satcat.txt",
         null,
         null,
         null,
         null,
         null,
         null,
         null,
         null,
         null,
         null,
         null,
         null,
         null,
         null,
         null,
         null,
         null,
         null,
         null,
         null,
         null,
         null,
         null,
         null,
         null,
         null,
         null,
         null,
         null,
         null,
         null,
         null,
         null,
         null,
         null
        ],
        [
         "3",
         "AAt-4",
         "AAt-4",
         "Denmark",
         "Denmark",
         "University of Aalborg",
         "Civil",
         "Earth Observation",
         "Automatic Identification System (AIS)",
         "LEO",
         "Sun-Synchronous",
         "0.0",
         "442.0",
         "687.0",
         "0.00151",
         "98.2",
         "95.9",
         "1.0",
         null,
         null,
         "2016-04-25 00:00:00",
         null,
         "University of Aalborg",
         "Denmark",
         "Guiana Space Center",
         "Soyuz-2.1a",
         "2016-025E",
         "41460",
         "Carries AIS system.",
         null,
         "Space50",
         "http://spaceflightnow.com/2016/04/26/soyuz-blasts-off-with-environmental-satellite-general-relativity-probe/",
         null,
         "http://space50.org/objekt.php?mot=2016-025E&jazyk=pp_en",
         null,
         null,
         null,
         null,
         null,
         null,
         null,
         null,
         null,
         null,
         null,
         null,
         null,
         null,
         null,
         null,
         null,
         null,
         null,
         null,
         null,
         null,
         null,
         null,
         null,
         null,
         null,
         null,
         null,
         null,
         null,
         null,
         null,
         null,
         null
        ],
        [
         "4",
         "ABS-2 (Koreasat-8, ST-3)",
         "ABS-2",
         "NR",
         "Multinational",
         "Asia Broadcast Satellite Ltd.",
         "Commercial",
         "Communications",
         null,
         "GEO",
         null,
         "75.0",
         "35778.0",
         "35793.0",
         "0.00017791272787655228",
         "0.08",
         "1436.03",
         "6330.0",
         null,
         "16000",
         "2014-02-06 00:00:00",
         "15.0",
         "Space Systems/Loral",
         "USA",
         "Guiana Space Center",
         "Ariane 5 ECA",
         "2014-006A",
         "39508",
         "32 C-band, 51 Ku-band, and 6 Ka-band transponders. $214 million lawsuit for bad beam.",
         null,
         "ZARYA",
         "http://www.absatellite.net/satellite-fleet/?sat=abs6",
         null,
         "http://www.zarya.info/Diaries/Launches/Launches.php?year=2014",
         "http://www.absatellite.net/2010/10/13/asia-broadcast-satellite-signs-abs-2-satellite-manufacturing-contract-with-space-systemsloral/",
         "http://www.spacenews.com/article/satellite-telecom/42218abs-files-214-million-insurance-claim-for-bad-satellite-beam",
         null,
         null,
         null,
         null,
         null,
         null,
         null,
         null,
         null,
         null,
         null,
         null,
         null,
         null,
         null,
         null,
         null,
         null,
         null,
         null,
         null,
         null,
         null,
         null,
         null,
         null,
         null,
         null,
         null,
         null,
         null,
         null,
         null
        ],
        [
         "5",
         "ABS-2A",
         "ABS-2A",
         "NR",
         "Multinational",
         "Asia Broadcast Satellite Ltd.",
         "Commercial",
         "Communications",
         null,
         "GEO",
         null,
         "-75.0",
         "35700.0",
         "35700.0",
         "0.0",
         "0.0",
         "1436.1",
         "1800.0",
         null,
         null,
         "2016-06-15 00:00:00",
         "15.0",
         "Boeing Satellite Systems",
         "USA",
         "Cape Canaveral",
         "Falcon 9",
         "2016-038A",
         "41588",
         null,
         null,
         "Estimated",
         null,
         null,
         null,
         null,
         null,
         null,
         null,
         null,
         null,
         null,
         null,
         null,
         null,
         null,
         null,
         null,
         null,
         null,
         null,
         null,
         null,
         null,
         null,
         null,
         null,
         null,
         null,
         null,
         null,
         null,
         null,
         null,
         null,
         null,
         null,
         null,
         null,
         null
        ],
        [
         "6",
         "ABS-3A ",
         "ABS-3A",
         "NR",
         "Multinational",
         "Asia Broadcast Satellite Ltd.",
         "Commercial",
         "Communications",
         null,
         "GEO",
         null,
         "-3.0",
         "35788.0",
         "35803.0",
         "0.00017787053396734297",
         "0.1",
         "1436.0",
         "2000.0",
         null,
         null,
         "2015-03-02 00:00:00",
         "15.0",
         "Boeing Satellite Systems",
         "USA",
         "Cape Canaveral",
         "Falcon 9",
         "2015-010A",
         "40424",
         "Coverage of Americas Europe and Africa.",
         null,
         null,
         "http://www.absatellite.net/satellite-fleet/?sat=abs3a",
         null,
         "http://spaceflightnow.com/2015/03/17/innovative-satellites-begin-maneuvers-with-all-electric-thrusters/",
         null,
         null,
         null,
         null,
         null,
         null,
         null,
         null,
         null,
         null,
         null,
         null,
         null,
         null,
         null,
         null,
         null,
         null,
         null,
         null,
         null,
         null,
         null,
         null,
         null,
         null,
         null,
         null,
         null,
         null,
         null,
         null,
         null,
         null,
         null
        ],
        [
         "7",
         "ABS-4 (ABS-2i, MBSat, Mobile Broadcasting Satellite, Han Byul)",
         "ABS-4",
         "NR",
         "Multinational",
         "Asia Broadcast Satellite Ltd.",
         "Commercial",
         "Communications",
         null,
         "GEO",
         null,
         "75.0",
         "35780.0",
         "35793.0",
         "0.00015418737324018834",
         "0.01",
         "1436.1",
         "4143.0",
         "1700",
         "7400",
         "2004-03-13 00:00:00",
         "12.0",
         "Space Systems/Loral",
         "USA",
         "Cape Canaveral",
         "Atlas 3",
         "2004-007A",
         "28184",
         "Purchased by ABS in 2013.",
         null,
         "JM/12_08",
         "http://www.absatellite.net/satellite-fleet/?sat=abs2",
         null,
         null,
         "http://space.skyrocket.de/doc_sdat/mbsat-1.htm",
         null,
         null,
         null,
         null,
         null,
         null,
         null,
         null,
         null,
         null,
         null,
         null,
         null,
         null,
         null,
         null,
         null,
         null,
         null,
         null,
         null,
         null,
         null,
         null,
         null,
         null,
         null,
         null,
         null,
         null,
         null,
         null,
         null,
         null
        ],
        [
         "8",
         "ABS-6 (ABS-1, LMI-1, Lockheed Martin-Intersputnik-1)",
         "ABS-6",
         "NR",
         "Multinational",
         "Asia Broadcast Satellite Ltd.",
         "Commercial",
         "Communications",
         null,
         "GEO",
         null,
         "159.0",
         "35777.0",
         "35794.0",
         "0.00020163442492675927",
         "0.01",
         "1436.08",
         "2894.0",
         "1730",
         "6,800 (EOL)",
         "1999-09-26 00:00:00",
         "15.0",
         "Lockheed Martin",
         "USA",
         "Baikonur Cosmodrome",
         "Proton",
         "1999-053A",
         "25924",
         "28 C-band, 16 Ku-band; business services, public voice and data services, broadcasting, direct-to-home; Eastern Europe, CIS, South and Southeast Asia, Africa, Middle East, Australia.",
         null,
         "JM/12_08",
         "http://www.washingtonpost.com/wp-dyn/articles/A18888-2004May11.html",
         null,
         "http://nssdc.gsfc.nasa.gov/spacewarn/spx551.html",
         "http://www.interpsputnik.com/1mi1chars.shtml",
         "http://www.intersputnik.com/press_270999.htm",
         "http://www.lockheedmartin.com/content/dam/lockheed/data/space/documents/a2100/A2100brochure.pdf",
         null,
         null,
         null,
         null,
         null,
         null,
         null,
         null,
         null,
         null,
         null,
         null,
         null,
         null,
         null,
         null,
         null,
         null,
         null,
         null,
         null,
         null,
         null,
         null,
         null,
         null,
         null,
         null,
         null,
         null,
         null,
         null
        ],
        [
         "9",
         "Adelis-Sampson 1",
         "Adelis-Sampson 1",
         "NR",
         "Israel",
         "Asher Space Research Institute at Technion/Israeli Aircraft Industries",
         "Government",
         "Technology Development",
         null,
         "LEO",
         "Sun-Synchronous",
         "0.0",
         "538.0",
         "561.0",
         "0.0016619697955054557",
         "97.5",
         "95.5",
         "9.0",
         null,
         null,
         "2021-03-22 00:00:00",
         null,
         "Asher Space Research Institute at Technion/Israeli Aircraft Industries",
         "Israel",
         "Baikonur Cosmodrome",
         "Soyuz-2.1a",
         "2021-022F",
         "47937",
         "Demonstrate long-term autonomous cluster flight of multiple satellites; determine the position of a cooperative terrestrial emitter.",
         null,
         "JMSatcat/5_21",
         "https://asri.technion.ac.il/node/219",
         "https://spacenews.com/soyuz-2-rideshare-launch-delayed-for-south-korea-astroscale-dozens-more/",
         null,
         null,
         null,
         null,
         null,
         null,
         null,
         null,
         null,
         null,
         null,
         null,
         null,
         null,
         null,
         null,
         null,
         null,
         null,
         null,
         null,
         null,
         null,
         null,
         null,
         null,
         null,
         null,
         null,
         null,
         null,
         null,
         null,
         null,
         null,
         null
        ],
        [
         "10",
         "Adelis-Sampson 2",
         "Adelis-Sampson 2",
         "NR",
         "Israel",
         "Asher Space Research Institute at Technion/Israeli Aircraft Industries",
         "Government",
         "Technology Development",
         null,
         "LEO",
         "Sun-Synchronous",
         "0.0",
         "539.0",
         "599.0",
         "0.00432338953739732",
         "97.5",
         "95.5",
         "9.0",
         null,
         null,
         "2021-03-22 00:00:00",
         null,
         "Asher Space Research Institute at Technion/Israeli Aircraft Industries",
         "Israel",
         "Baikonur Cosmodrome",
         "Soyuz-2.1a",
         "2021-022H",
         "47939",
         "Demonstrate long-term autonomous cluster flight of multiple satellites; determine the position of a cooperative terrestrial emitter.",
         null,
         "JMSatcat/5_21",
         "https://asri.technion.ac.il/node/219",
         "https://spacenews.com/soyuz-2-rideshare-launch-delayed-for-south-korea-astroscale-dozens-more/",
         null,
         null,
         null,
         null,
         null,
         null,
         null,
         null,
         null,
         null,
         null,
         null,
         null,
         null,
         null,
         null,
         null,
         null,
         null,
         null,
         null,
         null,
         null,
         null,
         null,
         null,
         null,
         null,
         null,
         null,
         null,
         null,
         null,
         null,
         null,
         null
        ],
        [
         "11",
         "Adelis-Sampson 3",
         "Adelis-Sampson 3",
         "NR",
         "Israel",
         "Asher Space Research Institute at Technion/Israeli Aircraft Industries",
         "Government",
         "Technology Development",
         null,
         "LEO",
         "Sun-Synchronous",
         "0.0",
         "537.0",
         "561.0",
         "0.001734354675531146",
         "97.5",
         "95.5",
         "9.0",
         null,
         null,
         "2021-03-22 00:00:00",
         null,
         "Asher Space Research Institute at Technion/Israeli Aircraft Industries",
         "Israel",
         "Baikonur Cosmodrome",
         "Soyuz-2.1a",
         "2021-022M",
         "47943",
         "Demonstrate long-term autonomous cluster flight of multiple satellites; determine the position of a cooperative terrestrial emitter.",
         null,
         "JMSatcat/5_21",
         "https://asri.technion.ac.il/node/219",
         "https://spacenews.com/soyuz-2-rideshare-launch-delayed-for-south-korea-astroscale-dozens-more/",
         null,
         null,
         null,
         null,
         null,
         null,
         null,
         null,
         null,
         null,
         null,
         null,
         null,
         null,
         null,
         null,
         null,
         null,
         null,
         null,
         null,
         null,
         null,
         null,
         null,
         null,
         null,
         null,
         null,
         null,
         null,
         null,
         null,
         null,
         null,
         null
        ],
        [
         "12",
         "ADLER-2",
         "ADLER-2",
         "NR (9/23)",
         "Austria",
         "Austrian Space Forum (OEWF)/Spire",
         "Civil",
         "Earth Science",
         null,
         "LEO",
         "Sun-Synchronous",
         "0.0",
         "497.0",
         "506.0",
         "0.0006548788474132286",
         "97.4",
         "95.0",
         "11.5",
         "11.5",
         null,
         "2023-04-15 00:00:00",
         null,
         "Spire Global",
         "USA",
         "Vandenberg AFB",
         "Falcon 9",
         "2023-054K",
         "56187",
         "Orbital debris monitoring/study clouds and aerosols in atmosphere",
         null,
         "JMSatcat/9_23",
         "https://adler.oewf.org/#contact",
         null,
         null,
         null,
         null,
         null,
         null,
         null,
         null,
         null,
         null,
         null,
         null,
         null,
         null,
         null,
         null,
         null,
         null,
         null,
         null,
         null,
         null,
         null,
         null,
         null,
         null,
         null,
         null,
         null,
         null,
         null,
         null,
         null,
         null,
         null,
         null,
         null
        ],
        [
         "13",
         "Advanced Orion 10 (Mentor, NRO L-44, USA 311)",
         "USA 311",
         "USA",
         "USA",
         "National Reconnaissance Office (NRO)",
         "Military",
         "Earth Observation",
         "Electronic Intelligence",
         "GEO",
         null,
         "0.0",
         "35700.0",
         "35800.0",
         "0.0011870845204178537",
         "0.0",
         "1437.6",
         "5400.0",
         null,
         null,
         "2020-12-11 00:00:00",
         null,
         "National Reconnaissance Laboratory (?)",
         "USA",
         "Cape Canaveral",
         "Delta 4 Heavy",
         "2020-095A",
         "47237",
         "ELINT.",
         null,
         "Estimated",
         "https://spaceflightnow.com/2020/12/11/delta-4-heavy-launches-u-s-spy-satellite-after-months-of-delays/",
         null,
         null,
         null,
         null,
         null,
         "http://www.astronautix.com/a/advancedorion.html",
         null,
         null,
         null,
         null,
         null,
         null,
         null,
         null,
         null,
         null,
         null,
         null,
         null,
         null,
         null,
         null,
         null,
         null,
         null,
         null,
         null,
         null,
         null,
         null,
         null,
         null,
         null,
         null,
         null,
         null,
         null
        ],
        [
         "14",
         "Advanced Orion 4 (Mentor, NROL 6, USA 139)",
         "USA 139",
         "USA",
         "USA",
         "National Reconnaissance Office (NRO)",
         "Military",
         "Earth Observation",
         "Electronic Intelligence",
         "GEO",
         null,
         "-26.0",
         "35560.0",
         "36013.0",
         "0.005372836929061948",
         "7.72",
         "1436.14",
         "5200.0",
         null,
         null,
         "1998-05-09 00:00:00",
         null,
         "TRW Space and Electronics",
         "USA",
         "Cape Canaveral",
         "Titan IVA",
         "1998-029A",
         "25336",
         "ELINT.",
         null,
         "JM/12_08",
         "http://www.sciencepresse.qc.ca/clafleur/Spacecrafts-1998.html#Orion",
         null,
         "http://globalsecurity.org/space/library/report/2005/satellitetables2004.htm",
         "http://www.msnbc.com/news/185953.asp#BODY",
         "http://www.lib.cas.cz/www/space.40/1990/097B.HTM",
         null,
         "http://www.astronautix.com/a/advancedorion.html",
         null,
         null,
         null,
         null,
         null,
         null,
         null,
         null,
         null,
         null,
         null,
         null,
         null,
         null,
         null,
         null,
         null,
         null,
         null,
         null,
         null,
         null,
         null,
         null,
         null,
         null,
         null,
         null,
         null,
         null,
         null
        ],
        [
         "15",
         "Advanced Orion 5 (Mentor, NROL 19, USA 171)",
         "USA 171",
         "USA",
         "USA",
         "National Reconnaissance Office (NRO)",
         "Military",
         "Earth Observation",
         "Electronic Intelligence",
         "GEO",
         null,
         "68.0",
         "35589.0",
         "35984.0",
         "0.004684924033067262",
         "3.2",
         "1436.1",
         "5200.0",
         null,
         null,
         "2003-09-09 00:00:00",
         null,
         "TRW Space and Electronics",
         "USA",
         "Cape Canaveral",
         "Titan IV",
         "2003-041A",
         "27937",
         "Electronic intelligence (ELINT). ",
         null,
         "JM/12_08",
         "http://www.sciencepresse.qc.ca/clafleur/Spacecrafts-2003.html",
         null,
         "http://nssdc.gsfc.nasa.gov/spacewarn/spx599.html",
         "http://www.fsri.org/FSRI%20Archives/Aerospace%20News/Aerospace%20Update%2009-15-03.pdf",
         "http://globalsecurity.org/space/library/report/2005/satellitetables2004.htm",
         "http://www.lib.cas.cz/knav/space.40/2003/041A.HTM",
         "http://www.astronautix.com/a/advancedorion.html",
         null,
         null,
         null,
         null,
         null,
         null,
         null,
         null,
         null,
         null,
         null,
         null,
         null,
         null,
         null,
         null,
         null,
         null,
         null,
         null,
         null,
         null,
         null,
         null,
         null,
         null,
         null,
         null,
         null,
         null,
         null
        ],
        [
         "16",
         "Advanced Orion 6 (Mentor, NRO L-26, USA 202)",
         "USA 202",
         "USA",
         "USA",
         "National Reconnaissance Office (NRO)",
         "Military",
         "Earth Observation",
         "Electronic Intelligence",
         "GEO",
         null,
         "44.0",
         "35714.0",
         "35937.0",
         "0.0026424618738965055",
         "2.89",
         "1438.8",
         "5400.0",
         null,
         null,
         "2009-01-18 00:00:00",
         null,
         "National Reconnaissance Laboratory (?)",
         "USA",
         "Cape Canaveral",
         "Delta 4 Heavy",
         "2009-001A",
         "33490",
         "ELINT.",
         null,
         "SC - ASCR",
         "http://www.globalsecurity.org/space/systems/trumpet.htm",
         null,
         "http://www.space.com/missionlaunches/sfn-090119-delta4-spysat-launch.html",
         "http://www.sworld.com.au/steven/space/usmil-man.txt",
         "http://www.nasaspaceflight.com/2010/11/live-delta-iv-heavy-launch-with-nrol-3/",
         "http://www.thespacereview.com/article/3095/1",
         "http://www.astronautix.com/a/advancedorion.html",
         null,
         null,
         null,
         null,
         null,
         null,
         null,
         null,
         null,
         null,
         null,
         null,
         null,
         null,
         null,
         null,
         null,
         null,
         null,
         null,
         null,
         null,
         null,
         null,
         null,
         null,
         null,
         null,
         null,
         null,
         null
        ],
        [
         "17",
         "Advanced Orion 7 (Mentor, NRO L-32, USA 223)",
         "USA 223",
         "USA",
         "USA",
         "National Reconnaissance Office (NRO)",
         "Military",
         "Earth Observation",
         "Electronic Intelligence",
         "GEO",
         null,
         "95.0",
         "35500.0",
         "35500.0",
         "0.0",
         "0.0",
         "1436.0",
         "5000.0",
         null,
         null,
         "2010-11-21 00:00:00",
         null,
         "National Reconnaissance Laboratory (?)",
         "USA",
         "Cape Canaveral",
         "Delta 4 Heavy",
         "2010-063A",
         "37232",
         "ELINT.",
         null,
         "SC - ASCR",
         "http://forum.nasaspaceflight.com/index.php?topic=11127.45",
         null,
         "http://www.space.com/missionlaunches/sfn-090119-delta4-spysat-launch.html",
         "http://www.sworld.com.au/steven/space/usmil-man.txt",
         "http://www.nasaspaceflight.com/2010/11/live-delta-iv-heavy-launch-with-nrol-3/",
         null,
         "http://www.astronautix.com/a/advancedorion.html",
         null,
         null,
         null,
         null,
         null,
         null,
         null,
         null,
         null,
         null,
         null,
         null,
         null,
         null,
         null,
         null,
         null,
         null,
         null,
         null,
         null,
         null,
         null,
         null,
         null,
         null,
         null,
         null,
         null,
         null,
         null
        ],
        [
         "18",
         "Advanced Orion 8 (Mentor, NRO L-15, USA 237)",
         "USA 237",
         "USA",
         "USA",
         "National Reconnaissance Office (NRO)",
         "Military",
         "Earth Observation",
         "Electronic Intelligence",
         "GEO",
         null,
         "60.0",
         "35771.0",
         "35805.0",
         "0.0004032449357180132",
         "0.0",
         "1436.1",
         "5000.0",
         null,
         null,
         "2012-06-29 00:00:00",
         null,
         "National Reconnaissance Laboratory (?)",
         "USA",
         "Cape Canaveral",
         "Delta 4 Heavy",
         "2012-034A",
         "38528",
         "ELINT.",
         null,
         "CalSky",
         "http://www.nasaspaceflight.com/2012/06/delta-iv-heavy-launch-nrol-15-cape-canaveral/",
         null,
         "http://www.nasaspaceflight.com/2012/06/delta-iv-heavy-launch-nrol-15-cape-canaveral/",
         "http://www.calsky.com/observer//tle.cgi?satid=12034A&tdt=2456146.41756944",
         null,
         null,
         "http://www.astronautix.com/a/advancedorion.html",
         null,
         null,
         null,
         null,
         null,
         null,
         null,
         null,
         null,
         null,
         null,
         null,
         null,
         null,
         null,
         null,
         null,
         null,
         null,
         null,
         null,
         null,
         null,
         null,
         null,
         null,
         null,
         null,
         null,
         null,
         null
        ],
        [
         "19",
         "Advanced Orion 9 (Mentor, NRO L-37, USA 268)",
         "USA 268",
         "USA",
         "USA",
         "National Reconnaissance Office (NRO)",
         "Military",
         "Earth Observation",
         "Electronic Intelligence",
         "GEO",
         null,
         "102.6",
         "35613.0",
         "35903.0",
         "0.003441891378655526",
         "7.51",
         "1437.19",
         "5000.0",
         null,
         null,
         "2016-06-11 00:00:00",
         null,
         "National Reconnaissance Laboratory (?)",
         "USA",
         "Cape Canaveral",
         "Delta 4 Heavy",
         "2016-036A",
         "41584",
         "ELINT.",
         null,
         "ZARYA",
         "http://spaceflightnow.com/2016/06/11/triple-barrel-delta-4-heavy-launches-national-security-satellite/",
         null,
         "http://spaceflight101.com/delta-iv-nrol-37/nrol-37-satellite/",
         "http://sattrackcam.blogspot.com/2016/06/mentor-7-nrol-37-stopped-drifting-at.html",
         null,
         null,
         "http://www.astronautix.com/a/advancedorion.html",
         null,
         null,
         null,
         null,
         null,
         null,
         null,
         null,
         null,
         null,
         null,
         null,
         null,
         null,
         null,
         null,
         null,
         null,
         null,
         null,
         null,
         null,
         null,
         null,
         null,
         null,
         null,
         null,
         null,
         null,
         null
        ],
        [
         "20",
         "AEHF-3 (Advanced Extremely High Frequency satellite-3, USA 246)",
         "USA 246",
         "NR",
         "USA",
         "US Air Force",
         "Military",
         "Communications",
         null,
         "GEO",
         null,
         "152.1",
         "35700.0",
         "35803.0",
         "0.0012226535142385718",
         "4.2",
         "1436.1",
         "6169.0",
         null,
         null,
         "2013-09-18 00:00:00",
         "14.0",
         "Lockheed Martin Space Systems",
         "USA",
         "Cape Canaveral",
         "Atlas 5",
         "2013-050A",
         "39256",
         "Third in constellation.",
         null,
         "ZARYA",
         "http://www.zarya.info/Diaries/Launches/Launches.php?year=2013",
         null,
         "http://www.nasaspaceflight.com/2013/09/atlas-v-loft-aehf-3-satellite/",
         null,
         null,
         null,
         null,
         null,
         null,
         null,
         null,
         null,
         null,
         null,
         null,
         null,
         null,
         null,
         null,
         null,
         null,
         null,
         null,
         null,
         null,
         null,
         null,
         null,
         null,
         null,
         null,
         null,
         null,
         null,
         null,
         null,
         null,
         null
        ],
        [
         "21",
         "AEHF-4 (Advanced Extremely High Frequency satellite-4, USA 288)",
         "USA 288",
         "USA",
         "USA",
         "US Air Force",
         "Military",
         "Communications",
         null,
         "GEO",
         null,
         "150.2",
         "35781.0",
         "35790.0",
         "0.00010674763672593138",
         "0.05",
         "1436.1",
         "6169.0",
         null,
         null,
         "2018-10-17 00:00:00",
         null,
         "Lockheed Martin Space Systems",
         "USA",
         "Cape Canaveral",
         "Atlas 5",
         "2018-079A",
         "43651",
         null,
         null,
         "JMGEO/11_19)",
         "https://spaceflightnow.com/2018/10/17/air-forces-fourth-aehf-communications-satellite-successfully-launched-from-florida/",
         null,
         "https://www.planet4589.org/space/log/geo.log",
         null,
         null,
         null,
         null,
         null,
         null,
         null,
         null,
         null,
         null,
         null,
         null,
         null,
         null,
         null,
         null,
         null,
         null,
         null,
         null,
         null,
         null,
         null,
         null,
         null,
         null,
         null,
         null,
         null,
         null,
         null,
         null,
         null,
         null,
         null
        ],
        [
         "22",
         "AEHF-5 (Advanced Extremely High Frequency satellite-5, USA 29USA 2)",
         "USA 292",
         "USA",
         "USA",
         "US Air Force",
         "Military",
         "Communications",
         null,
         "GEO",
         null,
         "-94.39",
         "35780.0",
         "35810.0",
         "0.0003557452863749555",
         "6.4",
         "1436.2",
         "6169.0",
         null,
         null,
         "2019-08-08 00:00:00",
         null,
         "Lockheed Martin Space Systems",
         "USA",
         "Cape Canaveral",
         "Atlas 5",
         "2019-051A",
         "44481",
         null,
         null,
         "JMGEO/11_19)",
         "https://spaceflightnow.com/2019/08/08/atlas-5-launch-adds-to-u-s-militarys-secure-communications-satellite-network/",
         null,
         "https://www.planet4589.org/space/log/geo.log",
         null,
         null,
         null,
         null,
         null,
         null,
         null,
         null,
         null,
         null,
         null,
         null,
         null,
         null,
         null,
         null,
         null,
         null,
         null,
         null,
         null,
         null,
         null,
         null,
         null,
         null,
         null,
         null,
         null,
         null,
         null,
         null,
         null,
         null,
         null
        ],
        [
         "23",
         "AEHF-6 (Advanced Extremely High Frequency satellite-6, USA 298)",
         "USA 298",
         "USA",
         "USA",
         "US Air Force ",
         "Military",
         "Communications",
         null,
         "GEO",
         null,
         "0.0",
         "35780.0",
         "35780.0",
         "0.0",
         "0.0",
         "1436.0",
         "6169.0",
         null,
         null,
         "2020-03-26 00:00:00",
         null,
         "Lockheed Martin Space Systems",
         "USA",
         "Cape Canaveral",
         "Atlas 5",
         "2020-022B",
         "45465",
         null,
         null,
         "Estimated",
         "https://www.zarya.info/Diaries/Launches/Launches.php?year=2020",
         "https://spaceflightnow.com/2020/03/26/atlas-5-rocket-launch-caps-deployment-of-ultra-secure-military-communications-network/",
         null,
         null,
         null,
         null,
         null,
         null,
         null,
         null,
         null,
         null,
         null,
         null,
         null,
         null,
         null,
         null,
         null,
         null,
         null,
         null,
         null,
         null,
         null,
         null,
         null,
         null,
         null,
         null,
         null,
         null,
         null,
         null,
         null,
         null,
         null,
         null
        ],
        [
         "24",
         "AEHF-USA 2 (Advanced Extremely High Frequency satellite-USA 2, USA 235)",
         "USA 235",
         "USA",
         "USA",
         "US Air Force",
         "Military",
         "Communications",
         null,
         "GEO",
         null,
         "-120.0",
         "35772.0",
         "35801.0",
         "0.00034395644799734324",
         "2.34",
         "1436.1",
         "6169.0",
         null,
         null,
         "2012-05-03 00:00:00",
         "14.0",
         "Lockheed Martin Space Systems",
         "USA",
         "Cape Canaveral",
         "Atlas 5",
         "2012-019A",
         "38254",
         "Second in constellation.",
         null,
         "ZARYA",
         null,
         null,
         "http://www.nasaspaceflight.com/2013/09/atlas-v-loft-aehf-3-satellite/",
         null,
         null,
         null,
         null,
         null,
         null,
         null,
         null,
         null,
         null,
         null,
         null,
         null,
         null,
         null,
         null,
         null,
         null,
         null,
         null,
         null,
         null,
         null,
         null,
         null,
         null,
         null,
         null,
         null,
         null,
         null,
         null,
         null,
         null,
         null
        ],
        [
         "25",
         "Aeneas",
         "Aeneas",
         "USA",
         "USA",
         "Department of Homeland Security",
         "Government",
         "Technology Development",
         null,
         "LEO",
         "Equatorial",
         "0.0",
         "480.0",
         "790.0",
         "0.02212705210563883",
         "0.02",
         "97.4",
         "3.0",
         null,
         null,
         "2012-09-13 00:00:00",
         null,
         "University of Southern California",
         "USA",
         "Vandenberg AFB",
         "Atlas 5",
         "2012-048C",
         "38760",
         "Demonstration program to track cargo containers worldwide.",
         null,
         "ZARYA",
         "http://www.zarya.info/Diaries/Launches/Launches.php?year=2012#end",
         null,
         "http://www.spaceflight101.com/nrol-36-launch.updates.html",
         "http://www.isi.edu/projects/serc/aeneas",
         null,
         null,
         null,
         null,
         null,
         null,
         null,
         null,
         null,
         null,
         null,
         null,
         null,
         null,
         null,
         null,
         null,
         null,
         null,
         null,
         null,
         null,
         null,
         null,
         null,
         null,
         null,
         null,
         null,
         null,
         null,
         null,
         null,
         null
        ],
        [
         "26",
         "Aeolus",
         "Aeolus",
         "ESA",
         "ESA",
         "European Space Agency (ESA)",
         "Government",
         "Earth Observation",
         "Earth Science",
         "LEO",
         null,
         "0.0",
         "314.0",
         "317.0",
         "0.0002243661655822302",
         "96.7",
         "92.4",
         "1367.0",
         null,
         null,
         "2018-08-22 00:00:00",
         "3.0",
         "Airbus Defense and Space",
         "France/UK/Germany/Spain",
         "Guiana Space Center",
         "Vega",
         "2018-066A",
         "43600",
         "Aeolus will precisely measure wind flow and air currents on the Earth, improving weather forecasting, and ultimately our ability to protect the environment.",
         null,
         "JMSatcat/11_18",
         "https://spaceflightnow.com/2018/08/22/pioneering-european-winds-observatory-launched-aboard-vega-rocket/",
         null,
         null,
         null,
         null,
         null,
         null,
         null,
         null,
         null,
         null,
         null,
         null,
         null,
         null,
         null,
         null,
         null,
         null,
         null,
         null,
         null,
         null,
         null,
         null,
         null,
         null,
         null,
         null,
         null,
         null,
         null,
         null,
         null,
         null,
         null,
         null,
         null
        ],
        [
         "27",
         "Aerocube 11A (TOMSat Eagle Scout)",
         "Aerocube 11A",
         "USA",
         "USA",
         "Aerospace Corporation",
         "Commercial",
         "Technology Development",
         null,
         "LEO",
         "Polar",
         "0.0",
         "495.0",
         "511.0",
         "0.0011639749745380474",
         "85.03",
         "94.6",
         "4.0",
         null,
         null,
         "2018-12-17 00:00:00",
         null,
         "Aerospace Corporation",
         "USA",
         "Rocket Lab Launch Complex 1",
         "Electron",
         "2018-104N",
         "43861",
         "Will test miniaturized imagers.",
         null,
         "JMSatcat/3_19",
         "https://directory.eoportal.org/web/eoportal/satellite-missions/e/electron",
         null,
         "https://spaceflightnow.com/2018/12/17/nasa-rocket-lab-partner-on-successful-satellite-launch-from-new-zealand/",
         "https://www.planet4589.org/space/log/satcat.txt",
         null,
         null,
         null,
         null,
         null,
         null,
         null,
         null,
         null,
         null,
         null,
         null,
         null,
         null,
         null,
         null,
         null,
         null,
         null,
         null,
         null,
         null,
         null,
         null,
         null,
         null,
         null,
         null,
         null,
         null,
         null,
         null,
         null,
         null
        ],
        [
         "28",
         "Aerocube 11B (TOMSat R3)",
         "Aerocube 11B",
         "USA",
         "USA",
         "Aerospace Corporation",
         "Commercial",
         "Technology Development",
         null,
         "LEO",
         "Polar",
         "0.0",
         "492.0",
         "511.0",
         "0.0013825220112057047",
         "85.3",
         "94.6",
         "4.0",
         null,
         null,
         "2018-12-17 00:00:00",
         null,
         "Aerospace Corporation",
         "USA",
         "Rocket Lab Launch Complex 1",
         "Electron",
         "2018-104A",
         "43849",
         "Will test miniaturized imagers.",
         null,
         "JMSatcat/3_19",
         "https://directory.eoportal.org/web/eoportal/satellite-missions/e/electron",
         null,
         "https://spaceflightnow.com/2018/12/17/nasa-rocket-lab-partner-on-successful-satellite-launch-from-new-zealand/",
         "https://www.planet4589.org/space/log/satcat.txt",
         null,
         null,
         null,
         null,
         null,
         null,
         null,
         null,
         null,
         null,
         null,
         null,
         null,
         null,
         null,
         null,
         null,
         null,
         null,
         null,
         null,
         null,
         null,
         null,
         null,
         null,
         null,
         null,
         null,
         null,
         null,
         null,
         null,
         null
        ],
        [
         "29",
         "Aerocube 12A",
         "Aerocube 12A",
         "USA",
         "USA",
         "Aerospace Corporation",
         "Commercial",
         "Technology Development",
         null,
         "LEO",
         "Non-Polar Inclined",
         "0.0",
         "481.0",
         "487.0",
         "0.0004377006127808579",
         "51.6",
         "94.2",
         "4.0",
         null,
         null,
         "2018-07-16 00:00:00",
         null,
         "Aerospace Corporation",
         "USA",
         "Cygnus",
         "Nanorack Deployer",
         "2018-046C",
         "43556",
         null,
         null,
         "JMSatcat/3_19",
         "http://nanoracks.com/fifth-external-cygnus-deployment/",
         null,
         "https://spaceflightnow.com/2018/05/21/antares-rocket-launch-kicks-off-space-stations-next-commercial-cargo-delivery/",
         "https://www.planet4589.org/space/log/satcat.txt",
         null,
         null,
         null,
         null,
         null,
         null,
         null,
         null,
         null,
         null,
         null,
         null,
         null,
         null,
         null,
         null,
         null,
         null,
         null,
         null,
         null,
         null,
         null,
         null,
         null,
         null,
         null,
         null,
         null,
         null,
         null,
         null,
         null,
         null
        ],
        [
         "30",
         "Aerocube 12B",
         "Aerocube 12B",
         "USA",
         "USA",
         "Aerospace Corporation",
         "Commercial",
         "Technology Development",
         null,
         "LEO",
         "Non-Polar Inclined",
         "0.0",
         "481.0",
         "487.0",
         "0.0004377006127808579",
         "51.6",
         "94.2",
         "4.0",
         null,
         null,
         "2018-07-16 00:00:00",
         null,
         "Aerospace Corporation",
         "USA",
         "Cygnus",
         "Nanorack Deployer",
         "2018-046D",
         "43557",
         null,
         null,
         "JMSatcat/3_19",
         "http://nanoracks.com/fifth-external-cygnus-deployment/",
         null,
         "https://spaceflightnow.com/2018/05/21/antares-rocket-launch-kicks-off-space-stations-next-commercial-cargo-delivery/",
         "https://www.planet4589.org/space/log/satcat.txt",
         null,
         null,
         null,
         null,
         null,
         null,
         null,
         null,
         null,
         null,
         null,
         null,
         null,
         null,
         null,
         null,
         null,
         null,
         null,
         null,
         null,
         null,
         null,
         null,
         null,
         null,
         null,
         null,
         null,
         null,
         null,
         null,
         null,
         null
        ],
        [
         "31",
         "Aerocube 14A",
         "Aerocube 14A",
         "USA",
         "USA",
         "Aerospace Corporation",
         "Military",
         "Technology Development",
         null,
         "LEO",
         "Non-Polar Inclined",
         "0.0",
         "459.0",
         "474.0",
         "0.0010970525853872596",
         "51.6",
         "93.9",
         null,
         null,
         null,
         "2020-01-31 00:00:00",
         null,
         "Aerospace Corporation",
         "USA",
         "Cygnus",
         "Nanorack Deployer",
         "2019-071D",
         "45114",
         "Demonstrate new star-tracker baffle technology, a variety of nanotechnology payloads, and test the perforance of advanced solar cells.",
         null,
         "JMSatcat/3_20",
         "http://spaceref.com/news/viewpr.html?pid=55212",
         "https://airtable.com/shrafcwXODMMKeRgU/tbldJoOBP5wlNOJQY?blocks=hide",
         null,
         null,
         null,
         null,
         null,
         null,
         null,
         null,
         null,
         null,
         null,
         null,
         null,
         null,
         null,
         null,
         null,
         null,
         null,
         null,
         null,
         null,
         null,
         null,
         null,
         null,
         null,
         null,
         null,
         null,
         null,
         null,
         null,
         null,
         null,
         null
        ],
        [
         "32",
         "Aerocube 14B",
         "Aerocube 14B",
         "USA",
         "USA",
         "Aerospace Corporation",
         "Military",
         "Technology Development",
         null,
         "LEO",
         "Non-Polar Inclined",
         "0.0",
         "459.0",
         "474.0",
         "0.0010970525853872596",
         "51.6",
         "93.9",
         null,
         null,
         null,
         "2020-01-31 00:00:00",
         null,
         "Aerospace Corporation",
         "USA",
         "Cygnus",
         "Nanorack Deployer",
         "2019-071F",
         "45116",
         "Demonstrate new star-tracker baffle technology, a variety of nanotechnology payloads that will test new and emerging materials, including structural materials and thermal straps.",
         null,
         "JMSatcat/3_20",
         "http://spaceref.com/news/viewpr.html?pid=55212",
         "https://airtable.com/shrafcwXODMMKeRgU/tbldJoOBP5wlNOJQY?blocks=hide",
         null,
         null,
         null,
         null,
         null,
         null,
         null,
         null,
         null,
         null,
         null,
         null,
         null,
         null,
         null,
         null,
         null,
         null,
         null,
         null,
         null,
         null,
         null,
         null,
         null,
         null,
         null,
         null,
         null,
         null,
         null,
         null,
         null,
         null,
         null,
         null
        ],
        [
         "33",
         "Aerocube 15A",
         "Aerocube 15A",
         "USA",
         "USA",
         "Aerospace Corporation",
         "Military",
         "Technology Development",
         null,
         "LEO",
         "Non-Polar Inclined",
         "0.0",
         "458.0",
         "474.0",
         "0.0011702750146284377",
         "51.6",
         "93.9",
         null,
         null,
         null,
         "2020-01-31 00:00:00",
         null,
         "Aerospace Corporation",
         "USA",
         "Cygnus",
         "Nanorack Deployer",
         "2019-071G",
         "45117",
         "Demonstratae rapid development of a small-size, weight and power (SWAP), low-cost optical sensor in low earth orbit.",
         null,
         "JMSatcat/3_20",
         "http://spaceref.com/news/viewpr.html?pid=55212",
         "https://airtable.com/shrafcwXODMMKeRgU/tbldJoOBP5wlNOJQY?blocks=hide",
         null,
         null,
         null,
         null,
         null,
         null,
         null,
         null,
         null,
         null,
         null,
         null,
         null,
         null,
         null,
         null,
         null,
         null,
         null,
         null,
         null,
         null,
         null,
         null,
         null,
         null,
         null,
         null,
         null,
         null,
         null,
         null,
         null,
         null,
         null,
         null
        ],
        [
         "34",
         "Aerocube 5C",
         "Aerocube 5C",
         "USA",
         "USA",
         "Aerospace Corporation",
         "Commercial",
         "Technology Development",
         null,
         "LEO",
         "Non-Polar Inclined",
         "0.0",
         "500.0",
         "802.0",
         "0.021506907847884917",
         "64.78",
         "97.74",
         "1.5",
         null,
         null,
         "2015-10-08 00:00:00",
         null,
         "Aerospace Corporation",
         "USA",
         "Vandenberg AFB",
         "Atlas 5",
         "2015-058B",
         "40965",
         "Demonstrate tracking technologies, optical communications and laser communication.",
         null,
         "JR/12_15",
         "http://spaceflightnow.com/2015/10/08/recap-story-second-atlas-5-rocket-launched-in-span-of-six-days/",
         null,
         "http://planet4589.org/space/log/satcat.txt",
         null,
         null,
         null,
         null,
         null,
         null,
         null,
         null,
         null,
         null,
         null,
         null,
         null,
         null,
         null,
         null,
         null,
         null,
         null,
         null,
         null,
         null,
         null,
         null,
         null,
         null,
         null,
         null,
         null,
         null,
         null,
         null,
         null,
         null,
         null
        ],
        [
         "35",
         "Aerocube 6A",
         "Aerocube 6A",
         "USA",
         "USA",
         "Aerospace Corporation",
         "Commercial",
         "Technology Development",
         null,
         "LEO",
         "Sun-Synchronous",
         "0.0",
         "614.0",
         "700.0",
         "0.006119254304824249",
         "97.98",
         "97.88",
         "5.0",
         null,
         null,
         "2014-06-19 00:00:00",
         "3.0",
         "Aerospace Corporation",
         "USA",
         "Dombarovsky Air Base",
         "Dnepr",
         "2014-033AM",
         "40045",
         "Technology development for cubesat constellation.",
         null,
         "ZARYA",
         "http://www.aerospace.org/2014/06/26/aerocube-6-launches-aboard-russian-rocket/",
         null,
         "http://www.zarya.info/Diaries/Launches/Launches.php?year=2014",
         null,
         null,
         null,
         null,
         null,
         null,
         null,
         null,
         null,
         null,
         null,
         null,
         null,
         null,
         null,
         null,
         null,
         null,
         null,
         null,
         null,
         null,
         null,
         null,
         null,
         null,
         null,
         null,
         null,
         null,
         null,
         null,
         null,
         null,
         null
        ],
        [
         "36",
         "Aerocube 6B",
         "Aerocube 6B",
         "USA",
         "USA",
         "Aerospace Corporation",
         "Commercial",
         "Technology Development",
         null,
         "LEO",
         "Sun-Synchronous",
         "0.0",
         "614.0",
         "700.0",
         "0.006119254304824249",
         "97.98",
         "97.88",
         "5.0",
         null,
         null,
         "2014-06-19 00:00:00",
         "3.0",
         "Aerospace Corporation",
         "USA",
         "Dombarovsky Air Base",
         "Dnepr",
         "2014-033AN",
         "40046",
         "Technology development for cubesat constellation.",
         null,
         "ZARYA",
         "http://www.aerospace.org/2014/06/26/aerocube-6-launches-aboard-russian-rocket/",
         null,
         "http://www.zarya.info/Diaries/Launches/Launches.php?year=2014",
         null,
         null,
         null,
         null,
         null,
         null,
         null,
         null,
         null,
         null,
         null,
         null,
         null,
         null,
         null,
         null,
         null,
         null,
         null,
         null,
         null,
         null,
         null,
         null,
         null,
         null,
         null,
         null,
         null,
         null,
         null,
         null,
         null,
         null,
         null
        ],
        [
         "37",
         "Aerocube 7A",
         "Aerocube 7A",
         "USA",
         "USA",
         "Aerospace Corporation",
         "Commercial",
         "Technology Development",
         null,
         "LEO",
         "Non-Polar Inclined",
         "0.0",
         "500.0",
         "802.0",
         "0.021506907847884917",
         "64.6",
         "97.4",
         "2.0",
         null,
         null,
         "2015-10-08 00:00:00",
         null,
         "Aerospace Corporation",
         "USA",
         "Vandenberg AFB",
         "Atlas 5",
         "2015-058C",
         "40966",
         null,
         null,
         "JM/12_15",
         "http://spaceflightnow.com/2015/10/08/recap-story-second-atlas-5-rocket-launched-in-span-of-six-days/",
         null,
         "http://planet4589.org/space/log/satcat.txt",
         null,
         null,
         null,
         null,
         null,
         null,
         null,
         null,
         null,
         null,
         null,
         null,
         null,
         null,
         null,
         null,
         null,
         null,
         null,
         null,
         null,
         null,
         null,
         null,
         null,
         null,
         null,
         null,
         null,
         null,
         null,
         null,
         null,
         null,
         null
        ],
        [
         "38",
         "Aerocube 8C",
         "Aerocube 8C",
         "USA",
         "USA",
         "Aerospace Corporation",
         "Commercial",
         "Technology Development",
         null,
         "LEO",
         "Sun-Synchronous",
         "0.0",
         "569.0",
         "584.0",
         "0.0010796804145972792",
         "97.9",
         "96.2",
         "5.0",
         null,
         null,
         "2016-11-11 00:00:00",
         null,
         "Aerospace Corporation",
         "USA",
         "Vandenberg AFB",
         "Atlas 5",
         "2016-067F",
         "41853",
         null,
         null,
         "JMSatcat/7_20",
         "https://spaceflight101.com/spacecraft/aerocube-8/",
         null,
         null,
         null,
         null,
         null,
         null,
         null,
         null,
         null,
         null,
         null,
         null,
         null,
         null,
         null,
         null,
         null,
         null,
         null,
         null,
         null,
         null,
         null,
         null,
         null,
         null,
         null,
         null,
         null,
         null,
         null,
         null,
         null,
         null,
         null,
         null,
         null
        ],
        [
         "39",
         "Aerocube 8D",
         "Aerocube 8D",
         "USA",
         "USA",
         "Aerospace Corporation",
         "Commercial",
         "Technology Development",
         null,
         "LEO",
         "Sun-Synchronous",
         "0.0",
         "572.0",
         "584.0",
         "0.0008635578583765112",
         "98.0",
         "96.23",
         "2.0",
         null,
         null,
         "2016-11-11 00:00:00",
         null,
         "Aerospace Corporation",
         "USA",
         "Vandenberg AFB",
         "Atlas 5",
         "2016-067E",
         "41852",
         null,
         null,
         "prehled druzic",
         "http://spaceflightnow.com/2016/11/11/commercial-satellite-launched-to-image-the-earth-in-high-resolution/",
         null,
         null,
         null,
         null,
         null,
         null,
         null,
         null,
         null,
         null,
         null,
         null,
         null,
         null,
         null,
         null,
         null,
         null,
         null,
         null,
         null,
         null,
         null,
         null,
         null,
         null,
         null,
         null,
         null,
         null,
         null,
         null,
         null,
         null,
         null,
         null,
         null
        ],
        [
         "40",
         "Afghansat-1 (Eutelsat 48D [Eutelsat 48B, Eutelsat W2M])",
         "Eutelsat 48D",
         "France",
         "Multinational",
         "EUTELSAT S.A.",
         "Commercial",
         "Communications",
         null,
         "GEO",
         null,
         "48.0",
         "35764.0",
         "35808.0",
         "0.0005218711452699497",
         "0.12",
         "1436.08",
         "3460.0",
         "1555",
         "7000",
         "2008-12-20 00:00:00",
         "15.0",
         "EADS Astrium",
         "France",
         "Guiana Space Center",
         "Ariane 5",
         "2008-065B",
         "33460",
         "30 Ku-band transponders.",
         null,
         "JM/12_08",
         "http://www.cdi.org/friendlyversion/printversion.cfm?documentID=4478",
         null,
         "http://www.tbs-satellite.com/tse/online/sat_eutelsat_w2m.html",
         "http://en.wikipedia.org/wiki/Eutelsat_W2M",
         null,
         null,
         null,
         null,
         null,
         null,
         null,
         null,
         null,
         null,
         null,
         null,
         null,
         null,
         null,
         null,
         null,
         null,
         null,
         null,
         null,
         null,
         null,
         null,
         null,
         null,
         null,
         null,
         null,
         null,
         null,
         null,
         null,
         null
        ],
        [
         "41",
         "AII-Bravo",
         "AII-Bravo",
         "Lithuania",
         "Lithuania",
         "Aurora Insight",
         "Commercial",
         "Communications",
         null,
         "LEO",
         "Sun-Synchronous",
         "0.0",
         "609.0",
         "613.0",
         "0.00028649190660363845",
         "97.8",
         "95.8",
         "9.0",
         null,
         null,
         "2021-04-29 00:00:00",
         null,
         "NanoAvionics",
         "USA",
         "Guiana Space Center",
         "Vega W18",
         "2021-034C",
         "48270",
         null,
         null,
         "JMSatcat/5_21",
         "https://spaceflightnow.com/2021/04/29/big-relief-as-europes-vega-rocket-returns-to-service-with-successful-launch/",
         null,
         null,
         null,
         null,
         null,
         null,
         null,
         null,
         null,
         null,
         null,
         null,
         null,
         null,
         null,
         null,
         null,
         null,
         null,
         null,
         null,
         null,
         null,
         null,
         null,
         null,
         null,
         null,
         null,
         null,
         null,
         null,
         null,
         null,
         null,
         null,
         null
        ],
        [
         "42",
         "AII-Charlie",
         "AII-Charlie",
         "NR",
         "Lithuania",
         "Aurora Insight",
         "Commercial",
         "Communications",
         null,
         "LEO",
         "Sun-Synchronous",
         "0.0",
         "522.0",
         "535.0",
         "0.0009422338189461477",
         "97.5",
         "95.2",
         "9.0",
         null,
         null,
         "2021-01-24 00:00:00",
         null,
         "NanoAvionics",
         "USA",
         "Cape Canaveral",
         "Falcon 9",
         "2021-006AD",
         "47440",
         "Scann RF spectrum on Earth and detecting where different network technologies, including 5G, have been deployed.",
         null,
         "JMSatcat/5_21",
         "https://www.rcrwireless.com/20210120/test-and-measurement/to-map-earths-wireless-networks-aurora-insights-sends-rf-sensors-to-space",
         "https://aurorainsight.com/charlie/",
         null,
         null,
         null,
         null,
         null,
         null,
         null,
         null,
         null,
         null,
         null,
         null,
         null,
         null,
         null,
         null,
         null,
         null,
         null,
         null,
         null,
         null,
         null,
         null,
         null,
         null,
         null,
         null,
         null,
         null,
         null,
         null,
         null,
         null,
         null,
         null
        ],
        [
         "43",
         "AIM (Aeronomy of Ice in Mesosphere)",
         "AIM",
         "USA",
         "USA",
         "Center for Atmospheric Sciences, Hampton University/NASA",
         "Government",
         "Earth Observation",
         "Earth Science",
         "LEO",
         "Sun-Synchronous",
         "0.0",
         "544.0",
         "552.0",
         "0.0005782017924255566",
         "97.9",
         "96.2",
         "215.0",
         "197",
         "216",
         "2007-04-25 00:00:00",
         "2.0",
         "Orbital Sciences Corp.",
         "USA",
         "Vandenberg AFB",
         "Pegasus XL",
         "2007-015A",
         "31304",
         "Study noctilucent clouds (NLC) in the polar mesosphere. In 2011 the mission was extended through FY 2012.",
         null,
         "www.satellitedebris.net 12/12",
         "http://aim.hamptonu.edu/",
         null,
         "http://www.lib.cas.cz/www/space.40/2007/015A.HTM",
         "http://www.nasa.gov/mission_pages/aim/index.html",
         "http://www.lib.cas.cz/space.40/2011/044G.HTM",
         null,
         null,
         null,
         null,
         null,
         null,
         null,
         null,
         null,
         null,
         null,
         null,
         null,
         null,
         null,
         null,
         null,
         null,
         null,
         null,
         null,
         null,
         null,
         null,
         null,
         null,
         null,
         null,
         null,
         null,
         null,
         null,
         null
        ],
        [
         "44",
         "AISSat-1 (Automatic Identification System Satellite-1)",
         "AISSat-1",
         "Norway",
         "Norway",
         "Norwegian Coastal Admnistration",
         "Government",
         "Communications",
         "Automatic Identification System (AIS)",
         "LEO",
         "Sun-Synchronous",
         "0.0",
         "615.0",
         "632.0",
         "0.001215414313290913",
         "98.0",
         "97.2",
         "6.0",
         null,
         null,
         "2010-07-12 00:00:00",
         "3.0",
         "Kongsberg Seatex AS/University of Toronto Institute for Aerospace Studies",
         "Canada",
         "Satish Dhawan Space Centre",
         "PSLV",
         "2010-035C",
         "36797",
         "Equipped with instrument that receives and forwards Automatic Identification System (AIS) signals; will demonstrate maritime ship-tracking technologies.",
         null,
         "www.satellitedebris.net 12/12",
         "http://www.utias-sfl.net/nanosatellites/AISSat-1/",
         null,
         "http://www.kosmo.cz/modules.php?op=modload&name=kosmo&file=index&fil=/s/2010/035C.HTM",
         "http://directory.eoportal.org/presentations/210/10000834.html",
         "http://www.ffi.no/no/Publikasjoner/Documents/AISSAT-1_Norways%20first%20observation%20satellite.pdf",
         null,
         null,
         null,
         null,
         null,
         null,
         null,
         null,
         null,
         null,
         null,
         null,
         null,
         null,
         null,
         null,
         null,
         null,
         null,
         null,
         null,
         null,
         null,
         null,
         null,
         null,
         null,
         null,
         null,
         null,
         null,
         null,
         null
        ],
        [
         "45",
         "AISSat-2 (Automatic Identification System Satellite-2)",
         "AISSat-2",
         "Norway",
         "Norway",
         "Norwegian Coastal Admnistration",
         "Government",
         "Communications",
         "Automatic Identification System (AIS)",
         "LEO",
         "Sun-Synchronous",
         "0.0",
         "625.0",
         "631.0",
         "0.00042869391254644185",
         "98.4",
         "97.27",
         "6.0",
         null,
         null,
         "2014-07-08 00:00:00",
         "3.0",
         "Kongsberg Seatex AS/University of Toronto Institute for Aerospace Studies",
         "Norway/Canada",
         "Baikonur Cosmodrome",
         "Soyuz-2.1b",
         "2014-037G",
         "40075",
         "Second in the series.",
         null,
         "ZARYA",
         "http://www.ffi.no/no/Publikasjoner/Documents/AISSAT-1_Norways%20first%20observation%20satellite.pdf",
         null,
         "http://web.spacecentre.no/eng/Norway-in-Space/Norway-s-Satellites",
         null,
         null,
         null,
         null,
         null,
         null,
         null,
         null,
         null,
         null,
         null,
         null,
         null,
         null,
         null,
         null,
         null,
         null,
         null,
         null,
         null,
         null,
         null,
         null,
         null,
         null,
         null,
         null,
         null,
         null,
         null,
         null,
         null,
         null,
         null
        ],
        [
         "46",
         "AISTechSat-2",
         "AISTechSat-2",
         "Spain",
         "Spain",
         "AISTech",
         "Commercial",
         "Earth Observation",
         "Automatic Identification System (AIS)",
         "LEO",
         "Sun-Synchronous",
         "0.0",
         "574.0",
         "592.0",
         "0.0012944052926794189",
         "97.8",
         "96.4",
         "2.6",
         null,
         null,
         "2018-12-03 00:00:00",
         null,
         "GomSpace ApS",
         "Denmark",
         "Vandenberg AFB",
         "Falcon 9",
         "2018-099L",
         "43768",
         "First satellite built by GOMSpace. Earth observation and AIS tracking. Demonstration flight.",
         null,
         "JMSatcat/3_19",
         "https://spaceflightnow.com/2018/12/03/spacex-launches-swarm-of-satellites-re-flies-rocket-for-third-time/",
         null,
         "http://www.aistechspace.com/",
         "https://directory.eoportal.org/web/eoportal/satellite-missions/content/-/article/sso-a",
         null,
         null,
         null,
         null,
         null,
         null,
         null,
         null,
         null,
         null,
         null,
         null,
         null,
         null,
         null,
         null,
         null,
         null,
         null,
         null,
         null,
         null,
         null,
         null,
         null,
         null,
         null,
         null,
         null,
         null,
         null,
         null,
         null,
         null
        ],
        [
         "47",
         "AISTechSat-3",
         "AISTechSat-3",
         "Spain",
         "Spain",
         "AISTech",
         "Commercial",
         "Earth Observation",
         "Automatic Identification System (AIS)",
         "LEO",
         "Sun-Synchronous",
         "0.0",
         "490.0",
         "506.0",
         "0.0011648223645894002",
         "97.5",
         "94.6",
         "2.3",
         null,
         null,
         "2019-04-01 00:00:00",
         null,
         "GomSpace ApS",
         "Denmark",
         "Satish Dhawan Space Centre",
         "PSLV",
         "2019-018AB",
         "44103",
         "Pathfinder for the company's planned network of satellites providing aviation tracking and remote asset management services.",
         null,
         "JMSatcat/11_19",
         "https://spaceflightnow.com/2019/04/01/indian-military-satellite-20-more-planet-imaging-cubesats-aboard-successful-pslv-launch/",
         null,
         "https://directory.eoportal.org/web/eoportal/satellite-missions/e/emisat",
         "https://www.planet4589.org/space/log/satcat.txt",
         null,
         null,
         null,
         null,
         null,
         null,
         null,
         null,
         null,
         null,
         null,
         null,
         null,
         null,
         null,
         null,
         null,
         null,
         null,
         null,
         null,
         null,
         null,
         null,
         null,
         null,
         null,
         null,
         null,
         null,
         null,
         null,
         null,
         null
        ],
        [
         "48",
         "Al Yah-3",
         "Al Yah-3",
         "Brazil",
         "United Arab Emirates",
         "Al Yah Satellite Communications Co. (YAHSAT)",
         "Commercial",
         "Communications",
         null,
         "GEO",
         null,
         "-20.0",
         "35777.0",
         "35796.0",
         "0.00022535077627412143",
         "0.0",
         "1436.0",
         "3795.0",
         null,
         null,
         "2018-01-25 00:00:00",
         "15.0",
         "Orbital ATK",
         "USA",
         "Guiana Space Center",
         "Ariane 5",
         "2018-012A",
         "43174",
         "Placed in an incorrect transfer orbit, but has reached correct orbit and functioning well.",
         null,
         "JMGEO/5_18",
         "https://spaceflightnow.com/2018/01/26/ariane-5-va241-status-1/",
         null,
         "https://spaceflightnow.com/2018/01/26/probe-into-off-target-ariane-5-launch-begins-ses-and-yahsat-payloads-declared-healthy/",
         null,
         null,
         null,
         null,
         null,
         null,
         null,
         null,
         null,
         null,
         null,
         null,
         null,
         null,
         null,
         null,
         null,
         null,
         null,
         null,
         null,
         null,
         null,
         null,
         null,
         null,
         null,
         null,
         null,
         null,
         null,
         null,
         null,
         null,
         null
        ],
        [
         "49",
         "Al-Farabi-2",
         "Al-Farabi-2",
         "NR",
         "Kazakhstan",
         "Al-Farabi Kazakh National University",
         "Civil",
         "Technology Development",
         null,
         "LEO",
         "Sun-Synchronous",
         "0.0",
         "573.0",
         "589.0",
         "0.0011509135376204863",
         "97.7",
         "96.2",
         "4.0",
         null,
         null,
         "2018-12-03 00:00:00",
         null,
         "Al-Farabi Kazakh National University",
         "Kazakhstan",
         "Vandenberg AFB",
         "Falcon 9",
         "2018-099AZ",
         "43805",
         "Technology demonstration mission.",
         null,
         "JMSatcat/3_19",
         "https://spaceflightnow.com/2018/12/03/spacex-launches-swarm-of-satellites-re-flies-rocket-for-third-time/",
         null,
         "https://directory.eoportal.org/web/eoportal/satellite-missions/content/-/article/sso-a",
         "https://www.planet4589.org/space/log/satcat.txt",
         null,
         null,
         null,
         null,
         null,
         null,
         null,
         null,
         null,
         null,
         null,
         null,
         null,
         null,
         null,
         null,
         null,
         null,
         null,
         null,
         null,
         null,
         null,
         null,
         null,
         null,
         null,
         null,
         null,
         null,
         null,
         null,
         null,
         null
        ]
       ],
       "shape": {
        "columns": 68,
        "rows": 7560
       }
      },
      "text/html": [
       "<div>\n",
       "<style scoped>\n",
       "    .dataframe tbody tr th:only-of-type {\n",
       "        vertical-align: middle;\n",
       "    }\n",
       "\n",
       "    .dataframe tbody tr th {\n",
       "        vertical-align: top;\n",
       "    }\n",
       "\n",
       "    .dataframe thead th {\n",
       "        text-align: right;\n",
       "    }\n",
       "</style>\n",
       "<table border=\"1\" class=\"dataframe\">\n",
       "  <thead>\n",
       "    <tr style=\"text-align: right;\">\n",
       "      <th></th>\n",
       "      <th>Name of Satellite, Alternate Names</th>\n",
       "      <th>Current Official Name of Satellite</th>\n",
       "      <th>Country/Org of UN Registry</th>\n",
       "      <th>Country of Operator/Owner</th>\n",
       "      <th>Operator/Owner</th>\n",
       "      <th>Users</th>\n",
       "      <th>Purpose</th>\n",
       "      <th>Detailed Purpose</th>\n",
       "      <th>Class of Orbit</th>\n",
       "      <th>Type of Orbit</th>\n",
       "      <th>...</th>\n",
       "      <th>Unnamed: 58</th>\n",
       "      <th>Unnamed: 59</th>\n",
       "      <th>Unnamed: 60</th>\n",
       "      <th>Unnamed: 61</th>\n",
       "      <th>Unnamed: 62</th>\n",
       "      <th>Unnamed: 63</th>\n",
       "      <th>Unnamed: 64</th>\n",
       "      <th>Unnamed: 65</th>\n",
       "      <th>Unnamed: 66</th>\n",
       "      <th>Unnamed: 67</th>\n",
       "    </tr>\n",
       "  </thead>\n",
       "  <tbody>\n",
       "    <tr>\n",
       "      <th>0</th>\n",
       "      <td>1HOPSAT-TD (1st-generation High Optical Perfor...</td>\n",
       "      <td>1HOPSAT-TD</td>\n",
       "      <td>NR</td>\n",
       "      <td>USA</td>\n",
       "      <td>Hera Systems</td>\n",
       "      <td>Commercial</td>\n",
       "      <td>Earth Observation</td>\n",
       "      <td>Infrared Imaging</td>\n",
       "      <td>LEO</td>\n",
       "      <td>Non-Polar Inclined</td>\n",
       "      <td>...</td>\n",
       "      <td>NaN</td>\n",
       "      <td>NaN</td>\n",
       "      <td>NaN</td>\n",
       "      <td>NaN</td>\n",
       "      <td>NaN</td>\n",
       "      <td>NaN</td>\n",
       "      <td>NaN</td>\n",
       "      <td>NaN</td>\n",
       "      <td>NaN</td>\n",
       "      <td>NaN</td>\n",
       "    </tr>\n",
       "    <tr>\n",
       "      <th>1</th>\n",
       "      <td>AAC AIS-Sat1 (Kelpie 1)</td>\n",
       "      <td>AAC AIS-Sat1 (Kelpie 1)</td>\n",
       "      <td>United Kingdom</td>\n",
       "      <td>United Kingdom</td>\n",
       "      <td>AAC Clyde Space</td>\n",
       "      <td>Commercial</td>\n",
       "      <td>Earth Observation</td>\n",
       "      <td>Automatic Identification System (AIS)</td>\n",
       "      <td>LEO</td>\n",
       "      <td>Sun-Synchronous</td>\n",
       "      <td>...</td>\n",
       "      <td>NaN</td>\n",
       "      <td>NaN</td>\n",
       "      <td>NaN</td>\n",
       "      <td>NaN</td>\n",
       "      <td>NaN</td>\n",
       "      <td>NaN</td>\n",
       "      <td>NaN</td>\n",
       "      <td>NaN</td>\n",
       "      <td>NaN</td>\n",
       "      <td>NaN</td>\n",
       "    </tr>\n",
       "    <tr>\n",
       "      <th>2</th>\n",
       "      <td>Aalto-1</td>\n",
       "      <td>Aalto-1</td>\n",
       "      <td>Finland</td>\n",
       "      <td>Finland</td>\n",
       "      <td>Aalto University</td>\n",
       "      <td>Civil</td>\n",
       "      <td>Technology Development</td>\n",
       "      <td>NaN</td>\n",
       "      <td>LEO</td>\n",
       "      <td>Sun-Synchronous</td>\n",
       "      <td>...</td>\n",
       "      <td>NaN</td>\n",
       "      <td>NaN</td>\n",
       "      <td>NaN</td>\n",
       "      <td>NaN</td>\n",
       "      <td>NaN</td>\n",
       "      <td>NaN</td>\n",
       "      <td>NaN</td>\n",
       "      <td>NaN</td>\n",
       "      <td>NaN</td>\n",
       "      <td>NaN</td>\n",
       "    </tr>\n",
       "    <tr>\n",
       "      <th>3</th>\n",
       "      <td>AAt-4</td>\n",
       "      <td>AAt-4</td>\n",
       "      <td>Denmark</td>\n",
       "      <td>Denmark</td>\n",
       "      <td>University of Aalborg</td>\n",
       "      <td>Civil</td>\n",
       "      <td>Earth Observation</td>\n",
       "      <td>Automatic Identification System (AIS)</td>\n",
       "      <td>LEO</td>\n",
       "      <td>Sun-Synchronous</td>\n",
       "      <td>...</td>\n",
       "      <td>NaN</td>\n",
       "      <td>NaN</td>\n",
       "      <td>NaN</td>\n",
       "      <td>NaN</td>\n",
       "      <td>NaN</td>\n",
       "      <td>NaN</td>\n",
       "      <td>NaN</td>\n",
       "      <td>NaN</td>\n",
       "      <td>NaN</td>\n",
       "      <td>NaN</td>\n",
       "    </tr>\n",
       "    <tr>\n",
       "      <th>4</th>\n",
       "      <td>ABS-2 (Koreasat-8, ST-3)</td>\n",
       "      <td>ABS-2</td>\n",
       "      <td>NR</td>\n",
       "      <td>Multinational</td>\n",
       "      <td>Asia Broadcast Satellite Ltd.</td>\n",
       "      <td>Commercial</td>\n",
       "      <td>Communications</td>\n",
       "      <td>NaN</td>\n",
       "      <td>GEO</td>\n",
       "      <td>NaN</td>\n",
       "      <td>...</td>\n",
       "      <td>NaN</td>\n",
       "      <td>NaN</td>\n",
       "      <td>NaN</td>\n",
       "      <td>NaN</td>\n",
       "      <td>NaN</td>\n",
       "      <td>NaN</td>\n",
       "      <td>NaN</td>\n",
       "      <td>NaN</td>\n",
       "      <td>NaN</td>\n",
       "      <td>NaN</td>\n",
       "    </tr>\n",
       "    <tr>\n",
       "      <th>...</th>\n",
       "      <td>...</td>\n",
       "      <td>...</td>\n",
       "      <td>...</td>\n",
       "      <td>...</td>\n",
       "      <td>...</td>\n",
       "      <td>...</td>\n",
       "      <td>...</td>\n",
       "      <td>...</td>\n",
       "      <td>...</td>\n",
       "      <td>...</td>\n",
       "      <td>...</td>\n",
       "      <td>...</td>\n",
       "      <td>...</td>\n",
       "      <td>...</td>\n",
       "      <td>...</td>\n",
       "      <td>...</td>\n",
       "      <td>...</td>\n",
       "      <td>...</td>\n",
       "      <td>...</td>\n",
       "      <td>...</td>\n",
       "      <td>...</td>\n",
       "    </tr>\n",
       "    <tr>\n",
       "      <th>7555</th>\n",
       "      <td>Ziyuan 1-02C</td>\n",
       "      <td>Ziyuan 1-02C</td>\n",
       "      <td>China</td>\n",
       "      <td>China</td>\n",
       "      <td>China Centre for Resources Satellite Data and ...</td>\n",
       "      <td>Government</td>\n",
       "      <td>Earth Observation</td>\n",
       "      <td>Optical Imaging</td>\n",
       "      <td>LEO</td>\n",
       "      <td>Sun-Synchronous</td>\n",
       "      <td>...</td>\n",
       "      <td>NaN</td>\n",
       "      <td>NaN</td>\n",
       "      <td>NaN</td>\n",
       "      <td>NaN</td>\n",
       "      <td>NaN</td>\n",
       "      <td>NaN</td>\n",
       "      <td>NaN</td>\n",
       "      <td>NaN</td>\n",
       "      <td>NaN</td>\n",
       "      <td>NaN</td>\n",
       "    </tr>\n",
       "    <tr>\n",
       "      <th>7556</th>\n",
       "      <td>Ziyuan 1-2D</td>\n",
       "      <td>Ziyuan 1-2D</td>\n",
       "      <td>NR</td>\n",
       "      <td>China</td>\n",
       "      <td>China Centre for Resources Satellite Data and ...</td>\n",
       "      <td>Government</td>\n",
       "      <td>Earth Observation</td>\n",
       "      <td>Hyperspectral Imaging</td>\n",
       "      <td>LEO</td>\n",
       "      <td>Sun-Synchronous</td>\n",
       "      <td>...</td>\n",
       "      <td>NaN</td>\n",
       "      <td>NaN</td>\n",
       "      <td>NaN</td>\n",
       "      <td>NaN</td>\n",
       "      <td>NaN</td>\n",
       "      <td>NaN</td>\n",
       "      <td>NaN</td>\n",
       "      <td>NaN</td>\n",
       "      <td>NaN</td>\n",
       "      <td>NaN</td>\n",
       "    </tr>\n",
       "    <tr>\n",
       "      <th>7557</th>\n",
       "      <td>Ziyuan 3 (ZY-3)</td>\n",
       "      <td>Ziyuan 3</td>\n",
       "      <td>China</td>\n",
       "      <td>China</td>\n",
       "      <td>China Centre for Resources Satellite Data and ...</td>\n",
       "      <td>Government</td>\n",
       "      <td>Earth Observation</td>\n",
       "      <td>Optical Imaging</td>\n",
       "      <td>LEO</td>\n",
       "      <td>Sun-Synchronous</td>\n",
       "      <td>...</td>\n",
       "      <td>NaN</td>\n",
       "      <td>NaN</td>\n",
       "      <td>NaN</td>\n",
       "      <td>NaN</td>\n",
       "      <td>NaN</td>\n",
       "      <td>NaN</td>\n",
       "      <td>NaN</td>\n",
       "      <td>NaN</td>\n",
       "      <td>NaN</td>\n",
       "      <td>NaN</td>\n",
       "    </tr>\n",
       "    <tr>\n",
       "      <th>7558</th>\n",
       "      <td>Ziyuan 3-2</td>\n",
       "      <td>Ziyuan 3-2</td>\n",
       "      <td>China</td>\n",
       "      <td>China</td>\n",
       "      <td>China Centre for Resources Satellite Data and ...</td>\n",
       "      <td>Government</td>\n",
       "      <td>Earth Observation</td>\n",
       "      <td>Optical Imaging</td>\n",
       "      <td>LEO</td>\n",
       "      <td>Sun-Synchronous</td>\n",
       "      <td>...</td>\n",
       "      <td>NaN</td>\n",
       "      <td>NaN</td>\n",
       "      <td>NaN</td>\n",
       "      <td>NaN</td>\n",
       "      <td>NaN</td>\n",
       "      <td>NaN</td>\n",
       "      <td>NaN</td>\n",
       "      <td>NaN</td>\n",
       "      <td>NaN</td>\n",
       "      <td>NaN</td>\n",
       "    </tr>\n",
       "    <tr>\n",
       "      <th>7559</th>\n",
       "      <td>Ziyuan 3-3</td>\n",
       "      <td>Ziyuan 3-3</td>\n",
       "      <td>China</td>\n",
       "      <td>China</td>\n",
       "      <td>China Centre for Resources Satellite Data and ...</td>\n",
       "      <td>Government</td>\n",
       "      <td>Earth Observation</td>\n",
       "      <td>Optical Imaging</td>\n",
       "      <td>LEO</td>\n",
       "      <td>Sun-Synchronous</td>\n",
       "      <td>...</td>\n",
       "      <td>NaN</td>\n",
       "      <td>NaN</td>\n",
       "      <td>NaN</td>\n",
       "      <td>NaN</td>\n",
       "      <td>NaN</td>\n",
       "      <td>NaN</td>\n",
       "      <td>NaN</td>\n",
       "      <td>NaN</td>\n",
       "      <td>NaN</td>\n",
       "      <td>NaN</td>\n",
       "    </tr>\n",
       "  </tbody>\n",
       "</table>\n",
       "<p>7560 rows × 68 columns</p>\n",
       "</div>"
      ],
      "text/plain": [
       "                     Name of Satellite, Alternate Names  \\\n",
       "0     1HOPSAT-TD (1st-generation High Optical Perfor...   \n",
       "1                               AAC AIS-Sat1 (Kelpie 1)   \n",
       "2                                              Aalto-1    \n",
       "3                                                 AAt-4   \n",
       "4                              ABS-2 (Koreasat-8, ST-3)   \n",
       "...                                                 ...   \n",
       "7555                                       Ziyuan 1-02C   \n",
       "7556                                        Ziyuan 1-2D   \n",
       "7557                                    Ziyuan 3 (ZY-3)   \n",
       "7558                                         Ziyuan 3-2   \n",
       "7559                                         Ziyuan 3-3   \n",
       "\n",
       "     Current Official Name of Satellite Country/Org of UN Registry  \\\n",
       "0                            1HOPSAT-TD                         NR   \n",
       "1               AAC AIS-Sat1 (Kelpie 1)             United Kingdom   \n",
       "2                               Aalto-1                    Finland   \n",
       "3                                 AAt-4                    Denmark   \n",
       "4                                 ABS-2                         NR   \n",
       "...                                 ...                        ...   \n",
       "7555                       Ziyuan 1-02C                      China   \n",
       "7556                        Ziyuan 1-2D                         NR   \n",
       "7557                           Ziyuan 3                      China   \n",
       "7558                         Ziyuan 3-2                      China   \n",
       "7559                         Ziyuan 3-3                      China   \n",
       "\n",
       "     Country of Operator/Owner  \\\n",
       "0                          USA   \n",
       "1               United Kingdom   \n",
       "2                      Finland   \n",
       "3                      Denmark   \n",
       "4                Multinational   \n",
       "...                        ...   \n",
       "7555                     China   \n",
       "7556                     China   \n",
       "7557                     China   \n",
       "7558                     China   \n",
       "7559                     China   \n",
       "\n",
       "                                         Operator/Owner       Users  \\\n",
       "0                                          Hera Systems  Commercial   \n",
       "1                                       AAC Clyde Space  Commercial   \n",
       "2                                      Aalto University       Civil   \n",
       "3                                 University of Aalborg       Civil   \n",
       "4                         Asia Broadcast Satellite Ltd.  Commercial   \n",
       "...                                                 ...         ...   \n",
       "7555  China Centre for Resources Satellite Data and ...  Government   \n",
       "7556  China Centre for Resources Satellite Data and ...  Government   \n",
       "7557  China Centre for Resources Satellite Data and ...  Government   \n",
       "7558  China Centre for Resources Satellite Data and ...  Government   \n",
       "7559  China Centre for Resources Satellite Data and ...  Government   \n",
       "\n",
       "                     Purpose                       Detailed Purpose  \\\n",
       "0          Earth Observation                       Infrared Imaging   \n",
       "1          Earth Observation  Automatic Identification System (AIS)   \n",
       "2     Technology Development                                    NaN   \n",
       "3          Earth Observation  Automatic Identification System (AIS)   \n",
       "4             Communications                                    NaN   \n",
       "...                      ...                                    ...   \n",
       "7555       Earth Observation                        Optical Imaging   \n",
       "7556       Earth Observation                  Hyperspectral Imaging   \n",
       "7557       Earth Observation                        Optical Imaging   \n",
       "7558       Earth Observation                        Optical Imaging   \n",
       "7559       Earth Observation                        Optical Imaging   \n",
       "\n",
       "     Class of Orbit       Type of Orbit  ...  Unnamed: 58  Unnamed: 59  \\\n",
       "0               LEO  Non-Polar Inclined  ...          NaN          NaN   \n",
       "1               LEO     Sun-Synchronous  ...          NaN          NaN   \n",
       "2               LEO     Sun-Synchronous  ...          NaN          NaN   \n",
       "3               LEO     Sun-Synchronous  ...          NaN          NaN   \n",
       "4               GEO                 NaN  ...          NaN          NaN   \n",
       "...             ...                 ...  ...          ...          ...   \n",
       "7555            LEO     Sun-Synchronous  ...          NaN          NaN   \n",
       "7556            LEO     Sun-Synchronous  ...          NaN          NaN   \n",
       "7557            LEO     Sun-Synchronous  ...          NaN          NaN   \n",
       "7558            LEO     Sun-Synchronous  ...          NaN          NaN   \n",
       "7559            LEO     Sun-Synchronous  ...          NaN          NaN   \n",
       "\n",
       "      Unnamed: 60  Unnamed: 61  Unnamed: 62  Unnamed: 63  Unnamed: 64  \\\n",
       "0             NaN          NaN          NaN          NaN          NaN   \n",
       "1             NaN          NaN          NaN          NaN          NaN   \n",
       "2             NaN          NaN          NaN          NaN          NaN   \n",
       "3             NaN          NaN          NaN          NaN          NaN   \n",
       "4             NaN          NaN          NaN          NaN          NaN   \n",
       "...           ...          ...          ...          ...          ...   \n",
       "7555          NaN          NaN          NaN          NaN          NaN   \n",
       "7556          NaN          NaN          NaN          NaN          NaN   \n",
       "7557          NaN          NaN          NaN          NaN          NaN   \n",
       "7558          NaN          NaN          NaN          NaN          NaN   \n",
       "7559          NaN          NaN          NaN          NaN          NaN   \n",
       "\n",
       "     Unnamed: 65 Unnamed: 66 Unnamed: 67  \n",
       "0            NaN         NaN         NaN  \n",
       "1            NaN         NaN         NaN  \n",
       "2            NaN         NaN         NaN  \n",
       "3            NaN         NaN         NaN  \n",
       "4            NaN         NaN         NaN  \n",
       "...          ...         ...         ...  \n",
       "7555         NaN         NaN         NaN  \n",
       "7556         NaN         NaN         NaN  \n",
       "7557         NaN         NaN         NaN  \n",
       "7558         NaN         NaN         NaN  \n",
       "7559         NaN         NaN         NaN  \n",
       "\n",
       "[7560 rows x 68 columns]"
      ]
     },
     "metadata": {},
     "output_type": "display_data"
    }
   ],
   "source": [
    "import pandas as pd\n",
    "\n",
    "# Load the Excel file into a dictionary of DataFrames\n",
    "file_path = '/Users/warrenweissbluth/Documents/code_repos/dan-midterm-repo/UCS-Satellite-Database 5-1-2023.xlsx'\n",
    "dfs = pd.read_excel(file_path, sheet_name=None)\n",
    "\n",
    "# Load the first sheet of the Excel file into a DataFrame, ignoring columns with no data\n",
    "df = pd.read_excel(file_path, sheet_name=0).dropna(axis=1, how='all')\n",
    "\n",
    "# Display the first few rows of the DataFrame\n",
    "display(df)\n"
   ]
  },
  {
   "cell_type": "code",
   "execution_count": 2,
   "metadata": {},
   "outputs": [
    {
     "name": "stdout",
     "output_type": "stream",
     "text": [
      "Total rows removed: 6796\n",
      "Total rows remaining: 764\n",
      "Total rows: 7560\n"
     ]
    }
   ],
   "source": [
    "# Convert 'Dry Mass (kg.)' column to numeric, coercing errors to NaN\n",
    "df['Dry Mass (kg.)'] = pd.to_numeric(df['Dry Mass (kg.)'], errors='coerce')\n",
    "\n",
    "# Calculate the number of rows before cleaning\n",
    "initial_row_count = df.shape[0]\n",
    "\n",
    "# Drop rows with NaN values in the 'Dry Mass (kg.)' column\n",
    "df_clean = df.dropna(subset=['Dry Mass (kg.)'])\n",
    "\n",
    "# Calculate the number of rows after cleaning\n",
    "final_row_count = df_clean.shape[0]\n",
    "\n",
    "# Calculate the total rows removed\n",
    "rows_removed = initial_row_count - final_row_count\n",
    "\n",
    "# Print the total rows removed and the total rows remaining\n",
    "print(f'Total rows removed: {rows_removed}')\n",
    "print(f'Total rows remaining: {final_row_count}')\n",
    "print(f'Total rows: {initial_row_count}')"
   ]
  },
  {
   "cell_type": "code",
   "execution_count": 3,
   "metadata": {},
   "outputs": [
    {
     "data": {
      "image/png": "[encoded data removed]",
      "text/plain": [
       "<Figure size 1000x600 with 1 Axes>"
      ]
     },
     "metadata": {},
     "output_type": "display_data"
    }
   ],
   "source": [
    "import matplotlib.pyplot as plt\n",
    "\n",
    "# Plot the histogram\n",
    "plt.figure(figsize=(10, 6))\n",
    "plt.hist(df_clean['Dry Mass (kg.)'], bins=30, edgecolor='k', alpha=0.7)\n",
    "plt.title('Distribution of Dry Mass (kg.)')\n",
    "plt.xlabel('Dry Mass (kg.)')\n",
    "plt.ylabel('Frequency')\n",
    "plt.grid(True)\n",
    "plt.show()"
   ]
  },
  {
   "cell_type": "code",
   "execution_count": 4,
   "metadata": {},
   "outputs": [
    {
     "name": "stderr",
     "output_type": "stream",
     "text": [
      "/var/folders/bh/bs5kljm140s_4k8bp_hzf8n00000gn/T/ipykernel_11373/1615962549.py:20: SettingWithCopyWarning: \n",
      "A value is trying to be set on a copy of a slice from a DataFrame.\n",
      "Try using .loc[row_indexer,col_indexer] = value instead\n",
      "\n",
      "See the caveats in the documentation: https://pandas.pydata.org/pandas-docs/stable/user_guide/indexing.html#returning-a-view-versus-a-copy\n",
      "  df_clean['Cluster'] = df_clean['Cluster'].apply(lambda x: sorted_clusters.get_loc(x))\n",
      "/var/folders/bh/bs5kljm140s_4k8bp_hzf8n00000gn/T/ipykernel_11373/1615962549.py:24: SettingWithCopyWarning: \n",
      "A value is trying to be set on a copy of a slice from a DataFrame.\n",
      "Try using .loc[row_indexer,col_indexer] = value instead\n",
      "\n",
      "See the caveats in the documentation: https://pandas.pydata.org/pandas-docs/stable/user_guide/indexing.html#returning-a-view-versus-a-copy\n",
      "  df_clean['Cluster'] = df_clean['Cluster'].map(cluster_mapping)\n"
     ]
    },
    {
     "data": {
      "application/vnd.microsoft.datawrangler.viewer.v0+json": {
       "columns": [
        {
         "name": "index",
         "rawType": "int64",
         "type": "integer"
        },
        {
         "name": "Cluster",
         "rawType": "object",
         "type": "string"
        },
        {
         "name": "Name of Satellite, Alternate Names",
         "rawType": "object",
         "type": "string"
        },
        {
         "name": "Current Official Name of Satellite",
         "rawType": "object",
         "type": "string"
        },
        {
         "name": "Country/Org of UN Registry",
         "rawType": "object",
         "type": "string"
        },
        {
         "name": "Country of Operator/Owner",
         "rawType": "object",
         "type": "string"
        },
        {
         "name": "Operator/Owner",
         "rawType": "object",
         "type": "string"
        },
        {
         "name": "Users",
         "rawType": "object",
         "type": "string"
        },
        {
         "name": "Purpose",
         "rawType": "object",
         "type": "string"
        },
        {
         "name": "Detailed Purpose",
         "rawType": "object",
         "type": "unknown"
        },
        {
         "name": "Class of Orbit",
         "rawType": "object",
         "type": "string"
        },
        {
         "name": "Type of Orbit",
         "rawType": "object",
         "type": "unknown"
        },
        {
         "name": "Longitude of GEO (degrees)",
         "rawType": "float64",
         "type": "float"
        },
        {
         "name": "Perigee (km)",
         "rawType": "float64",
         "type": "float"
        },
        {
         "name": "Apogee (km)",
         "rawType": "float64",
         "type": "float"
        },
        {
         "name": "Eccentricity",
         "rawType": "float64",
         "type": "float"
        },
        {
         "name": "Inclination (degrees)",
         "rawType": "float64",
         "type": "float"
        },
        {
         "name": "Period (minutes)",
         "rawType": "float64",
         "type": "float"
        },
        {
         "name": "Launch Mass (kg.)",
         "rawType": "float64",
         "type": "float"
        },
        {
         "name": "Dry Mass (kg.)",
         "rawType": "float64",
         "type": "float"
        },
        {
         "name": "Power (watts)",
         "rawType": "object",
         "type": "unknown"
        },
        {
         "name": "Date of Launch",
         "rawType": "object",
         "type": "unknown"
        },
        {
         "name": "Expected Lifetime (yrs.)",
         "rawType": "float64",
         "type": "float"
        },
        {
         "name": "Contractor",
         "rawType": "object",
         "type": "string"
        },
        {
         "name": "Country of Contractor",
         "rawType": "object",
         "type": "string"
        },
        {
         "name": "Launch Site",
         "rawType": "object",
         "type": "string"
        },
        {
         "name": "Launch Vehicle",
         "rawType": "object",
         "type": "string"
        },
        {
         "name": "COSPAR Number",
         "rawType": "object",
         "type": "string"
        },
        {
         "name": "NORAD Number",
         "rawType": "int64",
         "type": "integer"
        },
        {
         "name": "Comments",
         "rawType": "object",
         "type": "string"
        },
        {
         "name": "Unnamed: 28",
         "rawType": "object",
         "type": "unknown"
        },
        {
         "name": "Source Used for Orbital Data",
         "rawType": "object",
         "type": "string"
        },
        {
         "name": "Source",
         "rawType": "object",
         "type": "string"
        },
        {
         "name": "Source.1",
         "rawType": "object",
         "type": "unknown"
        },
        {
         "name": "Source.2",
         "rawType": "object",
         "type": "unknown"
        },
        {
         "name": "Source.3",
         "rawType": "object",
         "type": "unknown"
        },
        {
         "name": "Source.4",
         "rawType": "object",
         "type": "unknown"
        },
        {
         "name": "Source.5",
         "rawType": "object",
         "type": "unknown"
        },
        {
         "name": "Source.6",
         "rawType": "object",
         "type": "unknown"
        },
        {
         "name": "Unnamed: 37",
         "rawType": "object",
         "type": "unknown"
        },
        {
         "name": "Unnamed: 38",
         "rawType": "object",
         "type": "unknown"
        },
        {
         "name": "Unnamed: 39",
         "rawType": "object",
         "type": "unknown"
        },
        {
         "name": "Unnamed: 40",
         "rawType": "object",
         "type": "unknown"
        },
        {
         "name": "Unnamed: 41",
         "rawType": "object",
         "type": "unknown"
        },
        {
         "name": "Unnamed: 42",
         "rawType": "object",
         "type": "unknown"
        },
        {
         "name": "Unnamed: 43",
         "rawType": "object",
         "type": "unknown"
        },
        {
         "name": "Unnamed: 44",
         "rawType": "object",
         "type": "unknown"
        },
        {
         "name": "Unnamed: 45",
         "rawType": "object",
         "type": "unknown"
        },
        {
         "name": "Unnamed: 46",
         "rawType": "object",
         "type": "unknown"
        },
        {
         "name": "Unnamed: 47",
         "rawType": "object",
         "type": "unknown"
        },
        {
         "name": "Unnamed: 48",
         "rawType": "object",
         "type": "unknown"
        },
        {
         "name": "Unnamed: 49",
         "rawType": "object",
         "type": "unknown"
        },
        {
         "name": "Unnamed: 50",
         "rawType": "object",
         "type": "unknown"
        },
        {
         "name": "Unnamed: 51",
         "rawType": "object",
         "type": "unknown"
        },
        {
         "name": "Unnamed: 52",
         "rawType": "object",
         "type": "unknown"
        },
        {
         "name": "Unnamed: 53",
         "rawType": "object",
         "type": "unknown"
        },
        {
         "name": "Unnamed: 54",
         "rawType": "object",
         "type": "unknown"
        },
        {
         "name": "Unnamed: 55",
         "rawType": "object",
         "type": "unknown"
        },
        {
         "name": "Unnamed: 56",
         "rawType": "object",
         "type": "unknown"
        },
        {
         "name": "Unnamed: 57",
         "rawType": "object",
         "type": "unknown"
        },
        {
         "name": "Unnamed: 58",
         "rawType": "object",
         "type": "unknown"
        },
        {
         "name": "Unnamed: 59",
         "rawType": "object",
         "type": "unknown"
        },
        {
         "name": "Unnamed: 60",
         "rawType": "object",
         "type": "unknown"
        },
        {
         "name": "Unnamed: 61",
         "rawType": "object",
         "type": "unknown"
        },
        {
         "name": "Unnamed: 62",
         "rawType": "object",
         "type": "unknown"
        },
        {
         "name": "Unnamed: 63",
         "rawType": "object",
         "type": "unknown"
        },
        {
         "name": "Unnamed: 64",
         "rawType": "object",
         "type": "unknown"
        },
        {
         "name": "Unnamed: 65",
         "rawType": "object",
         "type": "unknown"
        },
        {
         "name": "Unnamed: 66",
         "rawType": "object",
         "type": "unknown"
        },
        {
         "name": "Unnamed: 67",
         "rawType": "object",
         "type": "unknown"
        }
       ],
       "conversionMethod": "pd.DataFrame",
       "ref": "25f20aa5-def5-4ccb-ad86-4d0e882aec97",
       "rows": [
        [
         "1",
         "Light Payload",
         "AAC AIS-Sat1 (Kelpie 1)",
         "AAC AIS-Sat1 (Kelpie 1)",
         "United Kingdom",
         "United Kingdom",
         "AAC Clyde Space",
         "Commercial",
         "Earth Observation",
         "Automatic Identification System (AIS)",
         "LEO",
         "Sun-Synchronous",
         "0.0",
         "637.0",
         "654.0",
         "0.00151",
         "98.0",
         "95.0",
         "4.0",
         "4.0",
         null,
         "2023-01-03 00:00:00",
         null,
         "AAC Clyde Space",
         "Sweden/UK/USA/Netherlands",
         "Cape Canaveral",
         "Falcon 9",
         "2023-001DC",
         "55107",
         "Provide AIS information to Orbcomm.",
         null,
         "JMSatcat/9_23",
         "https://www.aac-clyde.space/articles/aac-clyde-space-ais-communications-satellite-kelpie-1-successfully-launched-from-cape-canaveral",
         null,
         null,
         null,
         null,
         null,
         null,
         null,
         null,
         null,
         null,
         null,
         null,
         null,
         null,
         null,
         null,
         null,
         null,
         null,
         null,
         null,
         null,
         null,
         null,
         null,
         null,
         null,
         null,
         null,
         null,
         null,
         null,
         null,
         null,
         null,
         null,
         null
        ],
        [
         "7",
         "Medium Payload",
         "ABS-4 (ABS-2i, MBSat, Mobile Broadcasting Satellite, Han Byul)",
         "ABS-4",
         "NR",
         "Multinational",
         "Asia Broadcast Satellite Ltd.",
         "Commercial",
         "Communications",
         null,
         "GEO",
         null,
         "75.0",
         "35780.0",
         "35793.0",
         "0.00015418737324018834",
         "0.01",
         "1436.1",
         "4143.0",
         "1700.0",
         "7400",
         "2004-03-13 00:00:00",
         "12.0",
         "Space Systems/Loral",
         "USA",
         "Cape Canaveral",
         "Atlas 3",
         "2004-007A",
         "28184",
         "Purchased by ABS in 2013.",
         null,
         "JM/12_08",
         "http://www.absatellite.net/satellite-fleet/?sat=abs2",
         null,
         null,
         "http://space.skyrocket.de/doc_sdat/mbsat-1.htm",
         null,
         null,
         null,
         null,
         null,
         null,
         null,
         null,
         null,
         null,
         null,
         null,
         null,
         null,
         null,
         null,
         null,
         null,
         null,
         null,
         null,
         null,
         null,
         null,
         null,
         null,
         null,
         null,
         null,
         null,
         null,
         null,
         null,
         null
        ],
        [
         "8",
         "Medium Payload",
         "ABS-6 (ABS-1, LMI-1, Lockheed Martin-Intersputnik-1)",
         "ABS-6",
         "NR",
         "Multinational",
         "Asia Broadcast Satellite Ltd.",
         "Commercial",
         "Communications",
         null,
         "GEO",
         null,
         "159.0",
         "35777.0",
         "35794.0",
         "0.00020163442492675927",
         "0.01",
         "1436.08",
         "2894.0",
         "1730.0",
         "6,800 (EOL)",
         "1999-09-26 00:00:00",
         "15.0",
         "Lockheed Martin",
         "USA",
         "Baikonur Cosmodrome",
         "Proton",
         "1999-053A",
         "25924",
         "28 C-band, 16 Ku-band; business services, public voice and data services, broadcasting, direct-to-home; Eastern Europe, CIS, South and Southeast Asia, Africa, Middle East, Australia.",
         null,
         "JM/12_08",
         "http://www.washingtonpost.com/wp-dyn/articles/A18888-2004May11.html",
         null,
         "http://nssdc.gsfc.nasa.gov/spacewarn/spx551.html",
         "http://www.interpsputnik.com/1mi1chars.shtml",
         "http://www.intersputnik.com/press_270999.htm",
         "http://www.lockheedmartin.com/content/dam/lockheed/data/space/documents/a2100/A2100brochure.pdf",
         null,
         null,
         null,
         null,
         null,
         null,
         null,
         null,
         null,
         null,
         null,
         null,
         null,
         null,
         null,
         null,
         null,
         null,
         null,
         null,
         null,
         null,
         null,
         null,
         null,
         null,
         null,
         null,
         null,
         null,
         null,
         null
        ],
        [
         "12",
         "Light Payload",
         "ADLER-2",
         "ADLER-2",
         "NR (9/23)",
         "Austria",
         "Austrian Space Forum (OEWF)/Spire",
         "Civil",
         "Earth Science",
         null,
         "LEO",
         "Sun-Synchronous",
         "0.0",
         "497.0",
         "506.0",
         "0.0006548788474132286",
         "97.4",
         "95.0",
         "11.5",
         "11.5",
         null,
         "2023-04-15 00:00:00",
         null,
         "Spire Global",
         "USA",
         "Vandenberg AFB",
         "Falcon 9",
         "2023-054K",
         "56187",
         "Orbital debris monitoring/study clouds and aerosols in atmosphere",
         null,
         "JMSatcat/9_23",
         "https://adler.oewf.org/#contact",
         null,
         null,
         null,
         null,
         null,
         null,
         null,
         null,
         null,
         null,
         null,
         null,
         null,
         null,
         null,
         null,
         null,
         null,
         null,
         null,
         null,
         null,
         null,
         null,
         null,
         null,
         null,
         null,
         null,
         null,
         null,
         null,
         null,
         null,
         null,
         null,
         null
        ],
        [
         "40",
         "Medium Payload",
         "Afghansat-1 (Eutelsat 48D [Eutelsat 48B, Eutelsat W2M])",
         "Eutelsat 48D",
         "France",
         "Multinational",
         "EUTELSAT S.A.",
         "Commercial",
         "Communications",
         null,
         "GEO",
         null,
         "48.0",
         "35764.0",
         "35808.0",
         "0.0005218711452699497",
         "0.12",
         "1436.08",
         "3460.0",
         "1555.0",
         "7000",
         "2008-12-20 00:00:00",
         "15.0",
         "EADS Astrium",
         "France",
         "Guiana Space Center",
         "Ariane 5",
         "2008-065B",
         "33460",
         "30 Ku-band transponders.",
         null,
         "JM/12_08",
         "http://www.cdi.org/friendlyversion/printversion.cfm?documentID=4478",
         null,
         "http://www.tbs-satellite.com/tse/online/sat_eutelsat_w2m.html",
         "http://en.wikipedia.org/wiki/Eutelsat_W2M",
         null,
         null,
         null,
         null,
         null,
         null,
         null,
         null,
         null,
         null,
         null,
         null,
         null,
         null,
         null,
         null,
         null,
         null,
         null,
         null,
         null,
         null,
         null,
         null,
         null,
         null,
         null,
         null,
         null,
         null,
         null,
         null,
         null,
         null
        ]
       ],
       "shape": {
        "columns": 69,
        "rows": 5
       }
      },
      "text/html": [
       "<div>\n",
       "<style scoped>\n",
       "    .dataframe tbody tr th:only-of-type {\n",
       "        vertical-align: middle;\n",
       "    }\n",
       "\n",
       "    .dataframe tbody tr th {\n",
       "        vertical-align: top;\n",
       "    }\n",
       "\n",
       "    .dataframe thead th {\n",
       "        text-align: right;\n",
       "    }\n",
       "</style>\n",
       "<table border=\"1\" class=\"dataframe\">\n",
       "  <thead>\n",
       "    <tr style=\"text-align: right;\">\n",
       "      <th></th>\n",
       "      <th>Cluster</th>\n",
       "      <th>Name of Satellite, Alternate Names</th>\n",
       "      <th>Current Official Name of Satellite</th>\n",
       "      <th>Country/Org of UN Registry</th>\n",
       "      <th>Country of Operator/Owner</th>\n",
       "      <th>Operator/Owner</th>\n",
       "      <th>Users</th>\n",
       "      <th>Purpose</th>\n",
       "      <th>Detailed Purpose</th>\n",
       "      <th>Class of Orbit</th>\n",
       "      <th>...</th>\n",
       "      <th>Unnamed: 58</th>\n",
       "      <th>Unnamed: 59</th>\n",
       "      <th>Unnamed: 60</th>\n",
       "      <th>Unnamed: 61</th>\n",
       "      <th>Unnamed: 62</th>\n",
       "      <th>Unnamed: 63</th>\n",
       "      <th>Unnamed: 64</th>\n",
       "      <th>Unnamed: 65</th>\n",
       "      <th>Unnamed: 66</th>\n",
       "      <th>Unnamed: 67</th>\n",
       "    </tr>\n",
       "  </thead>\n",
       "  <tbody>\n",
       "    <tr>\n",
       "      <th>1</th>\n",
       "      <td>Light Payload</td>\n",
       "      <td>AAC AIS-Sat1 (Kelpie 1)</td>\n",
       "      <td>AAC AIS-Sat1 (Kelpie 1)</td>\n",
       "      <td>United Kingdom</td>\n",
       "      <td>United Kingdom</td>\n",
       "      <td>AAC Clyde Space</td>\n",
       "      <td>Commercial</td>\n",
       "      <td>Earth Observation</td>\n",
       "      <td>Automatic Identification System (AIS)</td>\n",
       "      <td>LEO</td>\n",
       "      <td>...</td>\n",
       "      <td>NaN</td>\n",
       "      <td>NaN</td>\n",
       "      <td>NaN</td>\n",
       "      <td>NaN</td>\n",
       "      <td>NaN</td>\n",
       "      <td>NaN</td>\n",
       "      <td>NaN</td>\n",
       "      <td>NaN</td>\n",
       "      <td>NaN</td>\n",
       "      <td>NaN</td>\n",
       "    </tr>\n",
       "    <tr>\n",
       "      <th>7</th>\n",
       "      <td>Medium Payload</td>\n",
       "      <td>ABS-4 (ABS-2i, MBSat, Mobile Broadcasting Sate...</td>\n",
       "      <td>ABS-4</td>\n",
       "      <td>NR</td>\n",
       "      <td>Multinational</td>\n",
       "      <td>Asia Broadcast Satellite Ltd.</td>\n",
       "      <td>Commercial</td>\n",
       "      <td>Communications</td>\n",
       "      <td>NaN</td>\n",
       "      <td>GEO</td>\n",
       "      <td>...</td>\n",
       "      <td>NaN</td>\n",
       "      <td>NaN</td>\n",
       "      <td>NaN</td>\n",
       "      <td>NaN</td>\n",
       "      <td>NaN</td>\n",
       "      <td>NaN</td>\n",
       "      <td>NaN</td>\n",
       "      <td>NaN</td>\n",
       "      <td>NaN</td>\n",
       "      <td>NaN</td>\n",
       "    </tr>\n",
       "    <tr>\n",
       "      <th>8</th>\n",
       "      <td>Medium Payload</td>\n",
       "      <td>ABS-6 (ABS-1, LMI-1, Lockheed Martin-Intersput...</td>\n",
       "      <td>ABS-6</td>\n",
       "      <td>NR</td>\n",
       "      <td>Multinational</td>\n",
       "      <td>Asia Broadcast Satellite Ltd.</td>\n",
       "      <td>Commercial</td>\n",
       "      <td>Communications</td>\n",
       "      <td>NaN</td>\n",
       "      <td>GEO</td>\n",
       "      <td>...</td>\n",
       "      <td>NaN</td>\n",
       "      <td>NaN</td>\n",
       "      <td>NaN</td>\n",
       "      <td>NaN</td>\n",
       "      <td>NaN</td>\n",
       "      <td>NaN</td>\n",
       "      <td>NaN</td>\n",
       "      <td>NaN</td>\n",
       "      <td>NaN</td>\n",
       "      <td>NaN</td>\n",
       "    </tr>\n",
       "    <tr>\n",
       "      <th>12</th>\n",
       "      <td>Light Payload</td>\n",
       "      <td>ADLER-2</td>\n",
       "      <td>ADLER-2</td>\n",
       "      <td>NR (9/23)</td>\n",
       "      <td>Austria</td>\n",
       "      <td>Austrian Space Forum (OEWF)/Spire</td>\n",
       "      <td>Civil</td>\n",
       "      <td>Earth Science</td>\n",
       "      <td>NaN</td>\n",
       "      <td>LEO</td>\n",
       "      <td>...</td>\n",
       "      <td>NaN</td>\n",
       "      <td>NaN</td>\n",
       "      <td>NaN</td>\n",
       "      <td>NaN</td>\n",
       "      <td>NaN</td>\n",
       "      <td>NaN</td>\n",
       "      <td>NaN</td>\n",
       "      <td>NaN</td>\n",
       "      <td>NaN</td>\n",
       "      <td>NaN</td>\n",
       "    </tr>\n",
       "    <tr>\n",
       "      <th>40</th>\n",
       "      <td>Medium Payload</td>\n",
       "      <td>Afghansat-1 (Eutelsat 48D [Eutelsat 48B, Eutel...</td>\n",
       "      <td>Eutelsat 48D</td>\n",
       "      <td>France</td>\n",
       "      <td>Multinational</td>\n",
       "      <td>EUTELSAT S.A.</td>\n",
       "      <td>Commercial</td>\n",
       "      <td>Communications</td>\n",
       "      <td>NaN</td>\n",
       "      <td>GEO</td>\n",
       "      <td>...</td>\n",
       "      <td>NaN</td>\n",
       "      <td>NaN</td>\n",
       "      <td>NaN</td>\n",
       "      <td>NaN</td>\n",
       "      <td>NaN</td>\n",
       "      <td>NaN</td>\n",
       "      <td>NaN</td>\n",
       "      <td>NaN</td>\n",
       "      <td>NaN</td>\n",
       "      <td>NaN</td>\n",
       "    </tr>\n",
       "  </tbody>\n",
       "</table>\n",
       "<p>5 rows × 69 columns</p>\n",
       "</div>"
      ],
      "text/plain": [
       "           Cluster                 Name of Satellite, Alternate Names  \\\n",
       "1    Light Payload                            AAC AIS-Sat1 (Kelpie 1)   \n",
       "7   Medium Payload  ABS-4 (ABS-2i, MBSat, Mobile Broadcasting Sate...   \n",
       "8   Medium Payload  ABS-6 (ABS-1, LMI-1, Lockheed Martin-Intersput...   \n",
       "12   Light Payload                                            ADLER-2   \n",
       "40  Medium Payload  Afghansat-1 (Eutelsat 48D [Eutelsat 48B, Eutel...   \n",
       "\n",
       "   Current Official Name of Satellite Country/Org of UN Registry  \\\n",
       "1             AAC AIS-Sat1 (Kelpie 1)             United Kingdom   \n",
       "7                               ABS-4                         NR   \n",
       "8                               ABS-6                         NR   \n",
       "12                            ADLER-2                  NR (9/23)   \n",
       "40                       Eutelsat 48D                     France   \n",
       "\n",
       "   Country of Operator/Owner                     Operator/Owner       Users  \\\n",
       "1             United Kingdom                    AAC Clyde Space  Commercial   \n",
       "7              Multinational      Asia Broadcast Satellite Ltd.  Commercial   \n",
       "8              Multinational      Asia Broadcast Satellite Ltd.  Commercial   \n",
       "12                   Austria  Austrian Space Forum (OEWF)/Spire       Civil   \n",
       "40             Multinational                      EUTELSAT S.A.  Commercial   \n",
       "\n",
       "              Purpose                       Detailed Purpose Class of Orbit  \\\n",
       "1   Earth Observation  Automatic Identification System (AIS)            LEO   \n",
       "7      Communications                                    NaN            GEO   \n",
       "8      Communications                                    NaN            GEO   \n",
       "12      Earth Science                                    NaN            LEO   \n",
       "40     Communications                                    NaN            GEO   \n",
       "\n",
       "    ... Unnamed: 58  Unnamed: 59  Unnamed: 60  Unnamed: 61  Unnamed: 62  \\\n",
       "1   ...         NaN          NaN          NaN          NaN          NaN   \n",
       "7   ...         NaN          NaN          NaN          NaN          NaN   \n",
       "8   ...         NaN          NaN          NaN          NaN          NaN   \n",
       "12  ...         NaN          NaN          NaN          NaN          NaN   \n",
       "40  ...         NaN          NaN          NaN          NaN          NaN   \n",
       "\n",
       "    Unnamed: 63  Unnamed: 64  Unnamed: 65  Unnamed: 66 Unnamed: 67  \n",
       "1           NaN          NaN          NaN          NaN         NaN  \n",
       "7           NaN          NaN          NaN          NaN         NaN  \n",
       "8           NaN          NaN          NaN          NaN         NaN  \n",
       "12          NaN          NaN          NaN          NaN         NaN  \n",
       "40          NaN          NaN          NaN          NaN         NaN  \n",
       "\n",
       "[5 rows x 69 columns]"
      ]
     },
     "metadata": {},
     "output_type": "display_data"
    }
   ],
   "source": [
    "from sklearn.cluster import KMeans\n",
    "\n",
    "# Select the 'Dry Mass (kg.)' column for clustering\n",
    "X = df_clean[['Dry Mass (kg.)']]\n",
    "\n",
    "# Initialize the KMeans algorithm with a specified number of clusters\n",
    "kmeans = KMeans(n_clusters=3, random_state=0)\n",
    "\n",
    "# Fit the KMeans algorithm to the data\n",
    "kmeans.fit(X)\n",
    "\n",
    "# Add the cluster labels to the dataframe\n",
    "df_clean.insert(0, 'Cluster', kmeans.labels_)\n",
    "\n",
    "# Calculate the mean dry mass for each cluster\n",
    "mean_dry_mass = df_clean.groupby('Cluster')['Dry Mass (kg.)'].mean()\n",
    "\n",
    "# Sort clusters by mean mass\n",
    "sorted_clusters = mean_dry_mass.sort_values().index\n",
    "df_clean['Cluster'] = df_clean['Cluster'].apply(lambda x: sorted_clusters.get_loc(x))\n",
    "\n",
    "# Map the clusters to light, medium, and heavy payloads\n",
    "cluster_mapping = {0: 'Light Payload', 1: 'Medium Payload', 2: 'Heavy Payload'}\n",
    "df_clean['Cluster'] = df_clean['Cluster'].map(cluster_mapping)\n",
    "\n",
    "# Display the first few rows of the dataframe with the cluster labels\n",
    "display(df_clean.head())"
   ]
  },
  {
   "cell_type": "code",
   "execution_count": 5,
   "metadata": {},
   "outputs": [
    {
     "name": "stderr",
     "output_type": "stream",
     "text": [
      "/var/folders/bh/bs5kljm140s_4k8bp_hzf8n00000gn/T/ipykernel_11373/4228563181.py:11: FutureWarning: \n",
      "\n",
      "Passing `palette` without assigning `hue` is deprecated and will be removed in v0.14.0. Assign the `x` variable to `hue` and set `legend=False` for the same effect.\n",
      "\n",
      "  sns.boxplot(data=df_clean, x='Cluster', y='Dry Mass (kg.)', palette='viridis', ax=ax)\n"
     ]
    },
    {
     "data": {
      "image/png": "[encoded data removed]",
      "text/plain": [
       "<Figure size 1800x800 with 1 Axes>"
      ]
     },
     "metadata": {},
     "output_type": "display_data"
    }
   ],
   "source": [
    "import seaborn as sns\n",
    "import matplotlib.pyplot as plt\n",
    "\n",
    "# Set the style of the visualization\n",
    "sns.set(style=\"whitegrid\")\n",
    "\n",
    "# Create a figure with subplots\n",
    "fig, ax = plt.subplots(figsize=(18, 8))\n",
    "\n",
    "# Plot the whisker chart (boxplot)\n",
    "sns.boxplot(data=df_clean, x='Cluster', y='Dry Mass (kg.)', palette='viridis', ax=ax)\n",
    "ax.set_title('Boxplot of Dry Mass by Cluster')\n",
    "ax.set_xlabel('Cluster')\n",
    "ax.set_ylabel('Dry Mass (kg.)')\n",
    "\n",
    "# Show the plot\n",
    "plt.tight_layout()\n",
    "plt.show()\n"
   ]
  },
  {
   "cell_type": "code",
   "execution_count": 6,
   "metadata": {},
   "outputs": [
    {
     "data": {
      "image/png": "[encoded data removed]",
      "text/plain": [
       "<Figure size 1200x800 with 1 Axes>"
      ]
     },
     "metadata": {},
     "output_type": "display_data"
    }
   ],
   "source": [
    "import matplotlib.pyplot as plt\n",
    "\n",
    "# Group by 'Cluster' and 'Launch Vehicle', and count the occurrences\n",
    "launch_vehicle_counts = df_clean.groupby(['Cluster', 'Launch Vehicle']).size().unstack(fill_value=0)\n",
    "\n",
    "# Combine launch vehicles with less than 10 occurrences into 'Other'\n",
    "launch_vehicle_counts['Other'] = launch_vehicle_counts.loc[:, launch_vehicle_counts.sum() < 10].sum(axis=1)\n",
    "launch_vehicle_counts = launch_vehicle_counts.loc[:, launch_vehicle_counts.sum() >= 20]\n",
    "launch_vehicle_counts['Other'] = launch_vehicle_counts['Other']\n",
    "\n",
    "# Reorder the clusters\n",
    "launch_vehicle_counts = launch_vehicle_counts.loc[['Light Payload', 'Medium Payload', 'Heavy Payload']]\n",
    "\n",
    "# Plot the stacked bar chart\n",
    "ax = launch_vehicle_counts.plot(kind='bar', stacked=True, figsize=(12, 8))\n",
    "\n",
    "plt.title('Number of Launch Vehicles by Cluster Group')\n",
    "plt.xlabel('Cluster Group')\n",
    "plt.ylabel('Number of Launch Vehicles')\n",
    "plt.legend(title='Launch Vehicle', bbox_to_anchor=(1.05, 1), loc='upper left')\n",
    "plt.xticks(rotation=0)\n",
    "plt.tight_layout()\n",
    "plt.show()"
   ]
  },
  {
   "cell_type": "code",
   "execution_count": 7,
   "metadata": {},
   "outputs": [
    {
     "data": {
      "application/vnd.microsoft.datawrangler.viewer.v0+json": {
       "columns": [
        {
         "name": "Cluster",
         "rawType": "object",
         "type": "string"
        },
        {
         "name": "count",
         "rawType": "float64",
         "type": "float"
        },
        {
         "name": "mean",
         "rawType": "float64",
         "type": "float"
        },
        {
         "name": "std",
         "rawType": "float64",
         "type": "float"
        },
        {
         "name": "min",
         "rawType": "float64",
         "type": "float"
        },
        {
         "name": "25%",
         "rawType": "float64",
         "type": "float"
        },
        {
         "name": "50%",
         "rawType": "float64",
         "type": "float"
        },
        {
         "name": "75%",
         "rawType": "float64",
         "type": "float"
        },
        {
         "name": "max",
         "rawType": "float64",
         "type": "float"
        }
       ],
       "conversionMethod": "pd.DataFrame",
       "ref": "7c2a6e87-6643-4b38-afa7-6c49552d5a78",
       "rows": [
        [
         "Heavy Payload",
         "5.0",
         "11100.0",
         "2459.6747752497686",
         "10000.0",
         "10000.0",
         "10000.0",
         "10000.0",
         "15500.0"
        ],
        [
         "Light Payload",
         "578.0",
         "327.04411764705884",
         "324.58750819556013",
         "1.0",
         "50.0",
         "221.0",
         "678.0",
         "1330.0"
        ],
        [
         "Medium Payload",
         "181.0",
         "2378.0828729281766",
         "787.2832603217292",
         "1375.0",
         "1700.0",
         "2180.0",
         "2975.0",
         "5624.0"
        ]
       ],
       "shape": {
        "columns": 8,
        "rows": 3
       }
      },
      "text/html": [
       "<div>\n",
       "<style scoped>\n",
       "    .dataframe tbody tr th:only-of-type {\n",
       "        vertical-align: middle;\n",
       "    }\n",
       "\n",
       "    .dataframe tbody tr th {\n",
       "        vertical-align: top;\n",
       "    }\n",
       "\n",
       "    .dataframe thead th {\n",
       "        text-align: right;\n",
       "    }\n",
       "</style>\n",
       "<table border=\"1\" class=\"dataframe\">\n",
       "  <thead>\n",
       "    <tr style=\"text-align: right;\">\n",
       "      <th></th>\n",
       "      <th>count</th>\n",
       "      <th>mean</th>\n",
       "      <th>std</th>\n",
       "      <th>min</th>\n",
       "      <th>25%</th>\n",
       "      <th>50%</th>\n",
       "      <th>75%</th>\n",
       "      <th>max</th>\n",
       "    </tr>\n",
       "    <tr>\n",
       "      <th>Cluster</th>\n",
       "      <th></th>\n",
       "      <th></th>\n",
       "      <th></th>\n",
       "      <th></th>\n",
       "      <th></th>\n",
       "      <th></th>\n",
       "      <th></th>\n",
       "      <th></th>\n",
       "    </tr>\n",
       "  </thead>\n",
       "  <tbody>\n",
       "    <tr>\n",
       "      <th>Heavy Payload</th>\n",
       "      <td>5.0</td>\n",
       "      <td>11100.000000</td>\n",
       "      <td>2459.674775</td>\n",
       "      <td>10000.0</td>\n",
       "      <td>10000.0</td>\n",
       "      <td>10000.0</td>\n",
       "      <td>10000.0</td>\n",
       "      <td>15500.0</td>\n",
       "    </tr>\n",
       "    <tr>\n",
       "      <th>Light Payload</th>\n",
       "      <td>578.0</td>\n",
       "      <td>327.044118</td>\n",
       "      <td>324.587508</td>\n",
       "      <td>1.0</td>\n",
       "      <td>50.0</td>\n",
       "      <td>221.0</td>\n",
       "      <td>678.0</td>\n",
       "      <td>1330.0</td>\n",
       "    </tr>\n",
       "    <tr>\n",
       "      <th>Medium Payload</th>\n",
       "      <td>181.0</td>\n",
       "      <td>2378.082873</td>\n",
       "      <td>787.283260</td>\n",
       "      <td>1375.0</td>\n",
       "      <td>1700.0</td>\n",
       "      <td>2180.0</td>\n",
       "      <td>2975.0</td>\n",
       "      <td>5624.0</td>\n",
       "    </tr>\n",
       "  </tbody>\n",
       "</table>\n",
       "</div>"
      ],
      "text/plain": [
       "                count          mean          std      min      25%      50%  \\\n",
       "Cluster                                                                       \n",
       "Heavy Payload     5.0  11100.000000  2459.674775  10000.0  10000.0  10000.0   \n",
       "Light Payload   578.0    327.044118   324.587508      1.0     50.0    221.0   \n",
       "Medium Payload  181.0   2378.082873   787.283260   1375.0   1700.0   2180.0   \n",
       "\n",
       "                    75%      max  \n",
       "Cluster                           \n",
       "Heavy Payload   10000.0  15500.0  \n",
       "Light Payload     678.0   1330.0  \n",
       "Medium Payload   2975.0   5624.0  "
      ]
     },
     "metadata": {},
     "output_type": "display_data"
    }
   ],
   "source": [
    "# Group by 'Cluster' and get summary statistics for 'Dry Mass (kg.)'\n",
    "cluster_summary = df_clean.groupby('Cluster')['Dry Mass (kg.)'].describe()\n",
    "\n",
    "# Display the summary statistics\n",
    "display(cluster_summary)"
   ]
  },
  {
   "cell_type": "code",
   "execution_count": 8,
   "metadata": {},
   "outputs": [
    {
     "data": {
      "image/png": "[encoded data removed]",
      "text/plain": [
       "<Figure size 1200x800 with 1 Axes>"
      ]
     },
     "metadata": {},
     "output_type": "display_data"
    }
   ],
   "source": [
    "# Group by 'Cluster' and 'Class of Orbit', and count the occurrences\n",
    "orbit_class_counts = df_clean.groupby(['Cluster', 'Class of Orbit']).size().unstack(fill_value=0)\n",
    "orbit_class_counts = orbit_class_counts.loc[['Light Payload', 'Medium Payload', 'Heavy Payload']]\n",
    "\n",
    "# Plot the stacked bar chart\n",
    "ax = orbit_class_counts.plot(kind='bar', stacked=True, figsize=(12, 8))\n",
    "\n",
    "plt.title('Number of Satellites by Cluster and Class of Orbit')\n",
    "plt.xlabel('Cluster')\n",
    "plt.ylabel('Number of Satellites')\n",
    "plt.legend(title='Class of Orbit', bbox_to_anchor=(1.05, 1), loc='upper left')\n",
    "plt.xticks(rotation=0)\n",
    "plt.tight_layout()\n",
    "plt.show()"
   ]
  },
  {
   "cell_type": "code",
   "execution_count": 9,
   "metadata": {},
   "outputs": [
    {
     "data": {
      "application/vnd.plotly.v1+json": {
       "config": {
        "plotlyServerURL": "https://plot.ly"
       },
       "data": [
        {
         "branchvalues": "total",
         "domain": {
          "x": [
           0,
           1
          ],
          "y": [
           0,
           1
          ]
         },
         "hovertemplate": "labels=%{label}<br>count=%{value}<br>parent=%{parent}<br>id=%{id}<extra></extra>",
         "ids": [
          "Czech Republic/Civil/Communications",
          "Argentina/Commercial/Communications",
          "Brazil/Commercial/Communications",
          "Canada/Commercial/Communications",
          "China/Commercial/Communications",
          "Japan/Commercial/Communications",
          "Lithuania/Commercial/Communications",
          "Luxembourg/Commercial/Communications",
          "Multinational/Commercial/Communications",
          "Netherlands/Commercial/Communications",
          "Russia/Commercial/Communications",
          "South Korea/Commercial/Communications",
          "Spain/Commercial/Communications",
          "Turkey/Commercial/Communications",
          "USA/Commercial/Communications",
          "USA/Canada/Commercial/Communications",
          "USA/Japan/Commercial/Communications",
          "United Arab Emirates/Commercial/Communications",
          "United Kingdom/Commercial/Communications",
          "Turkey/Commercial/Civil/Communications",
          "Azerbaijan/Government/Communications",
          "China/Government/Communications",
          "Egypt/Government/Communications",
          "India/Government/Communications",
          "Multinational/Government/Communications",
          "Russia/Government/Communications",
          "Spain/Government/Communications",
          "USA/Government/Communications",
          "China/Government /Communications",
          "China/Government/Commercial/Communications",
          "India/Government/Commercial/Communications",
          "Pakistan/Government/Commercial/Communications",
          "Turkmenistan/Monaco/Government/Commercial/Communications",
          "USA/Government/Commercial/Communications",
          "Spain/Government/Commercial/Military/Communications",
          "France/Military/Communications",
          "Italy/Military/Communications",
          "Spain/Military/Communications",
          "USA/Military/Communications",
          "United Kingdom/Military/Communications",
          "Australia/Military/Commercial/Communications",
          "Spain/Military/Government/Communications",
          "USA/Commercial/Communications/Maritime Tracking",
          "USA/Argentina/Commercial/Communications/Maritime Tracking",
          "India/Government/Communications/Navigation",
          "Argentina/Commercial/Communications/Technology Development",
          "USA/Argentina/Commercial/Communications/Technology Development",
          "Spain/Government/Communications/Technology Development",
          "United Kingdom/ESA/Government/Commercial/Communications/Technology Development",
          "China/Civil/Earth Observation",
          "Turkey/Civil/Earth Observation",
          "USA/Civil/Earth Observation",
          "Argentina/Commercial/Earth Observation",
          "Australia/Commercial/Earth Observation",
          "China/Commercial/Earth Observation",
          "Denmark/Commercial/Earth Observation",
          "Finland/Commercial/Earth Observation",
          "France/Commercial/Earth Observation",
          "Luxembourg/Commercial/Earth Observation",
          "Spain/Commercial/Earth Observation",
          "Turkey/Commercial/Earth Observation",
          "USA/Commercial/Earth Observation",
          "United Kingdom/Commercial/Earth Observation",
          "Belarus/Government/Earth Observation",
          "China/Government/Earth Observation",
          "ESA/Government/Earth Observation",
          "Egypt/Government/Earth Observation",
          "India/Government/Earth Observation",
          "Japan/Government/Earth Observation",
          "Kenya/Government/Earth Observation",
          "Norway/Government/Earth Observation",
          "Russia/Government/Earth Observation",
          "Saudi Arabia/Government/Earth Observation",
          "Sweden/Government/Earth Observation",
          "Thailand/Government/Earth Observation",
          "USA/Government/Earth Observation",
          "USA/France/Government/Earth Observation",
          "USA/Japan/Brazil/Government/Earth Observation",
          "United Arab Emirates/Government/Earth Observation",
          "Multinational/Government/Civil/Earth Observation",
          "China/Military/Earth Observation",
          "Colombia/Military/Earth Observation",
          "Israel/Military/Earth Observation",
          "Norway/Military/Earth Observation",
          "Russia/Military/Earth Observation",
          "USA/Military/Earth Observation",
          "Germany/Government/Civil/Earth Observation/Technology Development",
          "Austria/Civil/Earth Science",
          "Canada/Commercial/Earth Science",
          "USA/Commercial/Earth Science",
          "China/Government/Earth Science",
          "USA/Government/Earth Science",
          "France/Government/Earth/Space Observation",
          "China/Commercial/Meteorological",
          "ESA/Commercial/Navigation/Global Positioning",
          "USA/Military/Commercial/Navigation/Global Positioning",
          "China/Military/Government/Navigation/Global Positioning",
          "India/Government/Navigation/Regional Positioning",
          "Denmark/Civil/Space Science",
          "Israel/Civil/Space Science",
          "USA/Civil/Space Science",
          "Japan/Commercial/Space Science",
          "Canada/Government/Space Science",
          "ESA/Government/Space Science",
          "ESA/Russia/Government/Space Science",
          "Multinational/Government/Space Science",
          "Taiwan/Government/Space Science",
          "USA/Government/Space Science",
          "Multinational/Government/Civil/Space Science",
          "USA/Government/Civil/Space Science",
          "USA/Commercial/Surveillance",
          "China/Civil/Technology Demonstration",
          "Argentina/Commercial/Technology Demonstration",
          "Australia/Commercial/Technology Demonstration",
          "Brazil/Commercial/Technology Demonstration",
          "France/Commercial/Technology Demonstration",
          "Hungary/Commercial/Technology Demonstration",
          "USA/Poland/Commercial/Technology Demonstration",
          "India/Government/Technology Demonstration",
          "USA/Military/Technology Demonstration",
          "Austria/Civil/Technology Development",
          "China/Civil/Technology Development",
          "Japan/Civil/Technology Development",
          "Kuwait/Civil/Technology Development",
          "Monaco/Civil/Technology Development",
          "Multinational/Civil/Technology Development",
          "Ukraine/Civil/Technology Development",
          "China/Commercial/Technology Development",
          "France/Commercial/Technology Development",
          "Israel/Commercial/Technology Development",
          "Singapore/Commercial/Technology Development",
          "USA/Commercial/Technology Development",
          "United Kingdom/Commercial/Technology Development",
          "China/Government/Technology Development",
          "Japan/Government/Technology Development",
          "USA/Military/Technology Development",
          "Austria/Civil",
          "China/Civil",
          "Czech Republic/Civil",
          "Denmark/Civil",
          "Israel/Civil",
          "Japan/Civil",
          "Kuwait/Civil",
          "Monaco/Civil",
          "Multinational/Civil",
          "Turkey/Civil",
          "USA/Civil",
          "Ukraine/Civil",
          "Argentina/Commercial",
          "Australia/Commercial",
          "Brazil/Commercial",
          "Canada/Commercial",
          "China/Commercial",
          "Denmark/Commercial",
          "ESA/Commercial",
          "Finland/Commercial",
          "France/Commercial",
          "Hungary/Commercial",
          "Israel/Commercial",
          "Japan/Commercial",
          "Lithuania/Commercial",
          "Luxembourg/Commercial",
          "Multinational/Commercial",
          "Netherlands/Commercial",
          "Russia/Commercial",
          "Singapore/Commercial",
          "South Korea/Commercial",
          "Spain/Commercial",
          "Turkey/Commercial",
          "USA/Commercial",
          "USA/Argentina/Commercial",
          "USA/Canada/Commercial",
          "USA/Japan/Commercial",
          "USA/Poland/Commercial",
          "United Arab Emirates/Commercial",
          "United Kingdom/Commercial",
          "Turkey/Commercial/Civil",
          "Azerbaijan/Government",
          "Belarus/Government",
          "Canada/Government",
          "China/Government",
          "ESA/Government",
          "ESA/Russia/Government",
          "Egypt/Government",
          "France/Government",
          "India/Government",
          "Japan/Government",
          "Kenya/Government",
          "Multinational/Government",
          "Norway/Government",
          "Russia/Government",
          "Saudi Arabia/Government",
          "Spain/Government",
          "Sweden/Government",
          "Taiwan/Government",
          "Thailand/Government",
          "USA/Government",
          "USA/France/Government",
          "USA/Japan/Brazil/Government",
          "United Arab Emirates/Government",
          "China/Government ",
          "Germany/Government/Civil",
          "Multinational/Government/Civil",
          "USA/Government/Civil",
          "China/Government/Commercial",
          "India/Government/Commercial",
          "Pakistan/Government/Commercial",
          "Turkmenistan/Monaco/Government/Commercial",
          "USA/Government/Commercial",
          "United Kingdom/ESA/Government/Commercial",
          "Spain/Government/Commercial/Military",
          "China/Military",
          "Colombia/Military",
          "France/Military",
          "Israel/Military",
          "Italy/Military",
          "Norway/Military",
          "Russia/Military",
          "Spain/Military",
          "USA/Military",
          "United Kingdom/Military",
          "Australia/Military/Commercial",
          "USA/Military/Commercial",
          "China/Military/Government",
          "Spain/Military/Government",
          "Argentina",
          "Australia",
          "Austria",
          "Azerbaijan",
          "Belarus",
          "Brazil",
          "Canada",
          "China",
          "Colombia",
          "Czech Republic",
          "Denmark",
          "ESA",
          "ESA/Russia",
          "Egypt",
          "Finland",
          "France",
          "Germany",
          "Hungary",
          "India",
          "Israel",
          "Italy",
          "Japan",
          "Kenya",
          "Kuwait",
          "Lithuania",
          "Luxembourg",
          "Monaco",
          "Multinational",
          "Netherlands",
          "Norway",
          "Pakistan",
          "Russia",
          "Saudi Arabia",
          "Singapore",
          "South Korea",
          "Spain",
          "Sweden",
          "Taiwan",
          "Thailand",
          "Turkey",
          "Turkmenistan/Monaco",
          "USA",
          "USA/Argentina",
          "USA/Canada",
          "USA/France",
          "USA/Japan",
          "USA/Japan/Brazil",
          "USA/Poland",
          "Ukraine",
          "United Arab Emirates",
          "United Kingdom",
          "United Kingdom/ESA"
         ],
         "labels": [
          "Communications",
          "Communications",
          "Communications",
          "Communications",
          "Communications",
          "Communications",
          "Communications",
          "Communications",
          "Communications",
          "Communications",
          "Communications",
          "Communications",
          "Communications",
          "Communications",
          "Communications",
          "Communications",
          "Communications",
          "Communications",
          "Communications",
          "Communications",
          "Communications",
          "Communications",
          "Communications",
          "Communications",
          "Communications",
          "Communications",
          "Communications",
          "Communications",
          "Communications",
          "Communications",
          "Communications",
          "Communications",
          "Communications",
          "Communications",
          "Communications",
          "Communications",
          "Communications",
          "Communications",
          "Communications",
          "Communications",
          "Communications",
          "Communications",
          "Communications/Maritime Tracking",
          "Communications/Maritime Tracking",
          "Communications/Navigation",
          "Communications/Technology Development",
          "Communications/Technology Development",
          "Communications/Technology Development",
          "Communications/Technology Development",
          "Earth Observation",
          "Earth Observation",
          "Earth Observation",
          "Earth Observation",
          "Earth Observation",
          "Earth Observation",
          "Earth Observation",
          "Earth Observation",
          "Earth Observation",
          "Earth Observation",
          "Earth Observation",
          "Earth Observation",
          "Earth Observation",
          "Earth Observation",
          "Earth Observation",
          "Earth Observation",
          "Earth Observation",
          "Earth Observation",
          "Earth Observation",
          "Earth Observation",
          "Earth Observation",
          "Earth Observation",
          "Earth Observation",
          "Earth Observation",
          "Earth Observation",
          "Earth Observation",
          "Earth Observation",
          "Earth Observation",
          "Earth Observation",
          "Earth Observation",
          "Earth Observation",
          "Earth Observation",
          "Earth Observation",
          "Earth Observation",
          "Earth Observation",
          "Earth Observation",
          "Earth Observation",
          "Earth Observation/Technology Development",
          "Earth Science",
          "Earth Science",
          "Earth Science",
          "Earth Science",
          "Earth Science",
          "Earth/Space Observation",
          "Meteorological",
          "Navigation/Global Positioning",
          "Navigation/Global Positioning",
          "Navigation/Global Positioning",
          "Navigation/Regional Positioning",
          "Space Science",
          "Space Science",
          "Space Science",
          "Space Science",
          "Space Science",
          "Space Science",
          "Space Science",
          "Space Science",
          "Space Science",
          "Space Science",
          "Space Science",
          "Space Science",
          "Surveillance",
          "Technology Demonstration",
          "Technology Demonstration",
          "Technology Demonstration",
          "Technology Demonstration",
          "Technology Demonstration",
          "Technology Demonstration",
          "Technology Demonstration",
          "Technology Demonstration",
          "Technology Demonstration",
          "Technology Development",
          "Technology Development",
          "Technology Development",
          "Technology Development",
          "Technology Development",
          "Technology Development",
          "Technology Development",
          "Technology Development",
          "Technology Development",
          "Technology Development",
          "Technology Development",
          "Technology Development",
          "Technology Development",
          "Technology Development",
          "Technology Development",
          "Technology Development",
          "Civil",
          "Civil",
          "Civil",
          "Civil",
          "Civil",
          "Civil",
          "Civil",
          "Civil",
          "Civil",
          "Civil",
          "Civil",
          "Civil",
          "Commercial",
          "Commercial",
          "Commercial",
          "Commercial",
          "Commercial",
          "Commercial",
          "Commercial",
          "Commercial",
          "Commercial",
          "Commercial",
          "Commercial",
          "Commercial",
          "Commercial",
          "Commercial",
          "Commercial",
          "Commercial",
          "Commercial",
          "Commercial",
          "Commercial",
          "Commercial",
          "Commercial",
          "Commercial",
          "Commercial",
          "Commercial",
          "Commercial",
          "Commercial",
          "Commercial",
          "Commercial",
          "Commercial/Civil",
          "Government",
          "Government",
          "Government",
          "Government",
          "Government",
          "Government",
          "Government",
          "Government",
          "Government",
          "Government",
          "Government",
          "Government",
          "Government",
          "Government",
          "Government",
          "Government",
          "Government",
          "Government",
          "Government",
          "Government",
          "Government",
          "Government",
          "Government",
          "Government ",
          "Government/Civil",
          "Government/Civil",
          "Government/Civil",
          "Government/Commercial",
          "Government/Commercial",
          "Government/Commercial",
          "Government/Commercial",
          "Government/Commercial",
          "Government/Commercial",
          "Government/Commercial/Military",
          "Military",
          "Military",
          "Military",
          "Military",
          "Military",
          "Military",
          "Military",
          "Military",
          "Military",
          "Military",
          "Military/Commercial",
          "Military/Commercial",
          "Military/Government",
          "Military/Government",
          "Argentina",
          "Australia",
          "Austria",
          "Azerbaijan",
          "Belarus",
          "Brazil",
          "Canada",
          "China",
          "Colombia",
          "Czech Republic",
          "Denmark",
          "ESA",
          "ESA/Russia",
          "Egypt",
          "Finland",
          "France",
          "Germany",
          "Hungary",
          "India",
          "Israel",
          "Italy",
          "Japan",
          "Kenya",
          "Kuwait",
          "Lithuania",
          "Luxembourg",
          "Monaco",
          "Multinational",
          "Netherlands",
          "Norway",
          "Pakistan",
          "Russia",
          "Saudi Arabia",
          "Singapore",
          "South Korea",
          "Spain",
          "Sweden",
          "Taiwan",
          "Thailand",
          "Turkey",
          "Turkmenistan/Monaco",
          "USA",
          "USA/Argentina",
          "USA/Canada",
          "USA/France",
          "USA/Japan",
          "USA/Japan/Brazil",
          "USA/Poland",
          "Ukraine",
          "United Arab Emirates",
          "United Kingdom",
          "United Kingdom/ESA"
         ],
         "name": "",
         "parents": [
          "Czech Republic/Civil",
          "Argentina/Commercial",
          "Brazil/Commercial",
          "Canada/Commercial",
          "China/Commercial",
          "Japan/Commercial",
          "Lithuania/Commercial",
          "Luxembourg/Commercial",
          "Multinational/Commercial",
          "Netherlands/Commercial",
          "Russia/Commercial",
          "South Korea/Commercial",
          "Spain/Commercial",
          "Turkey/Commercial",
          "USA/Commercial",
          "USA/Canada/Commercial",
          "USA/Japan/Commercial",
          "United Arab Emirates/Commercial",
          "United Kingdom/Commercial",
          "Turkey/Commercial/Civil",
          "Azerbaijan/Government",
          "China/Government",
          "Egypt/Government",
          "India/Government",
          "Multinational/Government",
          "Russia/Government",
          "Spain/Government",
          "USA/Government",
          "China/Government ",
          "China/Government/Commercial",
          "India/Government/Commercial",
          "Pakistan/Government/Commercial",
          "Turkmenistan/Monaco/Government/Commercial",
          "USA/Government/Commercial",
          "Spain/Government/Commercial/Military",
          "France/Military",
          "Italy/Military",
          "Spain/Military",
          "USA/Military",
          "United Kingdom/Military",
          "Australia/Military/Commercial",
          "Spain/Military/Government",
          "USA/Commercial",
          "USA/Argentina/Commercial",
          "India/Government",
          "Argentina/Commercial",
          "USA/Argentina/Commercial",
          "Spain/Government",
          "United Kingdom/ESA/Government/Commercial",
          "China/Civil",
          "Turkey/Civil",
          "USA/Civil",
          "Argentina/Commercial",
          "Australia/Commercial",
          "China/Commercial",
          "Denmark/Commercial",
          "Finland/Commercial",
          "France/Commercial",
          "Luxembourg/Commercial",
          "Spain/Commercial",
          "Turkey/Commercial",
          "USA/Commercial",
          "United Kingdom/Commercial",
          "Belarus/Government",
          "China/Government",
          "ESA/Government",
          "Egypt/Government",
          "India/Government",
          "Japan/Government",
          "Kenya/Government",
          "Norway/Government",
          "Russia/Government",
          "Saudi Arabia/Government",
          "Sweden/Government",
          "Thailand/Government",
          "USA/Government",
          "USA/France/Government",
          "USA/Japan/Brazil/Government",
          "United Arab Emirates/Government",
          "Multinational/Government/Civil",
          "China/Military",
          "Colombia/Military",
          "Israel/Military",
          "Norway/Military",
          "Russia/Military",
          "USA/Military",
          "Germany/Government/Civil",
          "Austria/Civil",
          "Canada/Commercial",
          "USA/Commercial",
          "China/Government",
          "USA/Government",
          "France/Government",
          "China/Commercial",
          "ESA/Commercial",
          "USA/Military/Commercial",
          "China/Military/Government",
          "India/Government",
          "Denmark/Civil",
          "Israel/Civil",
          "USA/Civil",
          "Japan/Commercial",
          "Canada/Government",
          "ESA/Government",
          "ESA/Russia/Government",
          "Multinational/Government",
          "Taiwan/Government",
          "USA/Government",
          "Multinational/Government/Civil",
          "USA/Government/Civil",
          "USA/Commercial",
          "China/Civil",
          "Argentina/Commercial",
          "Australia/Commercial",
          "Brazil/Commercial",
          "France/Commercial",
          "Hungary/Commercial",
          "USA/Poland/Commercial",
          "India/Government",
          "USA/Military",
          "Austria/Civil",
          "China/Civil",
          "Japan/Civil",
          "Kuwait/Civil",
          "Monaco/Civil",
          "Multinational/Civil",
          "Ukraine/Civil",
          "China/Commercial",
          "France/Commercial",
          "Israel/Commercial",
          "Singapore/Commercial",
          "USA/Commercial",
          "United Kingdom/Commercial",
          "China/Government",
          "Japan/Government",
          "USA/Military",
          "Austria",
          "China",
          "Czech Republic",
          "Denmark",
          "Israel",
          "Japan",
          "Kuwait",
          "Monaco",
          "Multinational",
          "Turkey",
          "USA",
          "Ukraine",
          "Argentina",
          "Australia",
          "Brazil",
          "Canada",
          "China",
          "Denmark",
          "ESA",
          "Finland",
          "France",
          "Hungary",
          "Israel",
          "Japan",
          "Lithuania",
          "Luxembourg",
          "Multinational",
          "Netherlands",
          "Russia",
          "Singapore",
          "South Korea",
          "Spain",
          "Turkey",
          "USA",
          "USA/Argentina",
          "USA/Canada",
          "USA/Japan",
          "USA/Poland",
          "United Arab Emirates",
          "United Kingdom",
          "Turkey",
          "Azerbaijan",
          "Belarus",
          "Canada",
          "China",
          "ESA",
          "ESA/Russia",
          "Egypt",
          "France",
          "India",
          "Japan",
          "Kenya",
          "Multinational",
          "Norway",
          "Russia",
          "Saudi Arabia",
          "Spain",
          "Sweden",
          "Taiwan",
          "Thailand",
          "USA",
          "USA/France",
          "USA/Japan/Brazil",
          "United Arab Emirates",
          "China",
          "Germany",
          "Multinational",
          "USA",
          "China",
          "India",
          "Pakistan",
          "Turkmenistan/Monaco",
          "USA",
          "United Kingdom/ESA",
          "Spain",
          "China",
          "Colombia",
          "France",
          "Israel",
          "Italy",
          "Norway",
          "Russia",
          "Spain",
          "USA",
          "United Kingdom",
          "Australia",
          "USA",
          "China",
          "Spain",
          "",
          "",
          "",
          "",
          "",
          "",
          "",
          "",
          "",
          "",
          "",
          "",
          "",
          "",
          "",
          "",
          "",
          "",
          "",
          "",
          "",
          "",
          "",
          "",
          "",
          "",
          "",
          "",
          "",
          "",
          "",
          "",
          "",
          "",
          "",
          "",
          "",
          "",
          "",
          "",
          "",
          "",
          "",
          "",
          "",
          "",
          "",
          "",
          "",
          "",
          "",
          ""
         ],
         "type": "sunburst",
         "values": [
          1,
          2,
          4,
          9,
          2,
          3,
          1,
          12,
          16,
          5,
          3,
          1,
          4,
          3,
          155,
          1,
          1,
          1,
          94,
          1,
          1,
          1,
          1,
          2,
          1,
          3,
          1,
          8,
          1,
          1,
          1,
          1,
          1,
          77,
          1,
          3,
          1,
          1,
          24,
          4,
          1,
          1,
          1,
          4,
          1,
          1,
          1,
          1,
          1,
          1,
          1,
          1,
          3,
          4,
          15,
          1,
          2,
          7,
          4,
          1,
          1,
          15,
          1,
          1,
          9,
          8,
          2,
          1,
          3,
          1,
          1,
          4,
          1,
          1,
          1,
          12,
          1,
          1,
          1,
          3,
          2,
          1,
          2,
          2,
          4,
          14,
          1,
          1,
          5,
          2,
          1,
          1,
          1,
          6,
          4,
          15,
          39,
          8,
          1,
          1,
          1,
          1,
          1,
          5,
          1,
          1,
          1,
          3,
          3,
          1,
          6,
          1,
          1,
          5,
          1,
          1,
          1,
          1,
          1,
          10,
          1,
          3,
          1,
          1,
          1,
          1,
          1,
          3,
          2,
          1,
          1,
          3,
          1,
          8,
          1,
          5,
          2,
          5,
          1,
          1,
          1,
          1,
          1,
          1,
          1,
          1,
          2,
          1,
          7,
          9,
          5,
          14,
          26,
          1,
          4,
          2,
          10,
          1,
          1,
          4,
          1,
          16,
          16,
          5,
          3,
          1,
          1,
          5,
          4,
          182,
          5,
          1,
          1,
          1,
          1,
          96,
          1,
          1,
          1,
          1,
          19,
          13,
          1,
          3,
          1,
          13,
          4,
          1,
          2,
          1,
          7,
          1,
          2,
          1,
          1,
          1,
          24,
          1,
          1,
          1,
          1,
          1,
          6,
          1,
          1,
          1,
          1,
          1,
          77,
          1,
          1,
          2,
          1,
          3,
          2,
          1,
          2,
          4,
          1,
          53,
          4,
          1,
          15,
          39,
          1,
          7,
          10,
          2,
          1,
          1,
          5,
          15,
          93,
          1,
          1,
          2,
          17,
          1,
          3,
          2,
          14,
          1,
          1,
          14,
          4,
          1,
          9,
          1,
          1,
          1,
          16,
          1,
          25,
          5,
          3,
          1,
          14,
          1,
          1,
          1,
          10,
          1,
          1,
          1,
          6,
          1,
          354,
          5,
          1,
          1,
          1,
          1,
          1,
          1,
          2,
          100,
          1
         ]
        }
       ],
       "layout": {
        "legend": {
         "tracegroupgap": 0
        },
        "template": {
         "data": {
          "bar": [
           {
            "error_x": {
             "color": "#2a3f5f"
            },
            "error_y": {
             "color": "#2a3f5f"
            },
            "marker": {
             "line": {
              "color": "#E5ECF6",
              "width": 0.5
             },
             "pattern": {
              "fillmode": "overlay",
              "size": 10,
              "solidity": 0.2
             }
            },
            "type": "bar"
           }
          ],
          "barpolar": [
           {
            "marker": {
             "line": {
              "color": "#E5ECF6",
              "width": 0.5
             },
             "pattern": {
              "fillmode": "overlay",
              "size": 10,
              "solidity": 0.2
             }
            },
            "type": "barpolar"
           }
          ],
          "carpet": [
           {
            "aaxis": {
             "endlinecolor": "#2a3f5f",
             "gridcolor": "white",
             "linecolor": "white",
             "minorgridcolor": "white",
             "startlinecolor": "#2a3f5f"
            },
            "baxis": {
             "endlinecolor": "#2a3f5f",
             "gridcolor": "white",
             "linecolor": "white",
             "minorgridcolor": "white",
             "startlinecolor": "#2a3f5f"
            },
            "type": "carpet"
           }
          ],
          "choropleth": [
           {
            "colorbar": {
             "outlinewidth": 0,
             "ticks": ""
            },
            "type": "choropleth"
           }
          ],
          "contour": [
           {
            "colorbar": {
             "outlinewidth": 0,
             "ticks": ""
            },
            "colorscale": [
             [
              0,
              "#0d0887"
             ],
             [
              0.1111111111111111,
              "#46039f"
             ],
             [
              0.2222222222222222,
              "#7201a8"
             ],
             [
              0.3333333333333333,
              "#9c179e"
             ],
             [
              0.4444444444444444,
              "#bd3786"
             ],
             [
              0.5555555555555556,
              "#d8576b"
             ],
             [
              0.6666666666666666,
              "#ed7953"
             ],
             [
              0.7777777777777778,
              "#fb9f3a"
             ],
             [
              0.8888888888888888,
              "#fdca26"
             ],
             [
              1,
              "#f0f921"
             ]
            ],
            "type": "contour"
           }
          ],
          "contourcarpet": [
           {
            "colorbar": {
             "outlinewidth": 0,
             "ticks": ""
            },
            "type": "contourcarpet"
           }
          ],
          "heatmap": [
           {
            "colorbar": {
             "outlinewidth": 0,
             "ticks": ""
            },
            "colorscale": [
             [
              0,
              "#0d0887"
             ],
             [
              0.1111111111111111,
              "#46039f"
             ],
             [
              0.2222222222222222,
              "#7201a8"
             ],
             [
              0.3333333333333333,
              "#9c179e"
             ],
             [
              0.4444444444444444,
              "#bd3786"
             ],
             [
              0.5555555555555556,
              "#d8576b"
             ],
             [
              0.6666666666666666,
              "#ed7953"
             ],
             [
              0.7777777777777778,
              "#fb9f3a"
             ],
             [
              0.8888888888888888,
              "#fdca26"
             ],
             [
              1,
              "#f0f921"
             ]
            ],
            "type": "heatmap"
           }
          ],
          "heatmapgl": [
           {
            "colorbar": {
             "outlinewidth": 0,
             "ticks": ""
            },
            "colorscale": [
             [
              0,
              "#0d0887"
             ],
             [
              0.1111111111111111,
              "#46039f"
             ],
             [
              0.2222222222222222,
              "#7201a8"
             ],
             [
              0.3333333333333333,
              "#9c179e"
             ],
             [
              0.4444444444444444,
              "#bd3786"
             ],
             [
              0.5555555555555556,
              "#d8576b"
             ],
             [
              0.6666666666666666,
              "#ed7953"
             ],
             [
              0.7777777777777778,
              "#fb9f3a"
             ],
             [
              0.8888888888888888,
              "#fdca26"
             ],
             [
              1,
              "#f0f921"
             ]
            ],
            "type": "heatmapgl"
           }
          ],
          "histogram": [
           {
            "marker": {
             "pattern": {
              "fillmode": "overlay",
              "size": 10,
              "solidity": 0.2
             }
            },
            "type": "histogram"
           }
          ],
          "histogram2d": [
           {
            "colorbar": {
             "outlinewidth": 0,
             "ticks": ""
            },
            "colorscale": [
             [
              0,
              "#0d0887"
             ],
             [
              0.1111111111111111,
              "#46039f"
             ],
             [
              0.2222222222222222,
              "#7201a8"
             ],
             [
              0.3333333333333333,
              "#9c179e"
             ],
             [
              0.4444444444444444,
              "#bd3786"
             ],
             [
              0.5555555555555556,
              "#d8576b"
             ],
             [
              0.6666666666666666,
              "#ed7953"
             ],
             [
              0.7777777777777778,
              "#fb9f3a"
             ],
             [
              0.8888888888888888,
              "#fdca26"
             ],
             [
              1,
              "#f0f921"
             ]
            ],
            "type": "histogram2d"
           }
          ],
          "histogram2dcontour": [
           {
            "colorbar": {
             "outlinewidth": 0,
             "ticks": ""
            },
            "colorscale": [
             [
              0,
              "#0d0887"
             ],
             [
              0.1111111111111111,
              "#46039f"
             ],
             [
              0.2222222222222222,
              "#7201a8"
             ],
             [
              0.3333333333333333,
              "#9c179e"
             ],
             [
              0.4444444444444444,
              "#bd3786"
             ],
             [
              0.5555555555555556,
              "#d8576b"
             ],
             [
              0.6666666666666666,
              "#ed7953"
             ],
             [
              0.7777777777777778,
              "#fb9f3a"
             ],
             [
              0.8888888888888888,
              "#fdca26"
             ],
             [
              1,
              "#f0f921"
             ]
            ],
            "type": "histogram2dcontour"
           }
          ],
          "mesh3d": [
           {
            "colorbar": {
             "outlinewidth": 0,
             "ticks": ""
            },
            "type": "mesh3d"
           }
          ],
          "parcoords": [
           {
            "line": {
             "colorbar": {
              "outlinewidth": 0,
              "ticks": ""
             }
            },
            "type": "parcoords"
           }
          ],
          "pie": [
           {
            "automargin": true,
            "type": "pie"
           }
          ],
          "scatter": [
           {
            "fillpattern": {
             "fillmode": "overlay",
             "size": 10,
             "solidity": 0.2
            },
            "type": "scatter"
           }
          ],
          "scatter3d": [
           {
            "line": {
             "colorbar": {
              "outlinewidth": 0,
              "ticks": ""
             }
            },
            "marker": {
             "colorbar": {
              "outlinewidth": 0,
              "ticks": ""
             }
            },
            "type": "scatter3d"
           }
          ],
          "scattercarpet": [
           {
            "marker": {
             "colorbar": {
              "outlinewidth": 0,
              "ticks": ""
             }
            },
            "type": "scattercarpet"
           }
          ],
          "scattergeo": [
           {
            "marker": {
             "colorbar": {
              "outlinewidth": 0,
              "ticks": ""
             }
            },
            "type": "scattergeo"
           }
          ],
          "scattergl": [
           {
            "marker": {
             "colorbar": {
              "outlinewidth": 0,
              "ticks": ""
             }
            },
            "type": "scattergl"
           }
          ],
          "scattermapbox": [
           {
            "marker": {
             "colorbar": {
              "outlinewidth": 0,
              "ticks": ""
             }
            },
            "type": "scattermapbox"
           }
          ],
          "scatterpolar": [
           {
            "marker": {
             "colorbar": {
              "outlinewidth": 0,
              "ticks": ""
             }
            },
            "type": "scatterpolar"
           }
          ],
          "scatterpolargl": [
           {
            "marker": {
             "colorbar": {
              "outlinewidth": 0,
              "ticks": ""
             }
            },
            "type": "scatterpolargl"
           }
          ],
          "scatterternary": [
           {
            "marker": {
             "colorbar": {
              "outlinewidth": 0,
              "ticks": ""
             }
            },
            "type": "scatterternary"
           }
          ],
          "surface": [
           {
            "colorbar": {
             "outlinewidth": 0,
             "ticks": ""
            },
            "colorscale": [
             [
              0,
              "#0d0887"
             ],
             [
              0.1111111111111111,
              "#46039f"
             ],
             [
              0.2222222222222222,
              "#7201a8"
             ],
             [
              0.3333333333333333,
              "#9c179e"
             ],
             [
              0.4444444444444444,
              "#bd3786"
             ],
             [
              0.5555555555555556,
              "#d8576b"
             ],
             [
              0.6666666666666666,
              "#ed7953"
             ],
             [
              0.7777777777777778,
              "#fb9f3a"
             ],
             [
              0.8888888888888888,
              "#fdca26"
             ],
             [
              1,
              "#f0f921"
             ]
            ],
            "type": "surface"
           }
          ],
          "table": [
           {
            "cells": {
             "fill": {
              "color": "#EBF0F8"
             },
             "line": {
              "color": "white"
             }
            },
            "header": {
             "fill": {
              "color": "#C8D4E3"
             },
             "line": {
              "color": "white"
             }
            },
            "type": "table"
           }
          ]
         },
         "layout": {
          "annotationdefaults": {
           "arrowcolor": "#2a3f5f",
           "arrowhead": 0,
           "arrowwidth": 1
          },
          "autotypenumbers": "strict",
          "coloraxis": {
           "colorbar": {
            "outlinewidth": 0,
            "ticks": ""
           }
          },
          "colorscale": {
           "diverging": [
            [
             0,
             "#8e0152"
            ],
            [
             0.1,
             "#c51b7d"
            ],
            [
             0.2,
             "#de77ae"
            ],
            [
             0.3,
             "#f1b6da"
            ],
            [
             0.4,
             "#fde0ef"
            ],
            [
             0.5,
             "#f7f7f7"
            ],
            [
             0.6,
             "#e6f5d0"
            ],
            [
             0.7,
             "#b8e186"
            ],
            [
             0.8,
             "#7fbc41"
            ],
            [
             0.9,
             "#4d9221"
            ],
            [
             1,
             "#276419"
            ]
           ],
           "sequential": [
            [
             0,
             "#0d0887"
            ],
            [
             0.1111111111111111,
             "#46039f"
            ],
            [
             0.2222222222222222,
             "#7201a8"
            ],
            [
             0.3333333333333333,
             "#9c179e"
            ],
            [
             0.4444444444444444,
             "#bd3786"
            ],
            [
             0.5555555555555556,
             "#d8576b"
            ],
            [
             0.6666666666666666,
             "#ed7953"
            ],
            [
             0.7777777777777778,
             "#fb9f3a"
            ],
            [
             0.8888888888888888,
             "#fdca26"
            ],
            [
             1,
             "#f0f921"
            ]
           ],
           "sequentialminus": [
            [
             0,
             "#0d0887"
            ],
            [
             0.1111111111111111,
             "#46039f"
            ],
            [
             0.2222222222222222,
             "#7201a8"
            ],
            [
             0.3333333333333333,
             "#9c179e"
            ],
            [
             0.4444444444444444,
             "#bd3786"
            ],
            [
             0.5555555555555556,
             "#d8576b"
            ],
            [
             0.6666666666666666,
             "#ed7953"
            ],
            [
             0.7777777777777778,
             "#fb9f3a"
            ],
            [
             0.8888888888888888,
             "#fdca26"
            ],
            [
             1,
             "#f0f921"
            ]
           ]
          },
          "colorway": [
           "#636efa",
           "#EF553B",
           "#00cc96",
           "#ab63fa",
           "#FFA15A",
           "#19d3f3",
           "#FF6692",
           "#B6E880",
           "#FF97FF",
           "#FECB52"
          ],
          "font": {
           "color": "#2a3f5f"
          },
          "geo": {
           "bgcolor": "white",
           "lakecolor": "white",
           "landcolor": "#E5ECF6",
           "showlakes": true,
           "showland": true,
           "subunitcolor": "white"
          },
          "hoverlabel": {
           "align": "left"
          },
          "hovermode": "closest",
          "mapbox": {
           "style": "light"
          },
          "paper_bgcolor": "white",
          "plot_bgcolor": "#E5ECF6",
          "polar": {
           "angularaxis": {
            "gridcolor": "white",
            "linecolor": "white",
            "ticks": ""
           },
           "bgcolor": "#E5ECF6",
           "radialaxis": {
            "gridcolor": "white",
            "linecolor": "white",
            "ticks": ""
           }
          },
          "scene": {
           "xaxis": {
            "backgroundcolor": "#E5ECF6",
            "gridcolor": "white",
            "gridwidth": 2,
            "linecolor": "white",
            "showbackground": true,
            "ticks": "",
            "zerolinecolor": "white"
           },
           "yaxis": {
            "backgroundcolor": "#E5ECF6",
            "gridcolor": "white",
            "gridwidth": 2,
            "linecolor": "white",
            "showbackground": true,
            "ticks": "",
            "zerolinecolor": "white"
           },
           "zaxis": {
            "backgroundcolor": "#E5ECF6",
            "gridcolor": "white",
            "gridwidth": 2,
            "linecolor": "white",
            "showbackground": true,
            "ticks": "",
            "zerolinecolor": "white"
           }
          },
          "shapedefaults": {
           "line": {
            "color": "#2a3f5f"
           }
          },
          "ternary": {
           "aaxis": {
            "gridcolor": "white",
            "linecolor": "white",
            "ticks": ""
           },
           "baxis": {
            "gridcolor": "white",
            "linecolor": "white",
            "ticks": ""
           },
           "bgcolor": "#E5ECF6",
           "caxis": {
            "gridcolor": "white",
            "linecolor": "white",
            "ticks": ""
           }
          },
          "title": {
           "x": 0.05
          },
          "xaxis": {
           "automargin": true,
           "gridcolor": "white",
           "linecolor": "white",
           "ticks": "",
           "title": {
            "standoff": 15
           },
           "zerolinecolor": "white",
           "zerolinewidth": 2
          },
          "yaxis": {
           "automargin": true,
           "gridcolor": "white",
           "linecolor": "white",
           "ticks": "",
           "title": {
            "standoff": 15
           },
           "zerolinecolor": "white",
           "zerolinewidth": 2
          }
         }
        },
        "title": {
         "text": "Sunburst Plot of Country of Operator/Owner, Users, and Purpose"
        }
       }
      }
     },
     "metadata": {},
     "output_type": "display_data"
    }
   ],
   "source": [
    "import plotly.express as px\n",
    "\n",
    "# Prepare the data for the Sunburst plot\n",
    "sunburst_data = df_clean[['Country of Operator/Owner', 'Users', 'Purpose']]\n",
    "\n",
    "# Generate the Sunburst plot\n",
    "fig = px.sunburst(\n",
    "    sunburst_data,\n",
    "    path=['Country of Operator/Owner', 'Users', 'Purpose'],\n",
    "    title='Sunburst Plot of Country of Operator/Owner, Users, and Purpose'\n",
    ")\n",
    "\n",
    "# Show the plot\n",
    "fig.show()"
   ]
  },
  {
   "cell_type": "code",
   "execution_count": 10,
   "metadata": {},
   "outputs": [
    {
     "data": {
      "application/vnd.plotly.v1+json": {
       "config": {
        "plotlyServerURL": "https://plot.ly"
       },
       "data": [
        {
         "domain": {
          "x": [
           0,
           1
          ],
          "y": [
           0,
           1
          ]
         },
         "hovertemplate": "Country of Operator/Owner=%{label}<br>Count=%{value}<extra></extra>",
         "labels": [
          "China",
          "ESA",
          "Luxembourg",
          "Multinational",
          "Other",
          "USA",
          "United Kingdom"
         ],
         "legendgroup": "",
         "name": "",
         "showlegend": true,
         "type": "pie",
         "values": [
          93,
          17,
          16,
          25,
          159,
          354,
          100
         ]
        }
       ],
       "layout": {
        "legend": {
         "tracegroupgap": 0
        },
        "template": {
         "data": {
          "bar": [
           {
            "error_x": {
             "color": "#2a3f5f"
            },
            "error_y": {
             "color": "#2a3f5f"
            },
            "marker": {
             "line": {
              "color": "#E5ECF6",
              "width": 0.5
             },
             "pattern": {
              "fillmode": "overlay",
              "size": 10,
              "solidity": 0.2
             }
            },
            "type": "bar"
           }
          ],
          "barpolar": [
           {
            "marker": {
             "line": {
              "color": "#E5ECF6",
              "width": 0.5
             },
             "pattern": {
              "fillmode": "overlay",
              "size": 10,
              "solidity": 0.2
             }
            },
            "type": "barpolar"
           }
          ],
          "carpet": [
           {
            "aaxis": {
             "endlinecolor": "#2a3f5f",
             "gridcolor": "white",
             "linecolor": "white",
             "minorgridcolor": "white",
             "startlinecolor": "#2a3f5f"
            },
            "baxis": {
             "endlinecolor": "#2a3f5f",
             "gridcolor": "white",
             "linecolor": "white",
             "minorgridcolor": "white",
             "startlinecolor": "#2a3f5f"
            },
            "type": "carpet"
           }
          ],
          "choropleth": [
           {
            "colorbar": {
             "outlinewidth": 0,
             "ticks": ""
            },
            "type": "choropleth"
           }
          ],
          "contour": [
           {
            "colorbar": {
             "outlinewidth": 0,
             "ticks": ""
            },
            "colorscale": [
             [
              0,
              "#0d0887"
             ],
             [
              0.1111111111111111,
              "#46039f"
             ],
             [
              0.2222222222222222,
              "#7201a8"
             ],
             [
              0.3333333333333333,
              "#9c179e"
             ],
             [
              0.4444444444444444,
              "#bd3786"
             ],
             [
              0.5555555555555556,
              "#d8576b"
             ],
             [
              0.6666666666666666,
              "#ed7953"
             ],
             [
              0.7777777777777778,
              "#fb9f3a"
             ],
             [
              0.8888888888888888,
              "#fdca26"
             ],
             [
              1,
              "#f0f921"
             ]
            ],
            "type": "contour"
           }
          ],
          "contourcarpet": [
           {
            "colorbar": {
             "outlinewidth": 0,
             "ticks": ""
            },
            "type": "contourcarpet"
           }
          ],
          "heatmap": [
           {
            "colorbar": {
             "outlinewidth": 0,
             "ticks": ""
            },
            "colorscale": [
             [
              0,
              "#0d0887"
             ],
             [
              0.1111111111111111,
              "#46039f"
             ],
             [
              0.2222222222222222,
              "#7201a8"
             ],
             [
              0.3333333333333333,
              "#9c179e"
             ],
             [
              0.4444444444444444,
              "#bd3786"
             ],
             [
              0.5555555555555556,
              "#d8576b"
             ],
             [
              0.6666666666666666,
              "#ed7953"
             ],
             [
              0.7777777777777778,
              "#fb9f3a"
             ],
             [
              0.8888888888888888,
              "#fdca26"
             ],
             [
              1,
              "#f0f921"
             ]
            ],
            "type": "heatmap"
           }
          ],
          "heatmapgl": [
           {
            "colorbar": {
             "outlinewidth": 0,
             "ticks": ""
            },
            "colorscale": [
             [
              0,
              "#0d0887"
             ],
             [
              0.1111111111111111,
              "#46039f"
             ],
             [
              0.2222222222222222,
              "#7201a8"
             ],
             [
              0.3333333333333333,
              "#9c179e"
             ],
             [
              0.4444444444444444,
              "#bd3786"
             ],
             [
              0.5555555555555556,
              "#d8576b"
             ],
             [
              0.6666666666666666,
              "#ed7953"
             ],
             [
              0.7777777777777778,
              "#fb9f3a"
             ],
             [
              0.8888888888888888,
              "#fdca26"
             ],
             [
              1,
              "#f0f921"
             ]
            ],
            "type": "heatmapgl"
           }
          ],
          "histogram": [
           {
            "marker": {
             "pattern": {
              "fillmode": "overlay",
              "size": 10,
              "solidity": 0.2
             }
            },
            "type": "histogram"
           }
          ],
          "histogram2d": [
           {
            "colorbar": {
             "outlinewidth": 0,
             "ticks": ""
            },
            "colorscale": [
             [
              0,
              "#0d0887"
             ],
             [
              0.1111111111111111,
              "#46039f"
             ],
             [
              0.2222222222222222,
              "#7201a8"
             ],
             [
              0.3333333333333333,
              "#9c179e"
             ],
             [
              0.4444444444444444,
              "#bd3786"
             ],
             [
              0.5555555555555556,
              "#d8576b"
             ],
             [
              0.6666666666666666,
              "#ed7953"
             ],
             [
              0.7777777777777778,
              "#fb9f3a"
             ],
             [
              0.8888888888888888,
              "#fdca26"
             ],
             [
              1,
              "#f0f921"
             ]
            ],
            "type": "histogram2d"
           }
          ],
          "histogram2dcontour": [
           {
            "colorbar": {
             "outlinewidth": 0,
             "ticks": ""
            },
            "colorscale": [
             [
              0,
              "#0d0887"
             ],
             [
              0.1111111111111111,
              "#46039f"
             ],
             [
              0.2222222222222222,
              "#7201a8"
             ],
             [
              0.3333333333333333,
              "#9c179e"
             ],
             [
              0.4444444444444444,
              "#bd3786"
             ],
             [
              0.5555555555555556,
              "#d8576b"
             ],
             [
              0.6666666666666666,
              "#ed7953"
             ],
             [
              0.7777777777777778,
              "#fb9f3a"
             ],
             [
              0.8888888888888888,
              "#fdca26"
             ],
             [
              1,
              "#f0f921"
             ]
            ],
            "type": "histogram2dcontour"
           }
          ],
          "mesh3d": [
           {
            "colorbar": {
             "outlinewidth": 0,
             "ticks": ""
            },
            "type": "mesh3d"
           }
          ],
          "parcoords": [
           {
            "line": {
             "colorbar": {
              "outlinewidth": 0,
              "ticks": ""
             }
            },
            "type": "parcoords"
           }
          ],
          "pie": [
           {
            "automargin": true,
            "type": "pie"
           }
          ],
          "scatter": [
           {
            "fillpattern": {
             "fillmode": "overlay",
             "size": 10,
             "solidity": 0.2
            },
            "type": "scatter"
           }
          ],
          "scatter3d": [
           {
            "line": {
             "colorbar": {
              "outlinewidth": 0,
              "ticks": ""
             }
            },
            "marker": {
             "colorbar": {
              "outlinewidth": 0,
              "ticks": ""
             }
            },
            "type": "scatter3d"
           }
          ],
          "scattercarpet": [
           {
            "marker": {
             "colorbar": {
              "outlinewidth": 0,
              "ticks": ""
             }
            },
            "type": "scattercarpet"
           }
          ],
          "scattergeo": [
           {
            "marker": {
             "colorbar": {
              "outlinewidth": 0,
              "ticks": ""
             }
            },
            "type": "scattergeo"
           }
          ],
          "scattergl": [
           {
            "marker": {
             "colorbar": {
              "outlinewidth": 0,
              "ticks": ""
             }
            },
            "type": "scattergl"
           }
          ],
          "scattermapbox": [
           {
            "marker": {
             "colorbar": {
              "outlinewidth": 0,
              "ticks": ""
             }
            },
            "type": "scattermapbox"
           }
          ],
          "scatterpolar": [
           {
            "marker": {
             "colorbar": {
              "outlinewidth": 0,
              "ticks": ""
             }
            },
            "type": "scatterpolar"
           }
          ],
          "scatterpolargl": [
           {
            "marker": {
             "colorbar": {
              "outlinewidth": 0,
              "ticks": ""
             }
            },
            "type": "scatterpolargl"
           }
          ],
          "scatterternary": [
           {
            "marker": {
             "colorbar": {
              "outlinewidth": 0,
              "ticks": ""
             }
            },
            "type": "scatterternary"
           }
          ],
          "surface": [
           {
            "colorbar": {
             "outlinewidth": 0,
             "ticks": ""
            },
            "colorscale": [
             [
              0,
              "#0d0887"
             ],
             [
              0.1111111111111111,
              "#46039f"
             ],
             [
              0.2222222222222222,
              "#7201a8"
             ],
             [
              0.3333333333333333,
              "#9c179e"
             ],
             [
              0.4444444444444444,
              "#bd3786"
             ],
             [
              0.5555555555555556,
              "#d8576b"
             ],
             [
              0.6666666666666666,
              "#ed7953"
             ],
             [
              0.7777777777777778,
              "#fb9f3a"
             ],
             [
              0.8888888888888888,
              "#fdca26"
             ],
             [
              1,
              "#f0f921"
             ]
            ],
            "type": "surface"
           }
          ],
          "table": [
           {
            "cells": {
             "fill": {
              "color": "#EBF0F8"
             },
             "line": {
              "color": "white"
             }
            },
            "header": {
             "fill": {
              "color": "#C8D4E3"
             },
             "line": {
              "color": "white"
             }
            },
            "type": "table"
           }
          ]
         },
         "layout": {
          "annotationdefaults": {
           "arrowcolor": "#2a3f5f",
           "arrowhead": 0,
           "arrowwidth": 1
          },
          "autotypenumbers": "strict",
          "coloraxis": {
           "colorbar": {
            "outlinewidth": 0,
            "ticks": ""
           }
          },
          "colorscale": {
           "diverging": [
            [
             0,
             "#8e0152"
            ],
            [
             0.1,
             "#c51b7d"
            ],
            [
             0.2,
             "#de77ae"
            ],
            [
             0.3,
             "#f1b6da"
            ],
            [
             0.4,
             "#fde0ef"
            ],
            [
             0.5,
             "#f7f7f7"
            ],
            [
             0.6,
             "#e6f5d0"
            ],
            [
             0.7,
             "#b8e186"
            ],
            [
             0.8,
             "#7fbc41"
            ],
            [
             0.9,
             "#4d9221"
            ],
            [
             1,
             "#276419"
            ]
           ],
           "sequential": [
            [
             0,
             "#0d0887"
            ],
            [
             0.1111111111111111,
             "#46039f"
            ],
            [
             0.2222222222222222,
             "#7201a8"
            ],
            [
             0.3333333333333333,
             "#9c179e"
            ],
            [
             0.4444444444444444,
             "#bd3786"
            ],
            [
             0.5555555555555556,
             "#d8576b"
            ],
            [
             0.6666666666666666,
             "#ed7953"
            ],
            [
             0.7777777777777778,
             "#fb9f3a"
            ],
            [
             0.8888888888888888,
             "#fdca26"
            ],
            [
             1,
             "#f0f921"
            ]
           ],
           "sequentialminus": [
            [
             0,
             "#0d0887"
            ],
            [
             0.1111111111111111,
             "#46039f"
            ],
            [
             0.2222222222222222,
             "#7201a8"
            ],
            [
             0.3333333333333333,
             "#9c179e"
            ],
            [
             0.4444444444444444,
             "#bd3786"
            ],
            [
             0.5555555555555556,
             "#d8576b"
            ],
            [
             0.6666666666666666,
             "#ed7953"
            ],
            [
             0.7777777777777778,
             "#fb9f3a"
            ],
            [
             0.8888888888888888,
             "#fdca26"
            ],
            [
             1,
             "#f0f921"
            ]
           ]
          },
          "colorway": [
           "#636efa",
           "#EF553B",
           "#00cc96",
           "#ab63fa",
           "#FFA15A",
           "#19d3f3",
           "#FF6692",
           "#B6E880",
           "#FF97FF",
           "#FECB52"
          ],
          "font": {
           "color": "#2a3f5f"
          },
          "geo": {
           "bgcolor": "white",
           "lakecolor": "white",
           "landcolor": "#E5ECF6",
           "showlakes": true,
           "showland": true,
           "subunitcolor": "white"
          },
          "hoverlabel": {
           "align": "left"
          },
          "hovermode": "closest",
          "mapbox": {
           "style": "light"
          },
          "paper_bgcolor": "white",
          "plot_bgcolor": "#E5ECF6",
          "polar": {
           "angularaxis": {
            "gridcolor": "white",
            "linecolor": "white",
            "ticks": ""
           },
           "bgcolor": "#E5ECF6",
           "radialaxis": {
            "gridcolor": "white",
            "linecolor": "white",
            "ticks": ""
           }
          },
          "scene": {
           "xaxis": {
            "backgroundcolor": "#E5ECF6",
            "gridcolor": "white",
            "gridwidth": 2,
            "linecolor": "white",
            "showbackground": true,
            "ticks": "",
            "zerolinecolor": "white"
           },
           "yaxis": {
            "backgroundcolor": "#E5ECF6",
            "gridcolor": "white",
            "gridwidth": 2,
            "linecolor": "white",
            "showbackground": true,
            "ticks": "",
            "zerolinecolor": "white"
           },
           "zaxis": {
            "backgroundcolor": "#E5ECF6",
            "gridcolor": "white",
            "gridwidth": 2,
            "linecolor": "white",
            "showbackground": true,
            "ticks": "",
            "zerolinecolor": "white"
           }
          },
          "shapedefaults": {
           "line": {
            "color": "#2a3f5f"
           }
          },
          "ternary": {
           "aaxis": {
            "gridcolor": "white",
            "linecolor": "white",
            "ticks": ""
           },
           "baxis": {
            "gridcolor": "white",
            "linecolor": "white",
            "ticks": ""
           },
           "bgcolor": "#E5ECF6",
           "caxis": {
            "gridcolor": "white",
            "linecolor": "white",
            "ticks": ""
           }
          },
          "title": {
           "x": 0.05
          },
          "xaxis": {
           "automargin": true,
           "gridcolor": "white",
           "linecolor": "white",
           "ticks": "",
           "title": {
            "standoff": 15
           },
           "zerolinecolor": "white",
           "zerolinewidth": 2
          },
          "yaxis": {
           "automargin": true,
           "gridcolor": "white",
           "linecolor": "white",
           "ticks": "",
           "title": {
            "standoff": 15
           },
           "zerolinecolor": "white",
           "zerolinewidth": 2
          }
         }
        },
        "title": {
         "text": "Pie Chart of Country of Operator/Owner"
        }
       }
      }
     },
     "metadata": {},
     "output_type": "display_data"
    }
   ],
   "source": [
    "import plotly.express as px\n",
    "\n",
    "# Group and count the occurrences of 'Country of Operator/Owner'\n",
    "pie_data = df_clean['Country of Operator/Owner'].value_counts().reset_index()\n",
    "pie_data.columns = ['Country of Operator/Owner', 'Count']\n",
    "\n",
    "# Calculate the threshold for 2% of the total\n",
    "threshold = 0.02 * pie_data['Count'].sum()\n",
    "\n",
    "# Group together countries with less than 2% of the total\n",
    "pie_data['Country of Operator/Owner'] = pie_data['Country of Operator/Owner'].where(pie_data['Count'] >= threshold, 'Other')\n",
    "\n",
    "# Aggregate the counts for the grouped data\n",
    "pie_data = pie_data.groupby('Country of Operator/Owner').sum().reset_index()\n",
    "\n",
    "# Generate the pie chart\n",
    "fig = px.pie(\n",
    "    pie_data,\n",
    "    names='Country of Operator/Owner',\n",
    "    values='Count',\n",
    "    title='Pie Chart of Country of Operator/Owner'\n",
    ")\n",
    "\n",
    "# Show the plot\n",
    "fig.show()"
   ]
  },
  {
   "cell_type": "code",
   "execution_count": 11,
   "metadata": {},
   "outputs": [
    {
     "name": "stderr",
     "output_type": "stream",
     "text": [
      "/var/folders/bh/bs5kljm140s_4k8bp_hzf8n00000gn/T/ipykernel_11373/1907393946.py:5: SettingWithCopyWarning:\n",
      "\n",
      "\n",
      "A value is trying to be set on a copy of a slice from a DataFrame.\n",
      "Try using .loc[row_indexer,col_indexer] = value instead\n",
      "\n",
      "See the caveats in the documentation: https://pandas.pydata.org/pandas-docs/stable/user_guide/indexing.html#returning-a-view-versus-a-copy\n",
      "\n",
      "/var/folders/bh/bs5kljm140s_4k8bp_hzf8n00000gn/T/ipykernel_11373/1907393946.py:8: SettingWithCopyWarning:\n",
      "\n",
      "\n",
      "A value is trying to be set on a copy of a slice from a DataFrame.\n",
      "Try using .loc[row_indexer,col_indexer] = value instead\n",
      "\n",
      "See the caveats in the documentation: https://pandas.pydata.org/pandas-docs/stable/user_guide/indexing.html#returning-a-view-versus-a-copy\n",
      "\n"
     ]
    },
    {
     "data": {
      "image/png": "[encoded data removed]",
      "text/plain": [
       "<Figure size 1400x800 with 1 Axes>"
      ]
     },
     "metadata": {},
     "output_type": "display_data"
    },
    {
     "data": {
      "image/png": "[encoded data removed]",
      "text/plain": [
       "<Figure size 1400x800 with 1 Axes>"
      ]
     },
     "metadata": {},
     "output_type": "display_data"
    }
   ],
   "source": [
    "import pandas as pd\n",
    "import matplotlib.pyplot as plt\n",
    "\n",
    "# Convert 'Date of Launch' column to datetime format, coercing errors to NaT\n",
    "df_clean['Date of Launch'] = pd.to_datetime(df_clean['Date of Launch'], errors='coerce')\n",
    "\n",
    "# Extract the month and year from the 'Date of Launch' column\n",
    "df_clean['Launch Month'] = df_clean['Date of Launch'].dt.to_period('M')\n",
    "\n",
    "# Group the data by 'Purpose' and 'Launch Month' to count the number of launches per month\n",
    "launch_counts = df_clean.groupby(['Launch Month', 'Purpose']).size().unstack(fill_value=0)\n",
    "\n",
    "# Calculate the threshold for grouping purposes\n",
    "threshold = 10  # You can change this to 20 if needed\n",
    "\n",
    "# Group purposes with less than the threshold into 'Other'\n",
    "purpose_counts = launch_counts.sum(axis=0)\n",
    "filtered_purposes = purpose_counts[purpose_counts >= threshold].index\n",
    "launch_counts['Other'] = launch_counts.loc[:, ~launch_counts.columns.isin(filtered_purposes)].sum(axis=1)\n",
    "launch_counts = launch_counts.loc[:, launch_counts.columns.isin(filtered_purposes) | (launch_counts.columns == 'Other')]\n",
    "\n",
    "# Plot the line chart\n",
    "plt.figure(figsize=(14, 8))\n",
    "for purpose in launch_counts.columns:\n",
    "    plt.plot(launch_counts.index.astype(str), launch_counts[purpose], label=purpose)\n",
    "\n",
    "plt.title('Frequency of Purpose Launches Over Time (Monthly)')\n",
    "plt.xlabel('Launch Month')\n",
    "plt.ylabel('Number of Launches')\n",
    "plt.legend(title='Purpose', bbox_to_anchor=(1.05, 1), loc='upper left')\n",
    "\n",
    "# Simplify the x-axis\n",
    "plt.xticks(ticks=range(0, len(launch_counts.index), 12), labels=launch_counts.index[::12].astype(str), rotation=90)\n",
    "\n",
    "plt.tight_layout()\n",
    "plt.show()\n",
    "\n",
    "# Plot the line chart for the last 18 months\n",
    "last_18_months_purpose = launch_counts.loc[launch_counts.index[-18:]]\n",
    "\n",
    "plt.figure(figsize=(14, 8))\n",
    "for purpose in last_18_months_purpose.columns:\n",
    "    plt.plot(last_18_months_purpose.index.astype(str), last_18_months_purpose[purpose], label=purpose)\n",
    "\n",
    "plt.title('Frequency of Purpose Launches Over Time (Last 18 Months)')\n",
    "plt.xlabel('Launch Month')\n",
    "plt.ylabel('Number of Launches')\n",
    "plt.legend(title='Purpose', bbox_to_anchor=(1.05, 1), loc='upper left')\n",
    "\n",
    "# Simplify the x-axis\n",
    "plt.xticks(ticks=range(0, len(last_18_months_purpose.index), 1), labels=last_18_months_purpose.index.astype(str), rotation=90)\n",
    "\n",
    "plt.tight_layout()\n",
    "plt.show()"
   ]
  },
  {
   "cell_type": "code",
   "execution_count": 12,
   "metadata": {},
   "outputs": [],
   "source": [
    "#"
   ]
  },
  {
   "cell_type": "code",
   "execution_count": 13,
   "metadata": {},
   "outputs": [
    {
     "data": {
      "image/png": "[encoded data removed]",
      "text/plain": [
       "<Figure size 1400x800 with 1 Axes>"
      ]
     },
     "metadata": {},
     "output_type": "display_data"
    }
   ],
   "source": [
    "# Extract the launch vehicle names from the cluster bar chart legend\n",
    "launch_vehicles = ['Ariane 5', 'Ariane 5 ECA', 'Falcon 9', 'LVM3', 'Long March 2D', 'Long March 3B']\n",
    "\n",
    "# Initialize an empty DataFrame to store the launch counts over time\n",
    "launch_vehicle_time_series = pd.DataFrame(index=launch_counts.index)\n",
    "\n",
    "# Populate the DataFrame with the counts of each launch vehicle over time\n",
    "for vehicle in launch_vehicles:\n",
    "    launch_vehicle_time_series[vehicle] = df_clean[df_clean['Launch Vehicle'] == vehicle].groupby('Launch Month').size()\n",
    "\n",
    "# Fill NaN values with 0\n",
    "launch_vehicle_time_series = launch_vehicle_time_series.fillna(0)\n",
    "\n",
    "# Plot the line chart\n",
    "plt.figure(figsize=(14, 8))\n",
    "for vehicle in launch_vehicles:\n",
    "    plt.plot(launch_vehicle_time_series.index.astype(str), launch_vehicle_time_series[vehicle], label=vehicle)\n",
    "\n",
    "plt.title('Frequency of Launch Vehicle Launches Over Time (Monthly)')\n",
    "plt.xlabel('Launch Month')\n",
    "plt.ylabel('Number of Launches')\n",
    "plt.legend(title='Launch Vehicle', bbox_to_anchor=(1.05, 1), loc='upper left')\n",
    "\n",
    "# Simplify the x-axis\n",
    "plt.xticks(ticks=range(0, len(launch_vehicle_time_series.index), 12), labels=launch_vehicle_time_series.index[::12].astype(str), rotation=90)\n",
    "\n",
    "plt.tight_layout()\n",
    "plt.show()"
   ]
  },
  {
   "cell_type": "code",
   "execution_count": 14,
   "metadata": {},
   "outputs": [
    {
     "data": {
      "image/png": "[encoded data removed]",
      "text/plain": [
       "<Figure size 1400x800 with 1 Axes>"
      ]
     },
     "metadata": {},
     "output_type": "display_data"
    }
   ],
   "source": [
    "# Filter the DataFrame to include only the last 18 months\n",
    "last_18_months = launch_vehicle_time_series.loc[launch_vehicle_time_series.index[-18:]]\n",
    "\n",
    "# Plot the line chart for the last 18 months\n",
    "plt.figure(figsize=(14, 8))\n",
    "for vehicle in launch_vehicles:\n",
    "    plt.plot(last_18_months.index.astype(str), last_18_months[vehicle], label=vehicle)\n",
    "\n",
    "plt.title('Frequency of Launch Vehicle Launches Over Time (Last 18 Months)')\n",
    "plt.xlabel('Launch Month')\n",
    "plt.ylabel('Number of Launches')\n",
    "plt.legend(title='Launch Vehicle', bbox_to_anchor=(1.05, 1), loc='upper left')\n",
    "\n",
    "# Simplify the x-axis\n",
    "plt.xticks(ticks=range(0, len(last_18_months.index), 1), labels=last_18_months.index.astype(str), rotation=90)\n",
    "\n",
    "plt.tight_layout()\n",
    "plt.show()"
   ]
  },
  {
   "cell_type": "code",
   "execution_count": 15,
   "metadata": {},
   "outputs": [
    {
     "data": {
      "application/vnd.plotly.v1+json": {
       "config": {
        "plotlyServerURL": "https://plot.ly"
       },
       "data": [
        {
         "domain": {
          "x": [
           0,
           1
          ],
          "y": [
           0,
           1
          ]
         },
         "hovertemplate": "Users=%{label}<br>Count=%{value}<extra></extra>",
         "labels": [
          "Civil",
          "Commercial",
          "Government",
          "Government/Commercial",
          "Military",
          "Military/Commercial",
          "Military/Government",
          "Other"
         ],
         "legendgroup": "",
         "name": "",
         "showlegend": true,
         "type": "pie",
         "values": [
          18,
          423,
          101,
          82,
          73,
          16,
          40,
          11
         ]
        }
       ],
       "layout": {
        "legend": {
         "tracegroupgap": 0
        },
        "template": {
         "data": {
          "bar": [
           {
            "error_x": {
             "color": "#2a3f5f"
            },
            "error_y": {
             "color": "#2a3f5f"
            },
            "marker": {
             "line": {
              "color": "#E5ECF6",
              "width": 0.5
             },
             "pattern": {
              "fillmode": "overlay",
              "size": 10,
              "solidity": 0.2
             }
            },
            "type": "bar"
           }
          ],
          "barpolar": [
           {
            "marker": {
             "line": {
              "color": "#E5ECF6",
              "width": 0.5
             },
             "pattern": {
              "fillmode": "overlay",
              "size": 10,
              "solidity": 0.2
             }
            },
            "type": "barpolar"
           }
          ],
          "carpet": [
           {
            "aaxis": {
             "endlinecolor": "#2a3f5f",
             "gridcolor": "white",
             "linecolor": "white",
             "minorgridcolor": "white",
             "startlinecolor": "#2a3f5f"
            },
            "baxis": {
             "endlinecolor": "#2a3f5f",
             "gridcolor": "white",
             "linecolor": "white",
             "minorgridcolor": "white",
             "startlinecolor": "#2a3f5f"
            },
            "type": "carpet"
           }
          ],
          "choropleth": [
           {
            "colorbar": {
             "outlinewidth": 0,
             "ticks": ""
            },
            "type": "choropleth"
           }
          ],
          "contour": [
           {
            "colorbar": {
             "outlinewidth": 0,
             "ticks": ""
            },
            "colorscale": [
             [
              0,
              "#0d0887"
             ],
             [
              0.1111111111111111,
              "#46039f"
             ],
             [
              0.2222222222222222,
              "#7201a8"
             ],
             [
              0.3333333333333333,
              "#9c179e"
             ],
             [
              0.4444444444444444,
              "#bd3786"
             ],
             [
              0.5555555555555556,
              "#d8576b"
             ],
             [
              0.6666666666666666,
              "#ed7953"
             ],
             [
              0.7777777777777778,
              "#fb9f3a"
             ],
             [
              0.8888888888888888,
              "#fdca26"
             ],
             [
              1,
              "#f0f921"
             ]
            ],
            "type": "contour"
           }
          ],
          "contourcarpet": [
           {
            "colorbar": {
             "outlinewidth": 0,
             "ticks": ""
            },
            "type": "contourcarpet"
           }
          ],
          "heatmap": [
           {
            "colorbar": {
             "outlinewidth": 0,
             "ticks": ""
            },
            "colorscale": [
             [
              0,
              "#0d0887"
             ],
             [
              0.1111111111111111,
              "#46039f"
             ],
             [
              0.2222222222222222,
              "#7201a8"
             ],
             [
              0.3333333333333333,
              "#9c179e"
             ],
             [
              0.4444444444444444,
              "#bd3786"
             ],
             [
              0.5555555555555556,
              "#d8576b"
             ],
             [
              0.6666666666666666,
              "#ed7953"
             ],
             [
              0.7777777777777778,
              "#fb9f3a"
             ],
             [
              0.8888888888888888,
              "#fdca26"
             ],
             [
              1,
              "#f0f921"
             ]
            ],
            "type": "heatmap"
           }
          ],
          "heatmapgl": [
           {
            "colorbar": {
             "outlinewidth": 0,
             "ticks": ""
            },
            "colorscale": [
             [
              0,
              "#0d0887"
             ],
             [
              0.1111111111111111,
              "#46039f"
             ],
             [
              0.2222222222222222,
              "#7201a8"
             ],
             [
              0.3333333333333333,
              "#9c179e"
             ],
             [
              0.4444444444444444,
              "#bd3786"
             ],
             [
              0.5555555555555556,
              "#d8576b"
             ],
             [
              0.6666666666666666,
              "#ed7953"
             ],
             [
              0.7777777777777778,
              "#fb9f3a"
             ],
             [
              0.8888888888888888,
              "#fdca26"
             ],
             [
              1,
              "#f0f921"
             ]
            ],
            "type": "heatmapgl"
           }
          ],
          "histogram": [
           {
            "marker": {
             "pattern": {
              "fillmode": "overlay",
              "size": 10,
              "solidity": 0.2
             }
            },
            "type": "histogram"
           }
          ],
          "histogram2d": [
           {
            "colorbar": {
             "outlinewidth": 0,
             "ticks": ""
            },
            "colorscale": [
             [
              0,
              "#0d0887"
             ],
             [
              0.1111111111111111,
              "#46039f"
             ],
             [
              0.2222222222222222,
              "#7201a8"
             ],
             [
              0.3333333333333333,
              "#9c179e"
             ],
             [
              0.4444444444444444,
              "#bd3786"
             ],
             [
              0.5555555555555556,
              "#d8576b"
             ],
             [
              0.6666666666666666,
              "#ed7953"
             ],
             [
              0.7777777777777778,
              "#fb9f3a"
             ],
             [
              0.8888888888888888,
              "#fdca26"
             ],
             [
              1,
              "#f0f921"
             ]
            ],
            "type": "histogram2d"
           }
          ],
          "histogram2dcontour": [
           {
            "colorbar": {
             "outlinewidth": 0,
             "ticks": ""
            },
            "colorscale": [
             [
              0,
              "#0d0887"
             ],
             [
              0.1111111111111111,
              "#46039f"
             ],
             [
              0.2222222222222222,
              "#7201a8"
             ],
             [
              0.3333333333333333,
              "#9c179e"
             ],
             [
              0.4444444444444444,
              "#bd3786"
             ],
             [
              0.5555555555555556,
              "#d8576b"
             ],
             [
              0.6666666666666666,
              "#ed7953"
             ],
             [
              0.7777777777777778,
              "#fb9f3a"
             ],
             [
              0.8888888888888888,
              "#fdca26"
             ],
             [
              1,
              "#f0f921"
             ]
            ],
            "type": "histogram2dcontour"
           }
          ],
          "mesh3d": [
           {
            "colorbar": {
             "outlinewidth": 0,
             "ticks": ""
            },
            "type": "mesh3d"
           }
          ],
          "parcoords": [
           {
            "line": {
             "colorbar": {
              "outlinewidth": 0,
              "ticks": ""
             }
            },
            "type": "parcoords"
           }
          ],
          "pie": [
           {
            "automargin": true,
            "type": "pie"
           }
          ],
          "scatter": [
           {
            "fillpattern": {
             "fillmode": "overlay",
             "size": 10,
             "solidity": 0.2
            },
            "type": "scatter"
           }
          ],
          "scatter3d": [
           {
            "line": {
             "colorbar": {
              "outlinewidth": 0,
              "ticks": ""
             }
            },
            "marker": {
             "colorbar": {
              "outlinewidth": 0,
              "ticks": ""
             }
            },
            "type": "scatter3d"
           }
          ],
          "scattercarpet": [
           {
            "marker": {
             "colorbar": {
              "outlinewidth": 0,
              "ticks": ""
             }
            },
            "type": "scattercarpet"
           }
          ],
          "scattergeo": [
           {
            "marker": {
             "colorbar": {
              "outlinewidth": 0,
              "ticks": ""
             }
            },
            "type": "scattergeo"
           }
          ],
          "scattergl": [
           {
            "marker": {
             "colorbar": {
              "outlinewidth": 0,
              "ticks": ""
             }
            },
            "type": "scattergl"
           }
          ],
          "scattermapbox": [
           {
            "marker": {
             "colorbar": {
              "outlinewidth": 0,
              "ticks": ""
             }
            },
            "type": "scattermapbox"
           }
          ],
          "scatterpolar": [
           {
            "marker": {
             "colorbar": {
              "outlinewidth": 0,
              "ticks": ""
             }
            },
            "type": "scatterpolar"
           }
          ],
          "scatterpolargl": [
           {
            "marker": {
             "colorbar": {
              "outlinewidth": 0,
              "ticks": ""
             }
            },
            "type": "scatterpolargl"
           }
          ],
          "scatterternary": [
           {
            "marker": {
             "colorbar": {
              "outlinewidth": 0,
              "ticks": ""
             }
            },
            "type": "scatterternary"
           }
          ],
          "surface": [
           {
            "colorbar": {
             "outlinewidth": 0,
             "ticks": ""
            },
            "colorscale": [
             [
              0,
              "#0d0887"
             ],
             [
              0.1111111111111111,
              "#46039f"
             ],
             [
              0.2222222222222222,
              "#7201a8"
             ],
             [
              0.3333333333333333,
              "#9c179e"
             ],
             [
              0.4444444444444444,
              "#bd3786"
             ],
             [
              0.5555555555555556,
              "#d8576b"
             ],
             [
              0.6666666666666666,
              "#ed7953"
             ],
             [
              0.7777777777777778,
              "#fb9f3a"
             ],
             [
              0.8888888888888888,
              "#fdca26"
             ],
             [
              1,
              "#f0f921"
             ]
            ],
            "type": "surface"
           }
          ],
          "table": [
           {
            "cells": {
             "fill": {
              "color": "#EBF0F8"
             },
             "line": {
              "color": "white"
             }
            },
            "header": {
             "fill": {
              "color": "#C8D4E3"
             },
             "line": {
              "color": "white"
             }
            },
            "type": "table"
           }
          ]
         },
         "layout": {
          "annotationdefaults": {
           "arrowcolor": "#2a3f5f",
           "arrowhead": 0,
           "arrowwidth": 1
          },
          "autotypenumbers": "strict",
          "coloraxis": {
           "colorbar": {
            "outlinewidth": 0,
            "ticks": ""
           }
          },
          "colorscale": {
           "diverging": [
            [
             0,
             "#8e0152"
            ],
            [
             0.1,
             "#c51b7d"
            ],
            [
             0.2,
             "#de77ae"
            ],
            [
             0.3,
             "#f1b6da"
            ],
            [
             0.4,
             "#fde0ef"
            ],
            [
             0.5,
             "#f7f7f7"
            ],
            [
             0.6,
             "#e6f5d0"
            ],
            [
             0.7,
             "#b8e186"
            ],
            [
             0.8,
             "#7fbc41"
            ],
            [
             0.9,
             "#4d9221"
            ],
            [
             1,
             "#276419"
            ]
           ],
           "sequential": [
            [
             0,
             "#0d0887"
            ],
            [
             0.1111111111111111,
             "#46039f"
            ],
            [
             0.2222222222222222,
             "#7201a8"
            ],
            [
             0.3333333333333333,
             "#9c179e"
            ],
            [
             0.4444444444444444,
             "#bd3786"
            ],
            [
             0.5555555555555556,
             "#d8576b"
            ],
            [
             0.6666666666666666,
             "#ed7953"
            ],
            [
             0.7777777777777778,
             "#fb9f3a"
            ],
            [
             0.8888888888888888,
             "#fdca26"
            ],
            [
             1,
             "#f0f921"
            ]
           ],
           "sequentialminus": [
            [
             0,
             "#0d0887"
            ],
            [
             0.1111111111111111,
             "#46039f"
            ],
            [
             0.2222222222222222,
             "#7201a8"
            ],
            [
             0.3333333333333333,
             "#9c179e"
            ],
            [
             0.4444444444444444,
             "#bd3786"
            ],
            [
             0.5555555555555556,
             "#d8576b"
            ],
            [
             0.6666666666666666,
             "#ed7953"
            ],
            [
             0.7777777777777778,
             "#fb9f3a"
            ],
            [
             0.8888888888888888,
             "#fdca26"
            ],
            [
             1,
             "#f0f921"
            ]
           ]
          },
          "colorway": [
           "#636efa",
           "#EF553B",
           "#00cc96",
           "#ab63fa",
           "#FFA15A",
           "#19d3f3",
           "#FF6692",
           "#B6E880",
           "#FF97FF",
           "#FECB52"
          ],
          "font": {
           "color": "#2a3f5f"
          },
          "geo": {
           "bgcolor": "white",
           "lakecolor": "white",
           "landcolor": "#E5ECF6",
           "showlakes": true,
           "showland": true,
           "subunitcolor": "white"
          },
          "hoverlabel": {
           "align": "left"
          },
          "hovermode": "closest",
          "mapbox": {
           "style": "light"
          },
          "paper_bgcolor": "white",
          "plot_bgcolor": "#E5ECF6",
          "polar": {
           "angularaxis": {
            "gridcolor": "white",
            "linecolor": "white",
            "ticks": ""
           },
           "bgcolor": "#E5ECF6",
           "radialaxis": {
            "gridcolor": "white",
            "linecolor": "white",
            "ticks": ""
           }
          },
          "scene": {
           "xaxis": {
            "backgroundcolor": "#E5ECF6",
            "gridcolor": "white",
            "gridwidth": 2,
            "linecolor": "white",
            "showbackground": true,
            "ticks": "",
            "zerolinecolor": "white"
           },
           "yaxis": {
            "backgroundcolor": "#E5ECF6",
            "gridcolor": "white",
            "gridwidth": 2,
            "linecolor": "white",
            "showbackground": true,
            "ticks": "",
            "zerolinecolor": "white"
           },
           "zaxis": {
            "backgroundcolor": "#E5ECF6",
            "gridcolor": "white",
            "gridwidth": 2,
            "linecolor": "white",
            "showbackground": true,
            "ticks": "",
            "zerolinecolor": "white"
           }
          },
          "shapedefaults": {
           "line": {
            "color": "#2a3f5f"
           }
          },
          "ternary": {
           "aaxis": {
            "gridcolor": "white",
            "linecolor": "white",
            "ticks": ""
           },
           "baxis": {
            "gridcolor": "white",
            "linecolor": "white",
            "ticks": ""
           },
           "bgcolor": "#E5ECF6",
           "caxis": {
            "gridcolor": "white",
            "linecolor": "white",
            "ticks": ""
           }
          },
          "title": {
           "x": 0.05
          },
          "xaxis": {
           "automargin": true,
           "gridcolor": "white",
           "linecolor": "white",
           "ticks": "",
           "title": {
            "standoff": 15
           },
           "zerolinecolor": "white",
           "zerolinewidth": 2
          },
          "yaxis": {
           "automargin": true,
           "gridcolor": "white",
           "linecolor": "white",
           "ticks": "",
           "title": {
            "standoff": 15
           },
           "zerolinecolor": "white",
           "zerolinewidth": 2
          }
         }
        },
        "title": {
         "text": "Pie Chart of Users"
        }
       }
      }
     },
     "metadata": {},
     "output_type": "display_data"
    },
    {
     "data": {
      "application/vnd.plotly.v1+json": {
       "config": {
        "plotlyServerURL": "https://plot.ly"
       },
       "data": [
        {
         "domain": {
          "x": [
           0,
           1
          ],
          "y": [
           0,
           1
          ]
         },
         "hovertemplate": "Purpose=%{label}<br>Count=%{value}<extra></extra>",
         "labels": [
          "Communications",
          "Earth Observation",
          "Navigation/Global Positioning",
          "Other",
          "Space Science",
          "Technology Demonstration",
          "Technology Development"
         ],
         "legendgroup": "",
         "name": "",
         "showlegend": true,
         "type": "pie",
         "values": [
          455,
          133,
          58,
          42,
          20,
          22,
          34
         ]
        }
       ],
       "layout": {
        "legend": {
         "tracegroupgap": 0
        },
        "template": {
         "data": {
          "bar": [
           {
            "error_x": {
             "color": "#2a3f5f"
            },
            "error_y": {
             "color": "#2a3f5f"
            },
            "marker": {
             "line": {
              "color": "#E5ECF6",
              "width": 0.5
             },
             "pattern": {
              "fillmode": "overlay",
              "size": 10,
              "solidity": 0.2
             }
            },
            "type": "bar"
           }
          ],
          "barpolar": [
           {
            "marker": {
             "line": {
              "color": "#E5ECF6",
              "width": 0.5
             },
             "pattern": {
              "fillmode": "overlay",
              "size": 10,
              "solidity": 0.2
             }
            },
            "type": "barpolar"
           }
          ],
          "carpet": [
           {
            "aaxis": {
             "endlinecolor": "#2a3f5f",
             "gridcolor": "white",
             "linecolor": "white",
             "minorgridcolor": "white",
             "startlinecolor": "#2a3f5f"
            },
            "baxis": {
             "endlinecolor": "#2a3f5f",
             "gridcolor": "white",
             "linecolor": "white",
             "minorgridcolor": "white",
             "startlinecolor": "#2a3f5f"
            },
            "type": "carpet"
           }
          ],
          "choropleth": [
           {
            "colorbar": {
             "outlinewidth": 0,
             "ticks": ""
            },
            "type": "choropleth"
           }
          ],
          "contour": [
           {
            "colorbar": {
             "outlinewidth": 0,
             "ticks": ""
            },
            "colorscale": [
             [
              0,
              "#0d0887"
             ],
             [
              0.1111111111111111,
              "#46039f"
             ],
             [
              0.2222222222222222,
              "#7201a8"
             ],
             [
              0.3333333333333333,
              "#9c179e"
             ],
             [
              0.4444444444444444,
              "#bd3786"
             ],
             [
              0.5555555555555556,
              "#d8576b"
             ],
             [
              0.6666666666666666,
              "#ed7953"
             ],
             [
              0.7777777777777778,
              "#fb9f3a"
             ],
             [
              0.8888888888888888,
              "#fdca26"
             ],
             [
              1,
              "#f0f921"
             ]
            ],
            "type": "contour"
           }
          ],
          "contourcarpet": [
           {
            "colorbar": {
             "outlinewidth": 0,
             "ticks": ""
            },
            "type": "contourcarpet"
           }
          ],
          "heatmap": [
           {
            "colorbar": {
             "outlinewidth": 0,
             "ticks": ""
            },
            "colorscale": [
             [
              0,
              "#0d0887"
             ],
             [
              0.1111111111111111,
              "#46039f"
             ],
             [
              0.2222222222222222,
              "#7201a8"
             ],
             [
              0.3333333333333333,
              "#9c179e"
             ],
             [
              0.4444444444444444,
              "#bd3786"
             ],
             [
              0.5555555555555556,
              "#d8576b"
             ],
             [
              0.6666666666666666,
              "#ed7953"
             ],
             [
              0.7777777777777778,
              "#fb9f3a"
             ],
             [
              0.8888888888888888,
              "#fdca26"
             ],
             [
              1,
              "#f0f921"
             ]
            ],
            "type": "heatmap"
           }
          ],
          "heatmapgl": [
           {
            "colorbar": {
             "outlinewidth": 0,
             "ticks": ""
            },
            "colorscale": [
             [
              0,
              "#0d0887"
             ],
             [
              0.1111111111111111,
              "#46039f"
             ],
             [
              0.2222222222222222,
              "#7201a8"
             ],
             [
              0.3333333333333333,
              "#9c179e"
             ],
             [
              0.4444444444444444,
              "#bd3786"
             ],
             [
              0.5555555555555556,
              "#d8576b"
             ],
             [
              0.6666666666666666,
              "#ed7953"
             ],
             [
              0.7777777777777778,
              "#fb9f3a"
             ],
             [
              0.8888888888888888,
              "#fdca26"
             ],
             [
              1,
              "#f0f921"
             ]
            ],
            "type": "heatmapgl"
           }
          ],
          "histogram": [
           {
            "marker": {
             "pattern": {
              "fillmode": "overlay",
              "size": 10,
              "solidity": 0.2
             }
            },
            "type": "histogram"
           }
          ],
          "histogram2d": [
           {
            "colorbar": {
             "outlinewidth": 0,
             "ticks": ""
            },
            "colorscale": [
             [
              0,
              "#0d0887"
             ],
             [
              0.1111111111111111,
              "#46039f"
             ],
             [
              0.2222222222222222,
              "#7201a8"
             ],
             [
              0.3333333333333333,
              "#9c179e"
             ],
             [
              0.4444444444444444,
              "#bd3786"
             ],
             [
              0.5555555555555556,
              "#d8576b"
             ],
             [
              0.6666666666666666,
              "#ed7953"
             ],
             [
              0.7777777777777778,
              "#fb9f3a"
             ],
             [
              0.8888888888888888,
              "#fdca26"
             ],
             [
              1,
              "#f0f921"
             ]
            ],
            "type": "histogram2d"
           }
          ],
          "histogram2dcontour": [
           {
            "colorbar": {
             "outlinewidth": 0,
             "ticks": ""
            },
            "colorscale": [
             [
              0,
              "#0d0887"
             ],
             [
              0.1111111111111111,
              "#46039f"
             ],
             [
              0.2222222222222222,
              "#7201a8"
             ],
             [
              0.3333333333333333,
              "#9c179e"
             ],
             [
              0.4444444444444444,
              "#bd3786"
             ],
             [
              0.5555555555555556,
              "#d8576b"
             ],
             [
              0.6666666666666666,
              "#ed7953"
             ],
             [
              0.7777777777777778,
              "#fb9f3a"
             ],
             [
              0.8888888888888888,
              "#fdca26"
             ],
             [
              1,
              "#f0f921"
             ]
            ],
            "type": "histogram2dcontour"
           }
          ],
          "mesh3d": [
           {
            "colorbar": {
             "outlinewidth": 0,
             "ticks": ""
            },
            "type": "mesh3d"
           }
          ],
          "parcoords": [
           {
            "line": {
             "colorbar": {
              "outlinewidth": 0,
              "ticks": ""
             }
            },
            "type": "parcoords"
           }
          ],
          "pie": [
           {
            "automargin": true,
            "type": "pie"
           }
          ],
          "scatter": [
           {
            "fillpattern": {
             "fillmode": "overlay",
             "size": 10,
             "solidity": 0.2
            },
            "type": "scatter"
           }
          ],
          "scatter3d": [
           {
            "line": {
             "colorbar": {
              "outlinewidth": 0,
              "ticks": ""
             }
            },
            "marker": {
             "colorbar": {
              "outlinewidth": 0,
              "ticks": ""
             }
            },
            "type": "scatter3d"
           }
          ],
          "scattercarpet": [
           {
            "marker": {
             "colorbar": {
              "outlinewidth": 0,
              "ticks": ""
             }
            },
            "type": "scattercarpet"
           }
          ],
          "scattergeo": [
           {
            "marker": {
             "colorbar": {
              "outlinewidth": 0,
              "ticks": ""
             }
            },
            "type": "scattergeo"
           }
          ],
          "scattergl": [
           {
            "marker": {
             "colorbar": {
              "outlinewidth": 0,
              "ticks": ""
             }
            },
            "type": "scattergl"
           }
          ],
          "scattermapbox": [
           {
            "marker": {
             "colorbar": {
              "outlinewidth": 0,
              "ticks": ""
             }
            },
            "type": "scattermapbox"
           }
          ],
          "scatterpolar": [
           {
            "marker": {
             "colorbar": {
              "outlinewidth": 0,
              "ticks": ""
             }
            },
            "type": "scatterpolar"
           }
          ],
          "scatterpolargl": [
           {
            "marker": {
             "colorbar": {
              "outlinewidth": 0,
              "ticks": ""
             }
            },
            "type": "scatterpolargl"
           }
          ],
          "scatterternary": [
           {
            "marker": {
             "colorbar": {
              "outlinewidth": 0,
              "ticks": ""
             }
            },
            "type": "scatterternary"
           }
          ],
          "surface": [
           {
            "colorbar": {
             "outlinewidth": 0,
             "ticks": ""
            },
            "colorscale": [
             [
              0,
              "#0d0887"
             ],
             [
              0.1111111111111111,
              "#46039f"
             ],
             [
              0.2222222222222222,
              "#7201a8"
             ],
             [
              0.3333333333333333,
              "#9c179e"
             ],
             [
              0.4444444444444444,
              "#bd3786"
             ],
             [
              0.5555555555555556,
              "#d8576b"
             ],
             [
              0.6666666666666666,
              "#ed7953"
             ],
             [
              0.7777777777777778,
              "#fb9f3a"
             ],
             [
              0.8888888888888888,
              "#fdca26"
             ],
             [
              1,
              "#f0f921"
             ]
            ],
            "type": "surface"
           }
          ],
          "table": [
           {
            "cells": {
             "fill": {
              "color": "#EBF0F8"
             },
             "line": {
              "color": "white"
             }
            },
            "header": {
             "fill": {
              "color": "#C8D4E3"
             },
             "line": {
              "color": "white"
             }
            },
            "type": "table"
           }
          ]
         },
         "layout": {
          "annotationdefaults": {
           "arrowcolor": "#2a3f5f",
           "arrowhead": 0,
           "arrowwidth": 1
          },
          "autotypenumbers": "strict",
          "coloraxis": {
           "colorbar": {
            "outlinewidth": 0,
            "ticks": ""
           }
          },
          "colorscale": {
           "diverging": [
            [
             0,
             "#8e0152"
            ],
            [
             0.1,
             "#c51b7d"
            ],
            [
             0.2,
             "#de77ae"
            ],
            [
             0.3,
             "#f1b6da"
            ],
            [
             0.4,
             "#fde0ef"
            ],
            [
             0.5,
             "#f7f7f7"
            ],
            [
             0.6,
             "#e6f5d0"
            ],
            [
             0.7,
             "#b8e186"
            ],
            [
             0.8,
             "#7fbc41"
            ],
            [
             0.9,
             "#4d9221"
            ],
            [
             1,
             "#276419"
            ]
           ],
           "sequential": [
            [
             0,
             "#0d0887"
            ],
            [
             0.1111111111111111,
             "#46039f"
            ],
            [
             0.2222222222222222,
             "#7201a8"
            ],
            [
             0.3333333333333333,
             "#9c179e"
            ],
            [
             0.4444444444444444,
             "#bd3786"
            ],
            [
             0.5555555555555556,
             "#d8576b"
            ],
            [
             0.6666666666666666,
             "#ed7953"
            ],
            [
             0.7777777777777778,
             "#fb9f3a"
            ],
            [
             0.8888888888888888,
             "#fdca26"
            ],
            [
             1,
             "#f0f921"
            ]
           ],
           "sequentialminus": [
            [
             0,
             "#0d0887"
            ],
            [
             0.1111111111111111,
             "#46039f"
            ],
            [
             0.2222222222222222,
             "#7201a8"
            ],
            [
             0.3333333333333333,
             "#9c179e"
            ],
            [
             0.4444444444444444,
             "#bd3786"
            ],
            [
             0.5555555555555556,
             "#d8576b"
            ],
            [
             0.6666666666666666,
             "#ed7953"
            ],
            [
             0.7777777777777778,
             "#fb9f3a"
            ],
            [
             0.8888888888888888,
             "#fdca26"
            ],
            [
             1,
             "#f0f921"
            ]
           ]
          },
          "colorway": [
           "#636efa",
           "#EF553B",
           "#00cc96",
           "#ab63fa",
           "#FFA15A",
           "#19d3f3",
           "#FF6692",
           "#B6E880",
           "#FF97FF",
           "#FECB52"
          ],
          "font": {
           "color": "#2a3f5f"
          },
          "geo": {
           "bgcolor": "white",
           "lakecolor": "white",
           "landcolor": "#E5ECF6",
           "showlakes": true,
           "showland": true,
           "subunitcolor": "white"
          },
          "hoverlabel": {
           "align": "left"
          },
          "hovermode": "closest",
          "mapbox": {
           "style": "light"
          },
          "paper_bgcolor": "white",
          "plot_bgcolor": "#E5ECF6",
          "polar": {
           "angularaxis": {
            "gridcolor": "white",
            "linecolor": "white",
            "ticks": ""
           },
           "bgcolor": "#E5ECF6",
           "radialaxis": {
            "gridcolor": "white",
            "linecolor": "white",
            "ticks": ""
           }
          },
          "scene": {
           "xaxis": {
            "backgroundcolor": "#E5ECF6",
            "gridcolor": "white",
            "gridwidth": 2,
            "linecolor": "white",
            "showbackground": true,
            "ticks": "",
            "zerolinecolor": "white"
           },
           "yaxis": {
            "backgroundcolor": "#E5ECF6",
            "gridcolor": "white",
            "gridwidth": 2,
            "linecolor": "white",
            "showbackground": true,
            "ticks": "",
            "zerolinecolor": "white"
           },
           "zaxis": {
            "backgroundcolor": "#E5ECF6",
            "gridcolor": "white",
            "gridwidth": 2,
            "linecolor": "white",
            "showbackground": true,
            "ticks": "",
            "zerolinecolor": "white"
           }
          },
          "shapedefaults": {
           "line": {
            "color": "#2a3f5f"
           }
          },
          "ternary": {
           "aaxis": {
            "gridcolor": "white",
            "linecolor": "white",
            "ticks": ""
           },
           "baxis": {
            "gridcolor": "white",
            "linecolor": "white",
            "ticks": ""
           },
           "bgcolor": "#E5ECF6",
           "caxis": {
            "gridcolor": "white",
            "linecolor": "white",
            "ticks": ""
           }
          },
          "title": {
           "x": 0.05
          },
          "xaxis": {
           "automargin": true,
           "gridcolor": "white",
           "linecolor": "white",
           "ticks": "",
           "title": {
            "standoff": 15
           },
           "zerolinecolor": "white",
           "zerolinewidth": 2
          },
          "yaxis": {
           "automargin": true,
           "gridcolor": "white",
           "linecolor": "white",
           "ticks": "",
           "title": {
            "standoff": 15
           },
           "zerolinecolor": "white",
           "zerolinewidth": 2
          }
         }
        },
        "title": {
         "text": "Pie Chart of Purpose"
        }
       }
      }
     },
     "metadata": {},
     "output_type": "display_data"
    }
   ],
   "source": [
    "import plotly.express as px\n",
    "\n",
    "# Group and count the occurrences of 'Users'\n",
    "user_pie_data = df_clean['Users'].value_counts().reset_index()\n",
    "user_pie_data.columns = ['Users', 'Count']\n",
    "\n",
    "# Calculate the threshold for 2% of the total\n",
    "user_threshold = 0.02 * user_pie_data['Count'].sum()\n",
    "\n",
    "# Group together users with less than 2% of the total\n",
    "user_pie_data['Users'] = user_pie_data['Users'].where(user_pie_data['Count'] >= user_threshold, 'Other')\n",
    "\n",
    "# Aggregate the counts for the grouped data\n",
    "user_pie_data = user_pie_data.groupby('Users').sum().reset_index()\n",
    "\n",
    "# Generate the pie chart for Users\n",
    "fig_user = px.pie(\n",
    "    user_pie_data,\n",
    "    names='Users',\n",
    "    values='Count',\n",
    "    title='Pie Chart of Users'\n",
    ")\n",
    "\n",
    "# Show the plot for Users\n",
    "fig_user.show()\n",
    "\n",
    "# Group and count the occurrences of 'Purpose'\n",
    "purpose_pie_data = df_clean['Purpose'].value_counts().reset_index()\n",
    "purpose_pie_data.columns = ['Purpose', 'Count']\n",
    "\n",
    "# Calculate the threshold for 2% of the total\n",
    "purpose_threshold = 0.02 * purpose_pie_data['Count'].sum()\n",
    "\n",
    "# Group together purposes with less than 2% of the total\n",
    "purpose_pie_data['Purpose'] = purpose_pie_data['Purpose'].where(purpose_pie_data['Count'] >= purpose_threshold, 'Other')\n",
    "\n",
    "# Aggregate the counts for the grouped data\n",
    "purpose_pie_data = purpose_pie_data.groupby('Purpose').sum().reset_index()\n",
    "\n",
    "# Generate the pie chart for Purpose\n",
    "fig_purpose = px.pie(\n",
    "    purpose_pie_data,\n",
    "    names='Purpose',\n",
    "    values='Count',\n",
    "    title='Pie Chart of Purpose'\n",
    ")\n",
    "\n",
    "# Show the plot for Purpose\n",
    "fig_purpose.show()"
   ]
  }
 ],
 "metadata": {
  "kernelspec": {
   "display_name": "base",
   "language": "python",
   "name": "python3"
  },
  "language_info": {
   "codemirror_mode": {
    "name": "ipython",
    "version": 3
   },
   "file_extension": ".py",
   "mimetype": "text/x-python",
   "name": "python",
   "nbconvert_exporter": "python",
   "pygments_lexer": "ipython3",
   "version": "3.12.2"
  }
 },
 "nbformat": 4,
 "nbformat_minor": 2
}
